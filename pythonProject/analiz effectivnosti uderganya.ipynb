{
 "cells": [
  {
   "cell_type": "markdown",
   "metadata": {},
   "source": [
    "В этом задании вам предлагается проанализировать данные одной из американских телекоммуникационных компаний о пользователях, которые потенциально могут уйти.\n",
    "Измерены следующие признаки:\n",
    "\n",
    "state — штат США\n",
    "\n",
    "account_length — длительность использования аккаунта\n",
    "\n",
    "area_code — деление пользователей на псевдорегионы, использующееся в телекоме\n",
    "\n",
    "intl_plan — подключена ли у пользователя услуга международного общения\n",
    "\n",
    "vmail_plan — подключена ли у пользователя услуга голосовых сообщений\n",
    "\n",
    "vmail_message — количество голосых сообщений, который пользователь отправил / принял\n",
    "\n",
    "day_calls — сколько пользователь совершил дневных звонков\n",
    "\n",
    "day_mins — сколько пользователь проговорил минут в течение дня\n",
    "\n",
    "day_charge — сколько пользователь заплатил за свою дневную активность\n",
    "\n",
    "eve_calls, eve_mins, eve_charge — аналогичные метрики относительно вечерней активности\n",
    "\n",
    "night_calls, night_mins, night_charge — аналогичные метрики относительно ночной активности\n",
    "\n",
    "intl_calls, intl_mins, intl_charge — аналогичные метрики относительно международного общения\n",
    "\n",
    "custserv_calls — сколько раз пользователь позвонил в службу поддержки\n",
    "\n",
    "treatment — номер стратегии, которая применялись для удержания абонентов (0, 2 = два разных типа воздействия, 1 = контрольная группа)\n",
    "\n",
    "mes_estim — оценка интенсивности пользования интернет мессенджерами\n",
    "\n",
    "churn — результат оттока: перестал ли абонент пользоваться услугами оператора\n",
    "\n",
    "Давайте рассмотрим всех пользователей из контрольной группы (treatment = 1). Для таких пользователей мы хотим проверить гипотезу о том, что штат абонента не влияет на то, перестанет ли абонент пользоваться услугами оператора.\n",
    "\n",
    "Для этого мы воспользуемся критерием хи-квадрат. Постройте таблицы сопряженности между каждой из всех 1275 возможных неупорядоченных пар штатов и значением признака churn. Для каждой такой таблицы 2x2 применить критерий хи-квадрат можно с помощью функции scipy.stats.chi2_contingency(subtable, correction=False)"
   ]
  },
  {
   "cell_type": "code",
   "execution_count": 2,
   "metadata": {},
   "outputs": [],
   "source": [
    "import statsmodels\n",
    "import scipy as sc\n",
    "import numpy as np\n",
    "import pandas as pd\n",
    "import statsmodels.formula.api as smf\n",
    "import statsmodels.stats.api as sms\n",
    "from statsmodels.graphics.regressionplots import plot_leverage_resid2\n",
    "import matplotlib.pyplot as plt\n",
    "import itertools"
   ]
  },
  {
   "cell_type": "code",
   "execution_count": 3,
   "metadata": {},
   "outputs": [
    {
     "output_type": "execute_result",
     "data": {
      "text/plain": "   Unnamed: 0 state  account_length  area_code intl_plan vmail_plan  \\\n0           0    KS             128        415        no        yes   \n1           1    OH             107        415        no        yes   \n2           2    NJ             137        415        no         no   \n3           3    OH              84        408       yes         no   \n4           4    OK              75        415       yes         no   \n\n   vmail_message  day_mins  day_calls  day_charge  ...  night_mins  \\\n0             25     265.1        110       45.07  ...       244.7   \n1             26     161.6        123       27.47  ...       254.4   \n2              0     243.4        114       41.38  ...       162.6   \n3              0     299.4         71       50.90  ...       196.9   \n4              0     166.7        113       28.34  ...       186.9   \n\n   night_calls  night_charge  intl_mins  intl_calls  intl_charge  \\\n0           91         11.01       10.0           3         2.70   \n1          103         11.45       13.7           3         3.70   \n2          104          7.32       12.2           5         3.29   \n3           89          8.86        6.6           7         1.78   \n4          121          8.41       10.1           3         2.73   \n\n   custserv_calls  treatment  mes_estim   churn  \n0               1          1       0.65  False.  \n1               1          0       0.55  False.  \n2               0          0       0.72  False.  \n3               2          1       0.28  False.  \n4               3          2       0.45  False.  \n\n[5 rows x 23 columns]",
      "text/html": "<div>\n<style scoped>\n    .dataframe tbody tr th:only-of-type {\n        vertical-align: middle;\n    }\n\n    .dataframe tbody tr th {\n        vertical-align: top;\n    }\n\n    .dataframe thead th {\n        text-align: right;\n    }\n</style>\n<table border=\"1\" class=\"dataframe\">\n  <thead>\n    <tr style=\"text-align: right;\">\n      <th></th>\n      <th>Unnamed: 0</th>\n      <th>state</th>\n      <th>account_length</th>\n      <th>area_code</th>\n      <th>intl_plan</th>\n      <th>vmail_plan</th>\n      <th>vmail_message</th>\n      <th>day_mins</th>\n      <th>day_calls</th>\n      <th>day_charge</th>\n      <th>...</th>\n      <th>night_mins</th>\n      <th>night_calls</th>\n      <th>night_charge</th>\n      <th>intl_mins</th>\n      <th>intl_calls</th>\n      <th>intl_charge</th>\n      <th>custserv_calls</th>\n      <th>treatment</th>\n      <th>mes_estim</th>\n      <th>churn</th>\n    </tr>\n  </thead>\n  <tbody>\n    <tr>\n      <th>0</th>\n      <td>0</td>\n      <td>KS</td>\n      <td>128</td>\n      <td>415</td>\n      <td>no</td>\n      <td>yes</td>\n      <td>25</td>\n      <td>265.1</td>\n      <td>110</td>\n      <td>45.07</td>\n      <td>...</td>\n      <td>244.7</td>\n      <td>91</td>\n      <td>11.01</td>\n      <td>10.0</td>\n      <td>3</td>\n      <td>2.70</td>\n      <td>1</td>\n      <td>1</td>\n      <td>0.65</td>\n      <td>False.</td>\n    </tr>\n    <tr>\n      <th>1</th>\n      <td>1</td>\n      <td>OH</td>\n      <td>107</td>\n      <td>415</td>\n      <td>no</td>\n      <td>yes</td>\n      <td>26</td>\n      <td>161.6</td>\n      <td>123</td>\n      <td>27.47</td>\n      <td>...</td>\n      <td>254.4</td>\n      <td>103</td>\n      <td>11.45</td>\n      <td>13.7</td>\n      <td>3</td>\n      <td>3.70</td>\n      <td>1</td>\n      <td>0</td>\n      <td>0.55</td>\n      <td>False.</td>\n    </tr>\n    <tr>\n      <th>2</th>\n      <td>2</td>\n      <td>NJ</td>\n      <td>137</td>\n      <td>415</td>\n      <td>no</td>\n      <td>no</td>\n      <td>0</td>\n      <td>243.4</td>\n      <td>114</td>\n      <td>41.38</td>\n      <td>...</td>\n      <td>162.6</td>\n      <td>104</td>\n      <td>7.32</td>\n      <td>12.2</td>\n      <td>5</td>\n      <td>3.29</td>\n      <td>0</td>\n      <td>0</td>\n      <td>0.72</td>\n      <td>False.</td>\n    </tr>\n    <tr>\n      <th>3</th>\n      <td>3</td>\n      <td>OH</td>\n      <td>84</td>\n      <td>408</td>\n      <td>yes</td>\n      <td>no</td>\n      <td>0</td>\n      <td>299.4</td>\n      <td>71</td>\n      <td>50.90</td>\n      <td>...</td>\n      <td>196.9</td>\n      <td>89</td>\n      <td>8.86</td>\n      <td>6.6</td>\n      <td>7</td>\n      <td>1.78</td>\n      <td>2</td>\n      <td>1</td>\n      <td>0.28</td>\n      <td>False.</td>\n    </tr>\n    <tr>\n      <th>4</th>\n      <td>4</td>\n      <td>OK</td>\n      <td>75</td>\n      <td>415</td>\n      <td>yes</td>\n      <td>no</td>\n      <td>0</td>\n      <td>166.7</td>\n      <td>113</td>\n      <td>28.34</td>\n      <td>...</td>\n      <td>186.9</td>\n      <td>121</td>\n      <td>8.41</td>\n      <td>10.1</td>\n      <td>3</td>\n      <td>2.73</td>\n      <td>3</td>\n      <td>2</td>\n      <td>0.45</td>\n      <td>False.</td>\n    </tr>\n  </tbody>\n</table>\n<p>5 rows × 23 columns</p>\n</div>"
     },
     "metadata": {},
     "execution_count": 3
    }
   ],
   "source": [
    "data = pd.read_csv(\"churn_analysis.csv\", index_col=False) \n",
    "data.head()"
   ]
  },
  {
   "cell_type": "code",
   "execution_count": 5,
   "metadata": {},
   "outputs": [
    {
     "output_type": "execute_result",
     "data": {
      "text/plain": "0    1133\n2    1103\n1    1097\nName: treatment, dtype: int64"
     },
     "metadata": {},
     "execution_count": 5
    }
   ],
   "source": [
    "data.treatment.value_counts()"
   ]
  },
  {
   "cell_type": "code",
   "execution_count": 6,
   "metadata": {},
   "outputs": [],
   "source": [
    "data_1 = data[data['treatment'] == 1]\n"
   ]
  },
  {
   "cell_type": "code",
   "execution_count": 7,
   "metadata": {},
   "outputs": [],
   "source": [
    "state = data_1.state.value_counts()"
   ]
  },
  {
   "cell_type": "code",
   "execution_count": 8,
   "metadata": {},
   "outputs": [
    {
     "output_type": "execute_result",
     "data": {
      "text/plain": "churn  False.  True.\nstate               \nAK         19      1\nAL         25      5\nAR         11      5\nAZ         17      2\nCA         10      5\nCO         17      5\nCT         25      5\nDC         18      1\nDE         16      1\nFL         18      2\nGA         19      2\nHI         12      1\nIA         13      2\nID         16      2\nIL         11      1\nIN         20      3\nKS         18      7\nKY         21      4\nLA         15      0\nMA         17      7\nMD         19      5\nME         20      8\nMI         17      5\nMN         19      2\nMO         17      4\nMS         20      4\nMT         22      4\nNC         16      3\nND         21      3\nNE         21      3\nNH         10      2\nNJ         20      4\nNM         27      2\nNV         18      6\nNY         27      6\nOH         22      2\nOK         11      2\nOR         18      3\nPA         14      4\nRI         18      4\nSC         16      5\nSD         20      3\nTN         11      1\nTX         14      6\nUT         18      4\nVA         20      3\nVT         18      5\nWA         16      7\nWI         22      2\nWV         27      5\nWY         20      2",
      "text/html": "<div>\n<style scoped>\n    .dataframe tbody tr th:only-of-type {\n        vertical-align: middle;\n    }\n\n    .dataframe tbody tr th {\n        vertical-align: top;\n    }\n\n    .dataframe thead th {\n        text-align: right;\n    }\n</style>\n<table border=\"1\" class=\"dataframe\">\n  <thead>\n    <tr style=\"text-align: right;\">\n      <th>churn</th>\n      <th>False.</th>\n      <th>True.</th>\n    </tr>\n    <tr>\n      <th>state</th>\n      <th></th>\n      <th></th>\n    </tr>\n  </thead>\n  <tbody>\n    <tr>\n      <th>AK</th>\n      <td>19</td>\n      <td>1</td>\n    </tr>\n    <tr>\n      <th>AL</th>\n      <td>25</td>\n      <td>5</td>\n    </tr>\n    <tr>\n      <th>AR</th>\n      <td>11</td>\n      <td>5</td>\n    </tr>\n    <tr>\n      <th>AZ</th>\n      <td>17</td>\n      <td>2</td>\n    </tr>\n    <tr>\n      <th>CA</th>\n      <td>10</td>\n      <td>5</td>\n    </tr>\n    <tr>\n      <th>CO</th>\n      <td>17</td>\n      <td>5</td>\n    </tr>\n    <tr>\n      <th>CT</th>\n      <td>25</td>\n      <td>5</td>\n    </tr>\n    <tr>\n      <th>DC</th>\n      <td>18</td>\n      <td>1</td>\n    </tr>\n    <tr>\n      <th>DE</th>\n      <td>16</td>\n      <td>1</td>\n    </tr>\n    <tr>\n      <th>FL</th>\n      <td>18</td>\n      <td>2</td>\n    </tr>\n    <tr>\n      <th>GA</th>\n      <td>19</td>\n      <td>2</td>\n    </tr>\n    <tr>\n      <th>HI</th>\n      <td>12</td>\n      <td>1</td>\n    </tr>\n    <tr>\n      <th>IA</th>\n      <td>13</td>\n      <td>2</td>\n    </tr>\n    <tr>\n      <th>ID</th>\n      <td>16</td>\n      <td>2</td>\n    </tr>\n    <tr>\n      <th>IL</th>\n      <td>11</td>\n      <td>1</td>\n    </tr>\n    <tr>\n      <th>IN</th>\n      <td>20</td>\n      <td>3</td>\n    </tr>\n    <tr>\n      <th>KS</th>\n      <td>18</td>\n      <td>7</td>\n    </tr>\n    <tr>\n      <th>KY</th>\n      <td>21</td>\n      <td>4</td>\n    </tr>\n    <tr>\n      <th>LA</th>\n      <td>15</td>\n      <td>0</td>\n    </tr>\n    <tr>\n      <th>MA</th>\n      <td>17</td>\n      <td>7</td>\n    </tr>\n    <tr>\n      <th>MD</th>\n      <td>19</td>\n      <td>5</td>\n    </tr>\n    <tr>\n      <th>ME</th>\n      <td>20</td>\n      <td>8</td>\n    </tr>\n    <tr>\n      <th>MI</th>\n      <td>17</td>\n      <td>5</td>\n    </tr>\n    <tr>\n      <th>MN</th>\n      <td>19</td>\n      <td>2</td>\n    </tr>\n    <tr>\n      <th>MO</th>\n      <td>17</td>\n      <td>4</td>\n    </tr>\n    <tr>\n      <th>MS</th>\n      <td>20</td>\n      <td>4</td>\n    </tr>\n    <tr>\n      <th>MT</th>\n      <td>22</td>\n      <td>4</td>\n    </tr>\n    <tr>\n      <th>NC</th>\n      <td>16</td>\n      <td>3</td>\n    </tr>\n    <tr>\n      <th>ND</th>\n      <td>21</td>\n      <td>3</td>\n    </tr>\n    <tr>\n      <th>NE</th>\n      <td>21</td>\n      <td>3</td>\n    </tr>\n    <tr>\n      <th>NH</th>\n      <td>10</td>\n      <td>2</td>\n    </tr>\n    <tr>\n      <th>NJ</th>\n      <td>20</td>\n      <td>4</td>\n    </tr>\n    <tr>\n      <th>NM</th>\n      <td>27</td>\n      <td>2</td>\n    </tr>\n    <tr>\n      <th>NV</th>\n      <td>18</td>\n      <td>6</td>\n    </tr>\n    <tr>\n      <th>NY</th>\n      <td>27</td>\n      <td>6</td>\n    </tr>\n    <tr>\n      <th>OH</th>\n      <td>22</td>\n      <td>2</td>\n    </tr>\n    <tr>\n      <th>OK</th>\n      <td>11</td>\n      <td>2</td>\n    </tr>\n    <tr>\n      <th>OR</th>\n      <td>18</td>\n      <td>3</td>\n    </tr>\n    <tr>\n      <th>PA</th>\n      <td>14</td>\n      <td>4</td>\n    </tr>\n    <tr>\n      <th>RI</th>\n      <td>18</td>\n      <td>4</td>\n    </tr>\n    <tr>\n      <th>SC</th>\n      <td>16</td>\n      <td>5</td>\n    </tr>\n    <tr>\n      <th>SD</th>\n      <td>20</td>\n      <td>3</td>\n    </tr>\n    <tr>\n      <th>TN</th>\n      <td>11</td>\n      <td>1</td>\n    </tr>\n    <tr>\n      <th>TX</th>\n      <td>14</td>\n      <td>6</td>\n    </tr>\n    <tr>\n      <th>UT</th>\n      <td>18</td>\n      <td>4</td>\n    </tr>\n    <tr>\n      <th>VA</th>\n      <td>20</td>\n      <td>3</td>\n    </tr>\n    <tr>\n      <th>VT</th>\n      <td>18</td>\n      <td>5</td>\n    </tr>\n    <tr>\n      <th>WA</th>\n      <td>16</td>\n      <td>7</td>\n    </tr>\n    <tr>\n      <th>WI</th>\n      <td>22</td>\n      <td>2</td>\n    </tr>\n    <tr>\n      <th>WV</th>\n      <td>27</td>\n      <td>5</td>\n    </tr>\n    <tr>\n      <th>WY</th>\n      <td>20</td>\n      <td>2</td>\n    </tr>\n  </tbody>\n</table>\n</div>"
     },
     "metadata": {},
     "execution_count": 8
    }
   ],
   "source": [
    "crosstab = pd.pivot_table(data_1, index = 'state', columns = 'churn', aggfunc='size', fill_value=0)\n",
    "(crosstab)"
   ]
  },
  {
   "cell_type": "code",
   "execution_count": 19,
   "metadata": {},
   "outputs": [
    {
     "output_type": "execute_result",
     "data": {
      "text/plain": "churn  False.  True.\nstate               \nAK         19      1\nAL         25      5\nAR         11      5\nAZ         17      2\nCA         10      5\nCO         17      5\nCT         25      5\nDC         18      1\nDE         16      1\nFL         18      2\nGA         19      2\nHI         12      1\nIA         13      2\nID         16      2\nIL         11      1\nIN         20      3\nKS         18      7\nKY         21      4\nLA         15      0\nMA         17      7\nMD         19      5\nME         20      8\nMI         17      5\nMN         19      2\nMO         17      4\nMS         20      4\nMT         22      4\nNC         16      3\nND         21      3\nNE         21      3\nNH         10      2\nNJ         20      4\nNM         27      2\nNV         18      6\nNY         27      6\nOH         22      2\nOK         11      2\nOR         18      3\nPA         14      4\nRI         18      4\nSC         16      5\nSD         20      3\nTN         11      1\nTX         14      6\nUT         18      4\nVA         20      3\nVT         18      5\nWA         16      7\nWI         22      2\nWV         27      5\nWY         20      2",
      "text/html": "<div>\n<style scoped>\n    .dataframe tbody tr th:only-of-type {\n        vertical-align: middle;\n    }\n\n    .dataframe tbody tr th {\n        vertical-align: top;\n    }\n\n    .dataframe thead th {\n        text-align: right;\n    }\n</style>\n<table border=\"1\" class=\"dataframe\">\n  <thead>\n    <tr style=\"text-align: right;\">\n      <th>churn</th>\n      <th>False.</th>\n      <th>True.</th>\n    </tr>\n    <tr>\n      <th>state</th>\n      <th></th>\n      <th></th>\n    </tr>\n  </thead>\n  <tbody>\n    <tr>\n      <th>AK</th>\n      <td>19</td>\n      <td>1</td>\n    </tr>\n    <tr>\n      <th>AL</th>\n      <td>25</td>\n      <td>5</td>\n    </tr>\n    <tr>\n      <th>AR</th>\n      <td>11</td>\n      <td>5</td>\n    </tr>\n    <tr>\n      <th>AZ</th>\n      <td>17</td>\n      <td>2</td>\n    </tr>\n    <tr>\n      <th>CA</th>\n      <td>10</td>\n      <td>5</td>\n    </tr>\n    <tr>\n      <th>CO</th>\n      <td>17</td>\n      <td>5</td>\n    </tr>\n    <tr>\n      <th>CT</th>\n      <td>25</td>\n      <td>5</td>\n    </tr>\n    <tr>\n      <th>DC</th>\n      <td>18</td>\n      <td>1</td>\n    </tr>\n    <tr>\n      <th>DE</th>\n      <td>16</td>\n      <td>1</td>\n    </tr>\n    <tr>\n      <th>FL</th>\n      <td>18</td>\n      <td>2</td>\n    </tr>\n    <tr>\n      <th>GA</th>\n      <td>19</td>\n      <td>2</td>\n    </tr>\n    <tr>\n      <th>HI</th>\n      <td>12</td>\n      <td>1</td>\n    </tr>\n    <tr>\n      <th>IA</th>\n      <td>13</td>\n      <td>2</td>\n    </tr>\n    <tr>\n      <th>ID</th>\n      <td>16</td>\n      <td>2</td>\n    </tr>\n    <tr>\n      <th>IL</th>\n      <td>11</td>\n      <td>1</td>\n    </tr>\n    <tr>\n      <th>IN</th>\n      <td>20</td>\n      <td>3</td>\n    </tr>\n    <tr>\n      <th>KS</th>\n      <td>18</td>\n      <td>7</td>\n    </tr>\n    <tr>\n      <th>KY</th>\n      <td>21</td>\n      <td>4</td>\n    </tr>\n    <tr>\n      <th>LA</th>\n      <td>15</td>\n      <td>0</td>\n    </tr>\n    <tr>\n      <th>MA</th>\n      <td>17</td>\n      <td>7</td>\n    </tr>\n    <tr>\n      <th>MD</th>\n      <td>19</td>\n      <td>5</td>\n    </tr>\n    <tr>\n      <th>ME</th>\n      <td>20</td>\n      <td>8</td>\n    </tr>\n    <tr>\n      <th>MI</th>\n      <td>17</td>\n      <td>5</td>\n    </tr>\n    <tr>\n      <th>MN</th>\n      <td>19</td>\n      <td>2</td>\n    </tr>\n    <tr>\n      <th>MO</th>\n      <td>17</td>\n      <td>4</td>\n    </tr>\n    <tr>\n      <th>MS</th>\n      <td>20</td>\n      <td>4</td>\n    </tr>\n    <tr>\n      <th>MT</th>\n      <td>22</td>\n      <td>4</td>\n    </tr>\n    <tr>\n      <th>NC</th>\n      <td>16</td>\n      <td>3</td>\n    </tr>\n    <tr>\n      <th>ND</th>\n      <td>21</td>\n      <td>3</td>\n    </tr>\n    <tr>\n      <th>NE</th>\n      <td>21</td>\n      <td>3</td>\n    </tr>\n    <tr>\n      <th>NH</th>\n      <td>10</td>\n      <td>2</td>\n    </tr>\n    <tr>\n      <th>NJ</th>\n      <td>20</td>\n      <td>4</td>\n    </tr>\n    <tr>\n      <th>NM</th>\n      <td>27</td>\n      <td>2</td>\n    </tr>\n    <tr>\n      <th>NV</th>\n      <td>18</td>\n      <td>6</td>\n    </tr>\n    <tr>\n      <th>NY</th>\n      <td>27</td>\n      <td>6</td>\n    </tr>\n    <tr>\n      <th>OH</th>\n      <td>22</td>\n      <td>2</td>\n    </tr>\n    <tr>\n      <th>OK</th>\n      <td>11</td>\n      <td>2</td>\n    </tr>\n    <tr>\n      <th>OR</th>\n      <td>18</td>\n      <td>3</td>\n    </tr>\n    <tr>\n      <th>PA</th>\n      <td>14</td>\n      <td>4</td>\n    </tr>\n    <tr>\n      <th>RI</th>\n      <td>18</td>\n      <td>4</td>\n    </tr>\n    <tr>\n      <th>SC</th>\n      <td>16</td>\n      <td>5</td>\n    </tr>\n    <tr>\n      <th>SD</th>\n      <td>20</td>\n      <td>3</td>\n    </tr>\n    <tr>\n      <th>TN</th>\n      <td>11</td>\n      <td>1</td>\n    </tr>\n    <tr>\n      <th>TX</th>\n      <td>14</td>\n      <td>6</td>\n    </tr>\n    <tr>\n      <th>UT</th>\n      <td>18</td>\n      <td>4</td>\n    </tr>\n    <tr>\n      <th>VA</th>\n      <td>20</td>\n      <td>3</td>\n    </tr>\n    <tr>\n      <th>VT</th>\n      <td>18</td>\n      <td>5</td>\n    </tr>\n    <tr>\n      <th>WA</th>\n      <td>16</td>\n      <td>7</td>\n    </tr>\n    <tr>\n      <th>WI</th>\n      <td>22</td>\n      <td>2</td>\n    </tr>\n    <tr>\n      <th>WV</th>\n      <td>27</td>\n      <td>5</td>\n    </tr>\n    <tr>\n      <th>WY</th>\n      <td>20</td>\n      <td>2</td>\n    </tr>\n  </tbody>\n</table>\n</div>"
     },
     "metadata": {},
     "execution_count": 19
    }
   ],
   "source": [
    "crosstab"
   ]
  },
  {
   "cell_type": "code",
   "execution_count": 10,
   "metadata": {
    "tags": []
   },
   "outputs": [],
   "source": [
    "res = []\n",
    "for x in (itertools.combinations((crosstab.index), 2)):\n",
    "    res.append (x)\n"
   ]
  },
  {
   "cell_type": "code",
   "execution_count": 81,
   "metadata": {
    "tags": []
   },
   "outputs": [],
   "source": [
    "chi2_contingency_no_cor = []\n",
    "for x in res[:]:\n",
    "    chi2_contingency_no_cor.append(sc.stats.chi2_contingency((crosstab.loc[x[0]], crosstab.loc[x[1]]), correction=False)[1])\n",
    "    #print (sc.stats.chi2_contingency((crosstab.loc[x[0]],crosstab.loc[x[1]]), correction=False)[1])"
   ]
  },
  {
   "cell_type": "code",
   "execution_count": 93,
   "metadata": {
    "tags": []
   },
   "outputs": [
    {
     "output_type": "stream",
     "name": "stdout",
     "text": "Ответ на первый вопрос: 34\n"
    }
   ],
   "source": [
    "k = 0\n",
    "for i in chi2_contingency_no_cor:\n",
    "    if i<0.05:\n",
    "        k = k+1\n",
    "print ('Ответ на первый вопрос:', k)"
   ]
  },
  {
   "cell_type": "code",
   "execution_count": 94,
   "metadata": {},
   "outputs": [],
   "source": [
    "chi2_contingency_cor = []\n",
    "for x in res[:]:\n",
    "    chi2_contingency_cor.append(sc.stats.chi2_contingency((crosstab.loc[x[0]], crosstab.loc[x[1]]), correction=True)[1])"
   ]
  },
  {
   "cell_type": "code",
   "execution_count": 96,
   "metadata": {
    "tags": []
   },
   "outputs": [
    {
     "output_type": "stream",
     "name": "stdout",
     "text": "Ответ на второй вопрос: 0\n"
    }
   ],
   "source": [
    "k = 0\n",
    "for i in chi2_contingency_cor:\n",
    "    if i<0.05:\n",
    "        k = k+1\n",
    "print ('Ответ на второй вопрос:', k)"
   ]
  },
  {
   "cell_type": "code",
   "execution_count": 134,
   "metadata": {
    "tags": []
   },
   "outputs": [],
   "source": [
    "#scipy.stats.fisher_exact\n",
    "stat_fisher = []\n",
    "for x in res[:]:\n",
    "    stat_fisher.append(sc.stats.fisher_exact(np.array([crosstab.loc[x[0]], crosstab.loc[x[1]]]))[1])\n",
    "    #print (np.array([crosstab.loc[x[0]], crosstab.loc[x[1]]]))"
   ]
  },
  {
   "cell_type": "code",
   "execution_count": 136,
   "metadata": {},
   "outputs": [
    {
     "output_type": "execute_result",
     "data": {
      "text/plain": "(-0.051794350587572625, 0.0027798836869756707)"
     },
     "metadata": {},
     "execution_count": 136
    }
   ],
   "source": [
    "sc.stats.pearsonr(data['day_calls'], data['mes_estim'])"
   ]
  },
  {
   "cell_type": "code",
   "execution_count": 137,
   "metadata": {},
   "outputs": [
    {
     "output_type": "execute_result",
     "data": {
      "text/plain": "SpearmanrResult(correlation=0.043349880533927444, pvalue=0.012317367189170541)"
     },
     "metadata": {},
     "execution_count": 137
    }
   ],
   "source": [
    "sc.stats.spearmanr(data['day_calls'], data['mes_estim'])"
   ]
  },
  {
   "cell_type": "code",
   "execution_count": 140,
   "metadata": {
    "tags": []
   },
   "outputs": [
    {
     "output_type": "stream",
     "name": "stdout",
     "text": "Exp clicks count difference percent: 1.614\n"
    }
   ],
   "source": [
    "frame = pd.read_csv(\"ab_browser_test.csv\", sep=\",\", header=0)\n",
    "frame.head()\n",
    "exp_clicks_count = frame[frame[\"slot\"]==\"exp\"][\"n_clicks\"].sum()\n",
    "control_clicks_count = frame[frame[\"slot\"]==\"control\"][\"n_clicks\"].sum()\n",
    "print (\"Exp clicks count difference percent: %.3f\" % np.round(float(exp_clicks_count)*100./float(control_clicks_count)-100, 3))"
   ]
  },
  {
   "cell_type": "code",
   "execution_count": 150,
   "metadata": {},
   "outputs": [
    {
     "output_type": "error",
     "ename": "AttributeError",
     "evalue": "'Series' object has no attribute 'value_count'",
     "traceback": [
      "\u001b[0;31m---------------------------------------------------------------------------\u001b[0m",
      "\u001b[0;31mAttributeError\u001b[0m                            Traceback (most recent call last)",
      "\u001b[0;32m<ipython-input-150-1077bbf9c9e0>\u001b[0m in \u001b[0;36m<module>\u001b[0;34m\u001b[0m\n\u001b[1;32m      1\u001b[0m \u001b[0mframe\u001b[0m\u001b[0;34m.\u001b[0m\u001b[0mhead\u001b[0m\u001b[0;34m(\u001b[0m\u001b[0;34m)\u001b[0m\u001b[0;34m\u001b[0m\u001b[0;34m\u001b[0m\u001b[0m\n\u001b[0;32m----> 2\u001b[0;31m \u001b[0mframe\u001b[0m\u001b[0;34m.\u001b[0m\u001b[0mbrowser\u001b[0m\u001b[0;34m.\u001b[0m\u001b[0mvalue_count\u001b[0m\u001b[0;34m(\u001b[0m\u001b[0;34m)\u001b[0m\u001b[0;34m\u001b[0m\u001b[0;34m\u001b[0m\u001b[0m\n\u001b[0m",
      "\u001b[0;32m~/.conda/envs/untitled/lib/python3.7/site-packages/pandas/core/generic.py\u001b[0m in \u001b[0;36m__getattr__\u001b[0;34m(self, name)\u001b[0m\n\u001b[1;32m   5272\u001b[0m             \u001b[0;32mif\u001b[0m \u001b[0mself\u001b[0m\u001b[0;34m.\u001b[0m\u001b[0m_info_axis\u001b[0m\u001b[0;34m.\u001b[0m\u001b[0m_can_hold_identifiers_and_holds_name\u001b[0m\u001b[0;34m(\u001b[0m\u001b[0mname\u001b[0m\u001b[0;34m)\u001b[0m\u001b[0;34m:\u001b[0m\u001b[0;34m\u001b[0m\u001b[0;34m\u001b[0m\u001b[0m\n\u001b[1;32m   5273\u001b[0m                 \u001b[0;32mreturn\u001b[0m \u001b[0mself\u001b[0m\u001b[0;34m[\u001b[0m\u001b[0mname\u001b[0m\u001b[0;34m]\u001b[0m\u001b[0;34m\u001b[0m\u001b[0;34m\u001b[0m\u001b[0m\n\u001b[0;32m-> 5274\u001b[0;31m             \u001b[0;32mreturn\u001b[0m \u001b[0mobject\u001b[0m\u001b[0;34m.\u001b[0m\u001b[0m__getattribute__\u001b[0m\u001b[0;34m(\u001b[0m\u001b[0mself\u001b[0m\u001b[0;34m,\u001b[0m \u001b[0mname\u001b[0m\u001b[0;34m)\u001b[0m\u001b[0;34m\u001b[0m\u001b[0;34m\u001b[0m\u001b[0m\n\u001b[0m\u001b[1;32m   5275\u001b[0m \u001b[0;34m\u001b[0m\u001b[0m\n\u001b[1;32m   5276\u001b[0m     \u001b[0;32mdef\u001b[0m \u001b[0m__setattr__\u001b[0m\u001b[0;34m(\u001b[0m\u001b[0mself\u001b[0m\u001b[0;34m,\u001b[0m \u001b[0mname\u001b[0m\u001b[0;34m:\u001b[0m \u001b[0mstr\u001b[0m\u001b[0;34m,\u001b[0m \u001b[0mvalue\u001b[0m\u001b[0;34m)\u001b[0m \u001b[0;34m->\u001b[0m \u001b[0;32mNone\u001b[0m\u001b[0;34m:\u001b[0m\u001b[0;34m\u001b[0m\u001b[0;34m\u001b[0m\u001b[0m\n",
      "\u001b[0;31mAttributeError\u001b[0m: 'Series' object has no attribute 'value_count'"
     ]
    }
   ],
   "source": [
    "frame.head()\n",
    "frame.browser.value_count()"
   ]
  },
  {
   "cell_type": "code",
   "execution_count": 145,
   "metadata": {
    "tags": []
   },
   "outputs": [
    {
     "output_type": "stream",
     "name": "stdout",
     "text": "Browser #4 is statistically valuable: False\nBrowser #14 is statistically valuable: True\nBrowser #22 is statistically valuable: False\nBrowser #2 is statistically valuable: False\nBrowser #17 is statistically valuable: False\nBrowser #20 is statistically valuable: False\nCount of not rejected hypothesis: 5\n"
    }
   ],
   "source": [
    "exp_data = frame[frame[\"slot\"]==\"exp\"]\n",
    "control_data = frame[frame[\"slot\"]==\"control\"]\n",
    "from statsmodels.sandbox.stats.multicomp import multipletests\n",
    "exp_browser_names = set(exp_data[\"browser\"])\n",
    "exp_browser_data = {}\n",
    "for browser_name in exp_browser_names:\n",
    "    exp_browser_data[browser_name] = exp_data[exp_data[\"browser\"]==browser_name]\n",
    "control_browser_names = set(control_data[\"browser\"])\n",
    "control_browser_data = {}\n",
    "for browser_name in control_browser_names:\n",
    "    control_browser_data[browser_name] = control_data[control_data[\"browser\"]==browser_name]\n",
    "all_browser_names = exp_browser_names.union(control_browser_names)\n",
    "mann_whitney_pvalues = []\n",
    "for browser_name in all_browser_names:\n",
    "    exp_b_user_clicks = exp_browser_data[browser_name][\"n_clicks\"].values\n",
    "    control_b_user_clicks = control_browser_data[browser_name][\"n_clicks\"].values\n",
    "    mann_whitney_stat = sc.stats.mannwhitneyu(control_b_user_clicks, exp_b_user_clicks, alternative=\"two-sided\")\n",
    "    mann_whitney_pvalues.append(mann_whitney_stat.pvalue)\n",
    "mann_whitney_pvalues_corrected = multipletests(mann_whitney_pvalues, alpha = 0.05, method = 'holm')\n",
    "for b in zip(all_browser_names, mann_whitney_pvalues_corrected[0]):\n",
    "    print (\"%s is statistically valuable: %r\" % b)\n",
    "print (\"Count of not rejected hypothesis: %i\" % len(list(filter(lambda x: not(x), mann_whitney_pvalues_corrected[0]))))\n"
   ]
  },
  {
   "cell_type": "code",
   "execution_count": 146,
   "metadata": {
    "tags": []
   },
   "outputs": [
    {
     "output_type": "stream",
     "name": "stdout",
     "text": "Browser #4 no click queries percentage: exp=45.142942\tcontrol=46.970930\tdiff=1.827988\nBrowser #14 no click queries percentage: exp=43.755617\tcontrol=57.590411\tdiff=13.834794\nBrowser #22 no click queries percentage: exp=39.853947\tcontrol=40.593977\tdiff=0.740029\nBrowser #2 no click queries percentage: exp=44.982747\tcontrol=45.962747\tdiff=0.980000\nBrowser #17 no click queries percentage: exp=36.937413\tcontrol=36.299367\tdiff=-0.638046\nBrowser #20 no click queries percentage: exp=38.977376\tcontrol=40.540485\tdiff=1.563108\n"
    }
   ],
   "source": [
    "for browser_name in all_browser_names:\n",
    "    exp_no_click_count = float(exp_browser_data[browser_name][\"n_nonclk_queries\"].sum())\n",
    "    exp_queries_count = float(exp_browser_data[browser_name][\"n_queries\"].sum())\n",
    "    control_no_click_count = float(control_browser_data[browser_name][\"n_nonclk_queries\"].sum())\n",
    "    control_queries_count = float(control_browser_data[browser_name][\"n_queries\"].sum())\n",
    "    exp_percent = exp_no_click_count/exp_queries_count*100\n",
    "    control_percent = control_no_click_count/control_queries_count*100\n",
    "    print (\"%s no click queries percentage: exp=%f\\tcontrol=%f\\tdiff=%f\" % (browser_name, exp_percent, control_percent, (control_percent-exp_percent)))"
   ]
  },
  {
   "cell_type": "code",
   "execution_count": null,
   "metadata": {},
   "outputs": [],
   "source": []
  }
 ],
 "metadata": {
  "language_info": {
   "codemirror_mode": {
    "name": "ipython",
    "version": 3
   },
   "file_extension": ".py",
   "mimetype": "text/x-python",
   "name": "python",
   "nbconvert_exporter": "python",
   "pygments_lexer": "ipython3",
   "version": "3.7.6-final"
  },
  "orig_nbformat": 2,
  "kernelspec": {
   "name": "python3",
   "display_name": "Python 3"
  }
 },
 "nbformat": 4,
 "nbformat_minor": 2
}