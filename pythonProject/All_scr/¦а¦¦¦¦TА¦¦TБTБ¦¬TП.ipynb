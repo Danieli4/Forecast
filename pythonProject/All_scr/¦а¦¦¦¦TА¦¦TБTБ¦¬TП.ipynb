{
 "cells": [
  {
   "cell_type": "markdown",
   "metadata": {},
   "source": [
    "О каждой из них мы знаем:\n",
    "\n",
    "сколько детей она родила (признак ceb)\n",
    "возраст (age)\n",
    "длительность получения образования (educ)\n",
    "религиозная принадлежность (religion)\n",
    "идеальное, по её мнению, количество детей в семье (idlnchld)\n",
    "была ли она когда-нибудь замужем (evermarr)\n",
    "возраст первого замужества (agefm)\n",
    "длительность получения образования мужем (heduc)\n",
    "знает ли она о методах контрацепции (knowmeth)\n",
    "использует ли она методы контрацепции (usemeth)\n",
    "живёт ли она в городе (urban)\n",
    "есть ли у неё электричество, радио, телевизор и велосипед (electric, radio, tv, bicycle)\n",
    "Давайте научимся оценивать количество детей ceb по остальным признакам.\n",
    "\n",
    "Загрузите данные и внимательно изучите их. Сколько разных значений принимает признак religion?\n",
    "1 балл"
   ]
  },
  {
   "cell_type": "code",
   "execution_count": 1,
   "metadata": {},
   "outputs": [],
   "source": [
    "import statsmodels\n",
    "import scipy as sc\n",
    "import numpy as np\n",
    "import pandas as pd\n",
    "import statsmodels.formula.api as smf\n",
    "import statsmodels.stats.api as sms\n",
    "from statsmodels.graphics.regressionplots import plot_leverage_resid2\n",
    "import matplotlib.pyplot as plt"
   ]
  },
  {
   "cell_type": "code",
   "execution_count": 2,
   "metadata": {},
   "outputs": [
    {
     "output_type": "execute_result",
     "data": {
      "text/plain": "   ceb  age  educ    religion  idlnchld  knowmeth  usemeth  evermarr  agefm  \\\n0    0   18    10    catholic       4.0       1.0      1.0         0    NaN   \n1    2   43    11  protestant       2.0       1.0      1.0         1   20.0   \n2    0   49     4      spirit       4.0       1.0      0.0         1   22.0   \n3    0   24    12       other       2.0       1.0      0.0         0    NaN   \n4    3   32    13       other       3.0       1.0      1.0         1   24.0   \n\n   heduc  urban  electric  radio   tv  bicycle  \n0    NaN      1       1.0    1.0  1.0      1.0  \n1   14.0      1       1.0    1.0  1.0      1.0  \n2    1.0      1       1.0    1.0  0.0      0.0  \n3    NaN      1       1.0    1.0  1.0      1.0  \n4   12.0      1       1.0    1.0  1.0      1.0  ",
      "text/html": "<div>\n<style scoped>\n    .dataframe tbody tr th:only-of-type {\n        vertical-align: middle;\n    }\n\n    .dataframe tbody tr th {\n        vertical-align: top;\n    }\n\n    .dataframe thead th {\n        text-align: right;\n    }\n</style>\n<table border=\"1\" class=\"dataframe\">\n  <thead>\n    <tr style=\"text-align: right;\">\n      <th></th>\n      <th>ceb</th>\n      <th>age</th>\n      <th>educ</th>\n      <th>religion</th>\n      <th>idlnchld</th>\n      <th>knowmeth</th>\n      <th>usemeth</th>\n      <th>evermarr</th>\n      <th>agefm</th>\n      <th>heduc</th>\n      <th>urban</th>\n      <th>electric</th>\n      <th>radio</th>\n      <th>tv</th>\n      <th>bicycle</th>\n    </tr>\n  </thead>\n  <tbody>\n    <tr>\n      <th>0</th>\n      <td>0</td>\n      <td>18</td>\n      <td>10</td>\n      <td>catholic</td>\n      <td>4.0</td>\n      <td>1.0</td>\n      <td>1.0</td>\n      <td>0</td>\n      <td>NaN</td>\n      <td>NaN</td>\n      <td>1</td>\n      <td>1.0</td>\n      <td>1.0</td>\n      <td>1.0</td>\n      <td>1.0</td>\n    </tr>\n    <tr>\n      <th>1</th>\n      <td>2</td>\n      <td>43</td>\n      <td>11</td>\n      <td>protestant</td>\n      <td>2.0</td>\n      <td>1.0</td>\n      <td>1.0</td>\n      <td>1</td>\n      <td>20.0</td>\n      <td>14.0</td>\n      <td>1</td>\n      <td>1.0</td>\n      <td>1.0</td>\n      <td>1.0</td>\n      <td>1.0</td>\n    </tr>\n    <tr>\n      <th>2</th>\n      <td>0</td>\n      <td>49</td>\n      <td>4</td>\n      <td>spirit</td>\n      <td>4.0</td>\n      <td>1.0</td>\n      <td>0.0</td>\n      <td>1</td>\n      <td>22.0</td>\n      <td>1.0</td>\n      <td>1</td>\n      <td>1.0</td>\n      <td>1.0</td>\n      <td>0.0</td>\n      <td>0.0</td>\n    </tr>\n    <tr>\n      <th>3</th>\n      <td>0</td>\n      <td>24</td>\n      <td>12</td>\n      <td>other</td>\n      <td>2.0</td>\n      <td>1.0</td>\n      <td>0.0</td>\n      <td>0</td>\n      <td>NaN</td>\n      <td>NaN</td>\n      <td>1</td>\n      <td>1.0</td>\n      <td>1.0</td>\n      <td>1.0</td>\n      <td>1.0</td>\n    </tr>\n    <tr>\n      <th>4</th>\n      <td>3</td>\n      <td>32</td>\n      <td>13</td>\n      <td>other</td>\n      <td>3.0</td>\n      <td>1.0</td>\n      <td>1.0</td>\n      <td>1</td>\n      <td>24.0</td>\n      <td>12.0</td>\n      <td>1</td>\n      <td>1.0</td>\n      <td>1.0</td>\n      <td>1.0</td>\n      <td>1.0</td>\n    </tr>\n  </tbody>\n</table>\n</div>"
     },
     "metadata": {},
     "execution_count": 2
    }
   ],
   "source": [
    "data = pd.read_csv(\"botswana.tsv\", sep=\"\\t\", index_col=False) \n",
    "data.head()"
   ]
  },
  {
   "cell_type": "code",
   "execution_count": 3,
   "metadata": {
    "tags": []
   },
   "outputs": [
    {
     "output_type": "stream",
     "name": "stdout",
     "text": "spirit        1841\nother         1080\nprotestant     993\ncatholic       447\nName: religion, dtype: int64\n"
    }
   ],
   "source": [
    "print(data.religion.value_counts())"
   ]
  },
  {
   "cell_type": "code",
   "execution_count": 4,
   "metadata": {
    "tags": []
   },
   "outputs": [
    {
     "output_type": "stream",
     "name": "stdout",
     "text": "<class 'pandas.core.frame.DataFrame'>\nRangeIndex: 4361 entries, 0 to 4360\nData columns (total 15 columns):\n #   Column    Non-Null Count  Dtype  \n---  ------    --------------  -----  \n 0   ceb       4361 non-null   int64  \n 1   age       4361 non-null   int64  \n 2   educ      4361 non-null   int64  \n 3   religion  4361 non-null   object \n 4   idlnchld  4241 non-null   float64\n 5   knowmeth  4354 non-null   float64\n 6   usemeth   4290 non-null   float64\n 7   evermarr  4361 non-null   int64  \n 8   agefm     2079 non-null   float64\n 9   heduc     1956 non-null   float64\n 10  urban     4361 non-null   int64  \n 11  electric  4358 non-null   float64\n 12  radio     4359 non-null   float64\n 13  tv        4359 non-null   float64\n 14  bicycle   4358 non-null   float64\ndtypes: float64(9), int64(5), object(1)\nmemory usage: 511.2+ KB\n"
    }
   ],
   "source": [
    "data.info()"
   ]
  },
  {
   "cell_type": "markdown",
   "metadata": {},
   "source": [
    "Во многих признаках есть пропущенные значения. Сколько объектов из 4361 останется, если выбросить все, содержащие пропуски?"
   ]
  },
  {
   "cell_type": "markdown",
   "metadata": {},
   "source": [
    "<img src=\"Снимок экрана 2020-06-30 в 08.15.02.png\"> \n",
    "<img src=\"Снимок экрана 2020-06-30 в 08.19.59.png\"> "
   ]
  },
  {
   "cell_type": "code",
   "execution_count": 5,
   "metadata": {
    "tags": []
   },
   "outputs": [],
   "source": [
    "# data['nevermarr']=['1' if x=='' else 0 for x in data['agefm']]\n",
    "# np.where(df.c > df.b, 'Type a', 'Type b')\n",
    "data['nevermarr'] = np.where(data['agefm'].isnull(), '1', '0')\n",
    "# df['X'].isnull()"
   ]
  },
  {
   "cell_type": "code",
   "execution_count": 6,
   "metadata": {},
   "outputs": [],
   "source": [
    "data = data.drop(['evermarr'], axis=1)"
   ]
  },
  {
   "cell_type": "code",
   "execution_count": 7,
   "metadata": {},
   "outputs": [],
   "source": [
    "data['agefm'] = data['agefm'].fillna(0)"
   ]
  },
  {
   "cell_type": "code",
   "execution_count": 8,
   "metadata": {
    "tags": []
   },
   "outputs": [
    {
     "output_type": "stream",
     "name": "stdout",
     "text": "<class 'pandas.core.frame.DataFrame'>\nRangeIndex: 4361 entries, 0 to 4360\nData columns (total 15 columns):\n #   Column     Non-Null Count  Dtype  \n---  ------     --------------  -----  \n 0   ceb        4361 non-null   int64  \n 1   age        4361 non-null   int64  \n 2   educ       4361 non-null   int64  \n 3   religion   4361 non-null   object \n 4   idlnchld   4241 non-null   float64\n 5   knowmeth   4354 non-null   float64\n 6   usemeth    4290 non-null   float64\n 7   agefm      4361 non-null   float64\n 8   heduc      4238 non-null   float64\n 9   urban      4361 non-null   int64  \n 10  electric   4358 non-null   float64\n 11  radio      4359 non-null   float64\n 12  tv         4359 non-null   float64\n 13  bicycle    4358 non-null   float64\n 14  nevermarr  4361 non-null   object \ndtypes: float64(9), int64(4), object(2)\nmemory usage: 511.2+ KB\n"
    }
   ],
   "source": [
    "data['heduc'] = np.where(data['nevermarr']=='1', -1, data['heduc'])\n",
    "data.info()"
   ]
  },
  {
   "cell_type": "code",
   "execution_count": 9,
   "metadata": {},
   "outputs": [
    {
     "output_type": "execute_result",
     "data": {
      "text/plain": "123"
     },
     "metadata": {},
     "execution_count": 9
    }
   ],
   "source": [
    "4361-4238"
   ]
  },
  {
   "cell_type": "code",
   "execution_count": 10,
   "metadata": {},
   "outputs": [],
   "source": [
    "#data['nevermarr'] = np.where(data['agefm'].isnull(), '1', '0')\n",
    "data['idlnchld_noans'] = np.where(data['idlnchld'].isnull(), '1', '0')\n",
    "data['idlnchld'] = np.where(data['idlnchld_noans']=='1', -1, data['idlnchld'])"
   ]
  },
  {
   "cell_type": "code",
   "execution_count": 11,
   "metadata": {
    "tags": []
   },
   "outputs": [
    {
     "output_type": "stream",
     "name": "stdout",
     "text": "4.0     1455\n 6.0      718\n 2.0      499\n 5.0      490\n 3.0      465\n 10.0     166\n 8.0      139\n 7.0      125\n-1.0      120\n 1.0       95\n 9.0       25\n 0.0       21\n 12.0      16\n 20.0      11\n 15.0       7\n 11.0       3\n 14.0       3\n 13.0       1\n 16.0       1\n 17.0       1\nName: idlnchld, dtype: int64\n"
    }
   ],
   "source": [
    "print(data.idlnchld.value_counts())"
   ]
  },
  {
   "cell_type": "code",
   "execution_count": 12,
   "metadata": {
    "tags": []
   },
   "outputs": [
    {
     "output_type": "stream",
     "name": "stdout",
     "text": "-1.0     2282\n 0.0      692\n 7.0      396\n 10.0     210\n-2.0      123\n 6.0      102\n 12.0      99\n 4.0       73\n 3.0       64\n 5.0       62\n 2.0       47\n 9.0       35\n 15.0      35\n 14.0      29\n 16.0      26\n 1.0       25\n 17.0      17\n 8.0       17\n 11.0       9\n 13.0       8\n 18.0       4\n 19.0       4\n 20.0       2\nName: heduc, dtype: int64\n"
    }
   ],
   "source": [
    "data['heduc_noans'] = np.where(data['heduc'].isnull(), '1', '0')\n",
    "data['heduc'] = np.where(data['heduc_noans']=='1', -2, data['heduc'])\n",
    "print(data.heduc.value_counts())"
   ]
  },
  {
   "cell_type": "code",
   "execution_count": 13,
   "metadata": {
    "tags": []
   },
   "outputs": [
    {
     "output_type": "stream",
     "name": "stdout",
     "text": "1.0    2478\n 0.0    1812\n-2.0      71\nName: usemeth, dtype: int64\n"
    }
   ],
   "source": [
    "data['usemeth_noans'] = np.where(data['usemeth'].isnull(), '1', '0')\n",
    "data['usemeth'] = np.where(data['usemeth_noans']=='1', -2, data['usemeth'])\n",
    "print(data.usemeth.value_counts())"
   ]
  },
  {
   "cell_type": "code",
   "execution_count": 14,
   "metadata": {},
   "outputs": [],
   "source": [
    "data = data.dropna()"
   ]
  },
  {
   "cell_type": "code",
   "execution_count": 15,
   "metadata": {},
   "outputs": [
    {
     "output_type": "execute_result",
     "data": {
      "text/plain": "(4348, 18)"
     },
     "metadata": {},
     "execution_count": 15
    }
   ],
   "source": [
    "data.shape"
   ]
  },
  {
   "cell_type": "code",
   "execution_count": 16,
   "metadata": {},
   "outputs": [
    {
     "output_type": "execute_result",
     "data": {
      "text/plain": "78264"
     },
     "metadata": {},
     "execution_count": 16
    }
   ],
   "source": [
    "4348*18"
   ]
  },
  {
   "cell_type": "code",
   "execution_count": 17,
   "metadata": {},
   "outputs": [],
   "source": [
    "import statsmodels.formula.api as smf"
   ]
  },
  {
   "cell_type": "code",
   "execution_count": 18,
   "metadata": {},
   "outputs": [
    {
     "output_type": "execute_result",
     "data": {
      "text/plain": "Index(['ceb', 'age', 'educ', 'religion', 'idlnchld', 'knowmeth', 'usemeth',\n       'agefm', 'heduc', 'urban', 'electric', 'radio', 'tv', 'bicycle',\n       'nevermarr', 'idlnchld_noans', 'heduc_noans', 'usemeth_noans'],\n      dtype='object')"
     },
     "metadata": {},
     "execution_count": 18
    }
   ],
   "source": [
    "data.columns"
   ]
  },
  {
   "cell_type": "code",
   "execution_count": 19,
   "metadata": {
    "tags": []
   },
   "outputs": [
    {
     "output_type": "stream",
     "name": "stdout",
     "text": "OLS Regression Results                            \n==============================================================================\nDep. Variable:                    ceb   R-squared:                       0.644\nModel:                            OLS   Adj. R-squared:                  0.643\nMethod:                 Least Squares   F-statistic:                     412.5\nDate:                Wed, 01 Jul 2020   Prob (F-statistic):               0.00\nTime:                        11:58:34   Log-Likelihood:                -7732.1\nNo. Observations:                4348   AIC:                         1.550e+04\nDf Residuals:                    4328   BIC:                         1.563e+04\nDf Model:                          19                                         \nCovariance Type:            nonrobust                                         \n==========================================================================================\n                             coef    std err          t      P>|t|      [0.025      0.975]\n------------------------------------------------------------------------------------------\nIntercept                 -1.0263      0.212     -4.835      0.000      -1.443      -0.610\nreligion[T.other]         -0.0830      0.083     -1.001      0.317      -0.245       0.080\nreligion[T.protestant]    -0.0149      0.082     -0.181      0.857      -0.176       0.146\nreligion[T.spirit]        -0.0191      0.077     -0.248      0.804      -0.171       0.132\nnevermarr[T.1]            -2.2393      0.148    -15.143      0.000      -2.529      -1.949\nidlnchld_noans[T.1]        0.6539      0.153      4.286      0.000       0.355       0.953\nheduc_noans[T.1]          -0.8724      0.145     -6.026      0.000      -1.156      -0.589\nusemeth_noans[T.1]         1.4126      0.219      6.436      0.000       0.982       1.843\nage                        0.1703      0.003     51.891      0.000       0.164       0.177\neduc                      -0.0724      0.007     -9.843      0.000      -0.087      -0.058\nidlnchld                   0.0760      0.011      6.923      0.000       0.054       0.098\nknowmeth                   0.5564      0.121      4.580      0.000       0.318       0.795\nusemeth                    0.6473      0.048     13.424      0.000       0.553       0.742\nagefm                     -0.0604      0.007     -9.213      0.000      -0.073      -0.048\nheduc                     -0.0551      0.008     -6.838      0.000      -0.071      -0.039\nurban                     -0.2137      0.047     -4.527      0.000      -0.306      -0.121\nelectric                  -0.2685      0.077     -3.479      0.001      -0.420      -0.117\nradio                     -0.0235      0.051     -0.461      0.645      -0.123       0.076\ntv                        -0.1451      0.093     -1.566      0.118      -0.327       0.037\nbicycle                    0.2139      0.050      4.260      0.000       0.115       0.312\n==============================================================================\nOmnibus:                      224.411   Durbin-Watson:                   1.887\nProb(Omnibus):                  0.000   Jarque-Bera (JB):              859.014\nSkew:                           0.003   Prob(JB):                    2.93e-187\nKurtosis:                       5.178   Cond. No.                         361.\n==============================================================================\n\nWarnings:\n[1] Standard Errors assume that the covariance matrix of the errors is correctly specified.\n"
    }
   ],
   "source": [
    "m1 = smf.ols('ceb ~ age+ educ+ religion+ idlnchld+ knowmeth+ usemeth+'\\\n",
    "       'agefm+ heduc+ urban+ electric+ radio+ tv+ bicycle+'\\\n",
    "       'nevermarr+ idlnchld_noans+ heduc_noans+ usemeth_noans', \n",
    "             data=data)\n",
    "fitted = m1.fit()\n",
    "print(fitted.summary())"
   ]
  },
  {
   "cell_type": "code",
   "execution_count": 20,
   "metadata": {
    "tags": []
   },
   "outputs": [
    {
     "output_type": "stream",
     "name": "stdout",
     "text": "Breusch-Pagan test: p=0.000000\n"
    }
   ],
   "source": [
    "print('Breusch-Pagan test: p=%f' % sms.het_breuschpagan(fitted.resid, fitted.model.exog)[1])"
   ]
  },
  {
   "cell_type": "code",
   "execution_count": 21,
   "metadata": {
    "tags": []
   },
   "outputs": [],
   "source": [
    "fitted = m1.fit(cov_type='HC1')"
   ]
  },
  {
   "cell_type": "code",
   "execution_count": 22,
   "metadata": {
    "tags": []
   },
   "outputs": [
    {
     "output_type": "stream",
     "name": "stdout",
     "text": "Breusch-Pagan test: p=0.000000\n"
    }
   ],
   "source": [
    "print('Breusch-Pagan test: p=%f' % sms.het_breuschpagan(fitted.resid, fitted.model.exog)[1])"
   ]
  },
  {
   "cell_type": "code",
   "execution_count": 23,
   "metadata": {
    "tags": []
   },
   "outputs": [
    {
     "output_type": "stream",
     "name": "stdout",
     "text": "OLS Regression Results                            \n==============================================================================\nDep. Variable:                    ceb   R-squared:                       0.644\nModel:                            OLS   Adj. R-squared:                  0.643\nMethod:                 Least Squares   F-statistic:                     559.5\nDate:                Wed, 01 Jul 2020   Prob (F-statistic):               0.00\nTime:                        11:59:11   Log-Likelihood:                -7734.5\nNo. Observations:                4348   AIC:                         1.550e+04\nDf Residuals:                    4333   BIC:                         1.559e+04\nDf Model:                          14                                         \nCovariance Type:            nonrobust                                         \n=======================================================================================\n                          coef    std err          t      P>|t|      [0.025      0.975]\n---------------------------------------------------------------------------------------\nIntercept              -1.0698      0.198     -5.393      0.000      -1.459      -0.681\nnevermarr[T.1]         -2.2501      0.148    -15.231      0.000      -2.540      -1.961\nidlnchld_noans[T.1]     0.6565      0.152      4.310      0.000       0.358       0.955\nheduc_noans[T.1]       -0.8853      0.145     -6.122      0.000      -1.169      -0.602\nusemeth_noans[T.1]      1.4248      0.219      6.499      0.000       0.995       1.855\nage                     0.1702      0.003     52.271      0.000       0.164       0.177\neduc                   -0.0729      0.007    -10.285      0.000      -0.087      -0.059\nidlnchld                0.0770      0.011      7.042      0.000       0.056       0.098\nknowmeth                0.5610      0.121      4.628      0.000       0.323       0.799\nusemeth                 0.6516      0.048     13.537      0.000       0.557       0.746\nagefm                  -0.0606      0.007     -9.240      0.000      -0.073      -0.048\nheduc                  -0.0573      0.008     -7.186      0.000      -0.073      -0.042\nurban                  -0.2190      0.047     -4.682      0.000      -0.311      -0.127\nelectric               -0.3207      0.070     -4.584      0.000      -0.458      -0.184\nbicycle                 0.2046      0.049      4.154      0.000       0.108       0.301\n==============================================================================\nOmnibus:                      224.096   Durbin-Watson:                   1.886\nProb(Omnibus):                  0.000   Jarque-Bera (JB):              856.760\nSkew:                           0.004   Prob(JB):                    9.06e-187\nKurtosis:                       5.175   Cond. No.                         345.\n==============================================================================\n\nWarnings:\n[1] Standard Errors assume that the covariance matrix of the errors is correctly specified.\n"
    }
   ],
   "source": [
    "m2 = smf.ols('ceb ~ age+ educ+idlnchld+ knowmeth+ usemeth+'\\\n",
    "       'agefm+ heduc+ urban+ electric+bicycle+'\\\n",
    "       'nevermarr+ idlnchld_noans+ heduc_noans+ usemeth_noans', \n",
    "             data=data)\n",
    "fitted2 = m2.fit()\n",
    "print(fitted2.summary())"
   ]
  },
  {
   "cell_type": "code",
   "execution_count": 24,
   "metadata": {
    "tags": []
   },
   "outputs": [
    {
     "output_type": "stream",
     "name": "stdout",
     "text": "Breusch-Pagan test: p=0.000000\n"
    }
   ],
   "source": [
    "print('Breusch-Pagan test: p=%f' % sms.het_breuschpagan(fitted2.resid, fitted2.model.exog)[1])"
   ]
  },
  {
   "cell_type": "code",
   "execution_count": 26,
   "metadata": {
    "tags": []
   },
   "outputs": [
    {
     "output_type": "stream",
     "name": "stdout",
     "text": "OLS Regression Results                            \n==============================================================================\nDep. Variable:                    ceb   R-squared:                       0.644\nModel:                            OLS   Adj. R-squared:                  0.643\nMethod:                 Least Squares   F-statistic:                     463.4\nDate:                Wed, 01 Jul 2020   Prob (F-statistic):               0.00\nTime:                        11:59:59   Log-Likelihood:                -7734.5\nNo. Observations:                4348   AIC:                         1.550e+04\nDf Residuals:                    4333   BIC:                         1.559e+04\nDf Model:                          14                                         \nCovariance Type:                  HC1                                         \n=======================================================================================\n                          coef    std err          z      P>|z|      [0.025      0.975]\n---------------------------------------------------------------------------------------\nIntercept              -1.0698      0.258     -4.152      0.000      -1.575      -0.565\nnevermarr[T.1]         -2.2501      0.202    -11.158      0.000      -2.645      -1.855\nidlnchld_noans[T.1]     0.6565      0.216      3.043      0.002       0.234       1.079\nheduc_noans[T.1]       -0.8853      0.191     -4.638      0.000      -1.259      -0.511\nusemeth_noans[T.1]      1.4248      0.241      5.914      0.000       0.953       1.897\nage                     0.1702      0.004     38.746      0.000       0.162       0.179\neduc                   -0.0729      0.007    -10.311      0.000      -0.087      -0.059\nidlnchld                0.0770      0.014      5.323      0.000       0.049       0.105\nknowmeth                0.5610      0.174      3.224      0.001       0.220       0.902\nusemeth                 0.6516      0.052     12.571      0.000       0.550       0.753\nagefm                  -0.0606      0.010     -6.192      0.000      -0.080      -0.041\nheduc                  -0.0573      0.009     -6.440      0.000      -0.075      -0.040\nurban                  -0.2190      0.045     -4.814      0.000      -0.308      -0.130\nelectric               -0.3207      0.063     -5.076      0.000      -0.445      -0.197\nbicycle                 0.2046      0.048      4.279      0.000       0.111       0.298\n==============================================================================\nOmnibus:                      224.096   Durbin-Watson:                   1.886\nProb(Omnibus):                  0.000   Jarque-Bera (JB):              856.760\nSkew:                           0.004   Prob(JB):                    9.06e-187\nKurtosis:                       5.175   Cond. No.                         345.\n==============================================================================\n\nWarnings:\n[1] Standard Errors are heteroscedasticity robust (HC1)\n"
    }
   ],
   "source": [
    "fitted2 = m2.fit(cov_type='HC1')\n",
    "print(fitted2.summary())"
   ]
  },
  {
   "cell_type": "code",
   "execution_count": 27,
   "metadata": {
    "tags": []
   },
   "outputs": [
    {
     "output_type": "stream",
     "name": "stdout",
     "text": "Breusch-Pagan test: p=0.000000\n"
    }
   ],
   "source": [
    "print('Breusch-Pagan test: p=%f' % sms.het_breuschpagan(fitted2.resid, fitted2.model.exog)[1])"
   ]
  },
  {
   "cell_type": "code",
   "execution_count": 28,
   "metadata": {
    "tags": []
   },
   "outputs": [
    {
     "output_type": "stream",
     "name": "stdout",
     "text": "F=0.919236, p=0.467231, k1=5\n"
    }
   ],
   "source": [
    "print(\"F=%f, p=%f, k1=%i\" % m1.fit().compare_f_test(m2.fit()))"
   ]
  },
  {
   "cell_type": "code",
   "execution_count": 29,
   "metadata": {
    "tags": []
   },
   "outputs": [
    {
     "output_type": "stream",
     "name": "stdout",
     "text": "OLS Regression Results                            \n==============================================================================\nDep. Variable:                    ceb   R-squared:                       0.629\nModel:                            OLS   Adj. R-squared:                  0.628\nMethod:                 Least Squares   F-statistic:                     396.4\nDate:                Wed, 01 Jul 2020   Prob (F-statistic):               0.00\nTime:                        12:00:10   Log-Likelihood:                -7825.7\nNo. Observations:                4348   AIC:                         1.568e+04\nDf Residuals:                    4335   BIC:                         1.576e+04\nDf Model:                          12                                         \nCovariance Type:                  HC1                                         \n=======================================================================================\n                          coef    std err          z      P>|z|      [0.025      0.975]\n---------------------------------------------------------------------------------------\nIntercept              -1.1931      0.262     -4.562      0.000      -1.706      -0.681\nnevermarr[T.1]         -2.3625      0.205    -11.498      0.000      -2.765      -1.960\nidlnchld_noans[T.1]     0.5266      0.225      2.343      0.019       0.086       0.967\nheduc_noans[T.1]       -0.7947      0.195     -4.070      0.000      -1.177      -0.412\nage                     0.1776      0.004     41.592      0.000       0.169       0.186\neduc                   -0.0560      0.007     -7.788      0.000      -0.070      -0.042\nidlnchld                0.0705      0.015      4.748      0.000       0.041       0.100\nknowmeth                0.8739      0.174      5.029      0.000       0.533       1.214\nagefm                  -0.0649      0.010     -6.489      0.000      -0.085      -0.045\nheduc                  -0.0521      0.009     -5.658      0.000      -0.070      -0.034\nurban                  -0.1866      0.046     -4.019      0.000      -0.278      -0.096\nelectric               -0.3218      0.065     -4.953      0.000      -0.449      -0.194\nbicycle                 0.1979      0.048      4.083      0.000       0.103       0.293\n==============================================================================\nOmnibus:                      250.641   Durbin-Watson:                   1.910\nProb(Omnibus):                  0.000   Jarque-Bera (JB):              936.515\nSkew:                          -0.158   Prob(JB):                    4.35e-204\nKurtosis:                       5.251   Cond. No.                         345.\n==============================================================================\n\nWarnings:\n[1] Standard Errors are heteroscedasticity robust (HC1)\n"
    }
   ],
   "source": [
    "m3 = smf.ols('ceb ~ age+ educ+idlnchld+ knowmeth+'\\\n",
    "       'agefm+ heduc+ urban+ electric+bicycle+'\\\n",
    "       'nevermarr+ idlnchld_noans+ heduc_noans', \n",
    "             data=data)\n",
    "fitted3 = m3.fit(cov_type='HC1')\n",
    "print(fitted3.summary())"
   ]
  },
  {
   "cell_type": "code",
   "execution_count": 42,
   "metadata": {
    "tags": []
   },
   "outputs": [
    {
     "output_type": "execute_result",
     "data": {
      "text/plain": "0.5971"
     },
     "metadata": {},
     "execution_count": 42
    }
   ],
   "source": [
    "0.5266+0.0705\n",
    "сколько детей она родила (признак ceb)\n",
    "возраст (age)\n",
    "длительность получения образования (educ)\n",
    "религиозная принадлежность (religion)\n",
    "идеальное, по её мнению, количество детей в семье (idlnchld)\n",
    "была ли она когда-нибудь замужем (evermarr)\n",
    "возраст первого замужества (agefm)\n",
    "длительность получения образования мужем (heduc)\n",
    "знает ли она о методах контрацепции (knowmeth)\n",
    "использует ли она методы контрацепции (usemeth)\n",
    "живёт ли она в городе (urban)\n",
    "есть ли у неё электричество, радио, телевизор и велосипед (electric, radio, tv, bicycle)\n"
   ]
  },
  {
   "cell_type": "code",
   "execution_count": 30,
   "metadata": {
    "tags": []
   },
   "outputs": [
    {
     "output_type": "stream",
     "name": "stdout",
     "text": "Breusch-Pagan test: p=0.000000\n"
    }
   ],
   "source": [
    "print('Breusch-Pagan test: p=%f' % sms.het_breuschpagan(fitted3.resid, fitted3.model.exog)[1])"
   ]
  },
  {
   "cell_type": "code",
   "execution_count": 31,
   "metadata": {
    "tags": []
   },
   "outputs": [
    {
     "output_type": "stream",
     "name": "stdout",
     "text": "Breusch-Pagan test: p=0.000000\n"
    }
   ],
   "source": [
    "fitted3 = m3.fit(cov_type='HC1')\n",
    "print('Breusch-Pagan test: p=%f' % sms.het_breuschpagan(fitted3.resid, fitted3.model.exog)[1])"
   ]
  },
  {
   "cell_type": "code",
   "execution_count": 34,
   "metadata": {
    "tags": []
   },
   "outputs": [
    {
     "output_type": "stream",
     "name": "stdout",
     "text": "F=92.890582, p=0.000000, k1=2\n"
    },
    {
     "output_type": "execute_result",
     "data": {
      "text/plain": "(92.89058230109622, 3.1552009480426394e-40, 2.0)"
     },
     "metadata": {},
     "execution_count": 34
    }
   ],
   "source": [
    "print(\"F=%f, p=%f, k1=%i\" % m2.fit().compare_f_test(m3.fit()))\n",
    "m2.fit().compare_f_test(m3.fit())"
   ]
  }
 ],
 "metadata": {
  "language_info": {
   "codemirror_mode": {
    "name": "ipython",
    "version": 3
   },
   "file_extension": ".py",
   "mimetype": "text/x-python",
   "name": "python",
   "nbconvert_exporter": "python",
   "pygments_lexer": "ipython3",
   "version": "3.7.6-final"
  },
  "orig_nbformat": 2,
  "kernelspec": {
   "name": "python3",
   "display_name": "Python 3"
  }
 },
 "nbformat": 4,
 "nbformat_minor": 2
}