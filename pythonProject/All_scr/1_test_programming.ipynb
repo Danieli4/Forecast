{
 "cells": [
  {
   "cell_type": "code",
   "execution_count": 30,
   "metadata": {},
   "outputs": [
    {
     "name": "stdout",
     "output_type": "stream",
     "text": [
      "[1. 1. 1. 1. 1. 1. 1. 1. 1. 1. 1. 1. 1. 1. 0. 0. 0. 0. 0. 0. 0. 0. 0. 0.\n",
      " 0. 0. 1. 0. 0. 0. 0. 0. 0. 0. 0. 0. 0. 0. 0. 0. 0. 0. 0. 0. 0. 0. 0. 0.\n",
      " 0. 1. 0. 1. 0. 0. 0. 0. 1. 0. 0. 1. 0. 0. 0. 0. 0. 0. 0. 0. 1. 0. 0. 0.\n",
      " 0. 0. 0. 0. 0. 0. 0. 0. 0. 0. 0. 1. 0. 0. 0. 0. 1. 1. 0. 1. 0. 0. 0. 0.\n",
      " 0. 0. 0. 0. 0. 0. 1. 0. 0. 0. 0. 0. 0. 0. 0. 0. 0. 0. 0. 0. 0. 0. 0. 0.\n",
      " 0. 1. 0. 0. 1. 0. 1. 1. 0. 0. 0. 1. 0. 0. 0. 0. 0. 0. 0. 0. 0. 0. 0. 1.\n",
      " 0. 0. 0. 0. 0. 0. 0. 0. 0. 0. 0. 0. 0. 0. 0. 0. 0. 0. 0. 0. 0. 0. 0. 0.\n",
      " 0. 1. 0. 0. 0. 0. 0. 0. 0. 0. 0. 0. 0. 0. 1. 0. 0. 0. 0. 0. 1. 0. 1. 0.\n",
      " 0. 0. 0. 0. 0. 0. 0. 0. 0. 0. 0. 0. 0. 0. 0. 0. 0. 1. 0. 0. 0. 0. 0. 0.\n",
      " 0. 0. 0. 1. 0. 0. 0. 0. 0. 0. 0. 0. 1. 1. 0. 0. 0. 0. 0. 0. 1. 0. 0. 0.\n",
      " 0. 0. 0. 0. 1. 0. 0. 0. 0. 0. 0. 0. 0. 0. 0. 0. 0. 0. 0. 0. 0. 0. 0. 1.\n",
      " 0. 0. 0. 0. 0. 1. 1. 0. 0. 0. 0. 0. 0. 0. 1. 0. 0. 0. 0. 0. 0. 0. 1. 0.\n",
      " 0. 0. 1. 0. 0. 0. 0. 1. 0. 0. 0. 0. 0. 0. 0. 0. 0. 0. 0. 0. 0. 0. 0. 1.\n",
      " 0. 0. 0. 0. 0. 0. 0. 0. 0. 0. 0. 0. 0. 0. 0. 0. 0. 1. 0. 0. 0. 1. 0. 0.\n",
      " 1. 0. 0. 0. 0. 0. 0. 0. 0. 0. 0. 0. 0. 0. 0. 0. 1. 0. 0. 0. 0. 0. 0. 0.\n",
      " 0. 0. 0. 0. 0. 0. 0. 0. 0. 0. 0. 0. 0. 0. 0. 0. 0. 0. 0. 0. 0. 0. 0. 0.\n",
      " 1. 0. 0. 0. 0. 0. 0. 0. 0. 0. 0. 0. 0. 0. 0. 0. 1. 0. 0. 0. 0. 0. 0. 0.\n",
      " 0. 0. 0. 0. 0. 0. 0. 0. 1. 0. 0. 0. 0. 1. 0. 0. 0. 0. 0. 0. 0. 0. 0. 0.\n",
      " 0. 0. 0. 0. 0. 0. 0. 0. 0. 0. 0. 1. 0. 0. 0. 0. 0. 0. 1. 0. 0. 0. 0. 0.\n",
      " 0. 1. 0. 0. 0. 0. 0. 1. 0. 1. 0. 1. 0. 0. 0. 0. 0. 0. 0. 0. 0. 0. 0. 0.\n",
      " 0. 0. 0. 0.]\n",
      "[(0, 0.0), (6, 0.3837566045226203), (20, 0.471319467362319), (12, 0.4871975692042526), (10, 0.5012925484784712), (16, 0.5501161393095171), (11, 0.5605121838799606), (19, 0.5755953239471798), (21, 0.5926934600187216), (8, 0.6058919071140052), (13, 0.6094367112237986), (2, 0.6670998485694084), (7, 0.6988306990315829), (4, 0.7211133244886414), (5, 0.7517203590920472), (18, 0.777282298406313), (14, 0.7787360496946607), (3, 0.7803126124181265), (9, 0.8166171466101411), (1, 0.8614200967861503), (17, 0.8836962165348471), (15, 0.9783932092149279)]\n"
     ]
    }
   ],
   "source": [
    "import re\n",
    "import pandas as pd\n",
    "import numpy as np\n",
    "from numpy import zeros, dot, savetxt\n",
    "from scipy import spatial as sp\n",
    "\n",
    "file = open('/Users/Daniel/Downloads/sentences.txt', 'r')\n",
    "text_low = []\n",
    "text_low_split =[]\n",
    "words = {}\n",
    "wcount = 0\n",
    "\n",
    "\n",
    "text = file.readlines()\n",
    "\n",
    "for line in text:\n",
    "    line = line.lower()\n",
    "    text_low.append(line)\n",
    "\n",
    "for line in text_low:\n",
    "    line = re.split('[^a-z]', line)\n",
    "    #line = line.remove('')\n",
    "    text_low_split.append(line)\n",
    "\n",
    "for l in text_low_split:\n",
    "    while('' in l) :\n",
    "        l.remove('')\n",
    "#print (len(text_low_split[0]))\n",
    "#print (text_low_split[0][14])\n",
    "\n",
    "wcount = 0\n",
    "for line in text_low_split:\n",
    "    for s in line:\n",
    "        if s not in words:\n",
    "            words[wcount] = s\n",
    "            wcount = wcount+1\n",
    "#print(words)\n",
    "            \n",
    "\n",
    "matrix = np.zeros((len(text_low_split), len(words)))               \n",
    "for n in range(len(text_low_split)):\n",
    "     for m in range(len(words)):\n",
    "            matrix[n,m] = int(list(text_low_split[n]).count(words[m]))\n",
    "print(matrix[0])\n",
    "\n",
    "dict = {}\n",
    "for n in range(len(text_low_split)):\n",
    "    result2 = (sp.distance.cosine(matrix[0],matrix[n]))\n",
    "    # result.append(result2)\n",
    "    dict[n] = result2\n",
    "#print (matrix[n])\n",
    "\n",
    "list_d = list(dict.items())\n",
    "#list_d\n",
    "list_d.sort(key=lambda i: i[1])\n",
    "print(list_d)\n",
    "with open('/Users/Daniel/Downloads/submission-1.txt', 'w') as file_obj:\n",
    "    file_obj.write(' '.join([str(i[0]) for i in list_d[1:3]]))"
   ]
  },
  {
   "cell_type": "code",
   "execution_count": null,
   "metadata": {},
   "outputs": [],
   "source": []
  }
 ],
 "metadata": {
  "kernelspec": {
   "display_name": "Python 3",
   "language": "python",
   "name": "python3"
  },
  "language_info": {
   "codemirror_mode": {
    "name": "ipython",
    "version": 3
   },
   "file_extension": ".py",
   "mimetype": "text/x-python",
   "name": "python",
   "nbconvert_exporter": "python",
   "pygments_lexer": "ipython3",
   "version": "3.7.4"
  }
 },
 "nbformat": 4,
 "nbformat_minor": 2
}
