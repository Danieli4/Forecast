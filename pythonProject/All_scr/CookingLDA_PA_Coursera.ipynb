{
 "cells": [
  {
   "cell_type": "markdown",
   "metadata": {},
   "source": [
    "# Programming Assignment: \n",
    "## Готовим LDA по рецептам"
   ]
  },
  {
   "cell_type": "markdown",
   "metadata": {},
   "source": [
    "Как вы уже знаете, в тематическом моделировании делается предположение о том, что для определения тематики порядок слов в документе не важен; об этом гласит гипотеза «мешка слов». Сегодня мы будем работать с несколько нестандартной для тематического моделирования коллекцией, которую можно назвать «мешком ингредиентов», потому что на состоит из рецептов блюд разных кухонь. Тематические модели ищут слова, которые часто вместе встречаются в документах, и составляют из них темы. Мы попробуем применить эту идею к рецептам и найти кулинарные «темы». Эта коллекция хороша тем, что не требует предобработки. Кроме того, эта задача достаточно наглядно иллюстрирует принцип работы тематических моделей.\n",
    "\n",
    "Для выполнения заданий, помимо часто используемых в курсе библиотек, потребуются модули *json* и *gensim*. Первый входит в дистрибутив Anaconda, второй можно поставить командой \n",
    "\n",
    "*pip install gensim*\n",
    "\n",
    "Построение модели занимает некоторое время. На ноутбуке с процессором Intel Core i7 и тактовой частотой 2400 МГц на построение одной модели уходит менее 10 минут."
   ]
  },
  {
   "cell_type": "markdown",
   "metadata": {},
   "source": [
    "### Загрузка данных"
   ]
  },
  {
   "cell_type": "markdown",
   "metadata": {},
   "source": [
    "Коллекция дана в json-формате: для каждого рецепта известны его id, кухня (cuisine) и список ингредиентов, в него входящих. Загрузить данные можно с помощью модуля json (он входит в дистрибутив Anaconda):"
   ]
  },
  {
   "cell_type": "code",
   "execution_count": 3,
   "metadata": {},
   "outputs": [],
   "source": [
    "import json"
   ]
  },
  {
   "cell_type": "code",
   "execution_count": 4,
   "metadata": {},
   "outputs": [],
   "source": [
    "with open(\"recipes.json\") as f:\n",
    "    recipes = json.load(f)"
   ]
  },
  {
   "cell_type": "code",
   "execution_count": 5,
   "metadata": {},
   "outputs": [
    {
     "output_type": "stream",
     "name": "stdout",
     "text": "{'id': 20130, 'cuisine': 'filipino', 'ingredients': ['eggs', 'pepper', 'salt', 'mayonaise', 'cooking oil', 'green chilies', 'grilled chicken breasts', 'garlic powder', 'yellow onion', 'soy sauce', 'butter', 'chicken livers']}\n"
    }
   ],
   "source": [
    "print(recipes[2])"
   ]
  },
  {
   "cell_type": "markdown",
   "metadata": {},
   "source": [
    "### Составление корпуса"
   ]
  },
  {
   "cell_type": "code",
   "execution_count": 2,
   "metadata": {},
   "outputs": [
    {
     "output_type": "execute_result",
     "data": {
      "text/plain": "'1.18.4'"
     },
     "metadata": {},
     "execution_count": 2
    }
   ],
   "source": [
    "import scipy\n",
    "from gensim import corpora, models\n",
    "import numpy as np\n",
    "np.__version__"
   ]
  },
  {
   "cell_type": "code",
   "execution_count": 37,
   "metadata": {
    "tags": [
     "outputPrepend",
     "outputPrepend"
    ],
    "pycharm": {
     "name": "#%%\n"
    }
   },
   "outputs": [
    {
     "output_type": "stream",
     "name": "stdout",
     "text": "mpiler\n  Could not locate executable g95\n  customize PGroupFCompiler\n  Could not locate executable pgfortran\n  don't know how to compile Fortran code on platform 'posix'\n  C compiler: gcc -Wno-unused-result -Wsign-compare -Wunreachable-code -DNDEBUG -g -fwrapv -O3 -Wall -Wstrict-prototypes -I/Users/Daniel/.conda/envs/untitled/include -arch x86_64 -I/Users/Daniel/.conda/envs/untitled/include -arch x86_64\n  \n  compile options: '-Inumpy/core/src/private -Inumpy/core/src -Inumpy/core -Inumpy/core/src/npymath -Inumpy/core/src/multiarray -Inumpy/core/src/umath -Inumpy/core/src/npysort -I/Users/Daniel/.conda/envs/untitled/include/python3.7m -c'\n  gcc: _configtest.c\n  xcrun: error: invalid active developer path (/Library/Developer/CommandLineTools), missing xcrun at: /Library/Developer/CommandLineTools/usr/bin/xcrun\n  xcrun: error: invalid active developer path (/Library/Developer/CommandLineTools), missing xcrun at: /Library/Developer/CommandLineTools/usr/bin/xcrun\n  failure.\n  removing: _configtest.c _configtest.o\n  Traceback (most recent call last):\n    File \"<string>\", line 1, in <module>\n    File \"/private/var/folders/ck/yg6qcbz914x3bqx7dq5yvqkr0000gn/T/pip-install-py7hy3wm/numpy/setup.py\", line 394, in <module>\n      setup_package()\n    File \"/private/var/folders/ck/yg6qcbz914x3bqx7dq5yvqkr0000gn/T/pip-install-py7hy3wm/numpy/setup.py\", line 386, in setup_package\n      setup(**metadata)\n    File \"/private/var/folders/ck/yg6qcbz914x3bqx7dq5yvqkr0000gn/T/pip-install-py7hy3wm/numpy/numpy/distutils/core.py\", line 169, in setup\n      return old_setup(**new_attr)\n    File \"/Users/Daniel/.conda/envs/untitled/lib/python3.7/site-packages/setuptools/__init__.py\", line 144, in setup\n      return distutils.core.setup(**attrs)\n    File \"/Users/Daniel/.conda/envs/untitled/lib/python3.7/distutils/core.py\", line 148, in setup\n      dist.run_commands()\n    File \"/Users/Daniel/.conda/envs/untitled/lib/python3.7/distutils/dist.py\", line 966, in run_commands\n      self.run_command(cmd)\n    File \"/Users/Daniel/.conda/envs/untitled/lib/python3.7/distutils/dist.py\", line 985, in run_command\n      cmd_obj.run()\n    File \"/Users/Daniel/.conda/envs/untitled/lib/python3.7/site-packages/wheel/bdist_wheel.py\", line 223, in run\n      self.run_command('build')\n    File \"/Users/Daniel/.conda/envs/untitled/lib/python3.7/distutils/cmd.py\", line 313, in run_command\n      self.distribution.run_command(command)\n    File \"/Users/Daniel/.conda/envs/untitled/lib/python3.7/distutils/dist.py\", line 985, in run_command\n      cmd_obj.run()\n    File \"/private/var/folders/ck/yg6qcbz914x3bqx7dq5yvqkr0000gn/T/pip-install-py7hy3wm/numpy/numpy/distutils/command/build.py\", line 47, in run\n      old_build.run(self)\n    File \"/Users/Daniel/.conda/envs/untitled/lib/python3.7/distutils/command/build.py\", line 135, in run\n      self.run_command(cmd_name)\n    File \"/Users/Daniel/.conda/envs/untitled/lib/python3.7/distutils/cmd.py\", line 313, in run_command\n      self.distribution.run_command(command)\n    File \"/Users/Daniel/.conda/envs/untitled/lib/python3.7/distutils/dist.py\", line 985, in run_command\n      cmd_obj.run()\n    File \"/private/var/folders/ck/yg6qcbz914x3bqx7dq5yvqkr0000gn/T/pip-install-py7hy3wm/numpy/numpy/distutils/command/build_src.py\", line 148, in run\n      self.build_sources()\n    File \"/private/var/folders/ck/yg6qcbz914x3bqx7dq5yvqkr0000gn/T/pip-install-py7hy3wm/numpy/numpy/distutils/command/build_src.py\", line 159, in build_sources\n      self.build_library_sources(*libname_info)\n    File \"/private/var/folders/ck/yg6qcbz914x3bqx7dq5yvqkr0000gn/T/pip-install-py7hy3wm/numpy/numpy/distutils/command/build_src.py\", line 294, in build_library_sources\n      sources = self.generate_sources(sources, (lib_name, build_info))\n    File \"/private/var/folders/ck/yg6qcbz914x3bqx7dq5yvqkr0000gn/T/pip-install-py7hy3wm/numpy/numpy/distutils/command/build_src.py\", line 377, in generate_sources\n      source = func(extension, build_dir)\n    File \"numpy/core/setup.py\", line 675, in get_mathlib_info\n      raise RuntimeError(\"Broken toolchain: cannot link a simple C program\")\n  RuntimeError: Broken toolchain: cannot link a simple C program\n  ----------------------------------------\u001B[0m\n\u001B[31m  ERROR: Failed building wheel for numpy\u001B[0m\n\u001B[?25h  Running setup.py clean for numpy\n\u001B[31m  ERROR: Command errored out with exit status 1:\n   command: /Users/Daniel/.conda/envs/untitled/bin/python -u -c 'import sys, setuptools, tokenize; sys.argv[0] = '\"'\"'/private/var/folders/ck/yg6qcbz914x3bqx7dq5yvqkr0000gn/T/pip-install-py7hy3wm/numpy/setup.py'\"'\"'; __file__='\"'\"'/private/var/folders/ck/yg6qcbz914x3bqx7dq5yvqkr0000gn/T/pip-install-py7hy3wm/numpy/setup.py'\"'\"';f=getattr(tokenize, '\"'\"'open'\"'\"', open)(__file__);code=f.read().replace('\"'\"'\\r\\n'\"'\"', '\"'\"'\\n'\"'\"');f.close();exec(compile(code, __file__, '\"'\"'exec'\"'\"'))' clean --all\n       cwd: /private/var/folders/ck/yg6qcbz914x3bqx7dq5yvqkr0000gn/T/pip-install-py7hy3wm/numpy\n  Complete output (10 lines):\n  Running from numpy source directory.\n  \n  `setup.py clean` is not supported, use one of the following instead:\n  \n    - `git clean -xdf` (cleans all files)\n    - `git clean -Xdf` (cleans all versioned files, doesn't touch\n                        files that aren't checked into the git repo)\n  \n  Add `--force` to your command to use it anyway if you must (unsupported).\n  \n  ----------------------------------------\u001B[0m\n\u001B[31m  ERROR: Failed cleaning build dir for numpy\u001B[0m\nFailed to build numpy\nInstalling collected packages: numpy\n  Attempting uninstall: numpy\n    Found existing installation: numpy 1.18.4\n    Uninstalling numpy-1.18.4:\n      Successfully uninstalled numpy-1.18.4\n    Running setup.py install for numpy ... \u001B[?25lerror\n\u001B[31m    ERROR: Command errored out with exit status 1:\n     command: /Users/Daniel/.conda/envs/untitled/bin/python -u -c 'import sys, setuptools, tokenize; sys.argv[0] = '\"'\"'/private/var/folders/ck/yg6qcbz914x3bqx7dq5yvqkr0000gn/T/pip-install-py7hy3wm/numpy/setup.py'\"'\"'; __file__='\"'\"'/private/var/folders/ck/yg6qcbz914x3bqx7dq5yvqkr0000gn/T/pip-install-py7hy3wm/numpy/setup.py'\"'\"';f=getattr(tokenize, '\"'\"'open'\"'\"', open)(__file__);code=f.read().replace('\"'\"'\\r\\n'\"'\"', '\"'\"'\\n'\"'\"');f.close();exec(compile(code, __file__, '\"'\"'exec'\"'\"'))' install --record /private/var/folders/ck/yg6qcbz914x3bqx7dq5yvqkr0000gn/T/pip-record-hf63tk0h/install-record.txt --single-version-externally-managed --compile --install-headers /Users/Daniel/.conda/envs/untitled/include/python3.7m/numpy\n         cwd: /private/var/folders/ck/yg6qcbz914x3bqx7dq5yvqkr0000gn/T/pip-install-py7hy3wm/numpy/\n    Complete output (231 lines):\n    Running from numpy source directory.\n    \n    Note: if you need reliable uninstall behavior, then install\n    with pip instead of using `setup.py install`:\n    \n      - `pip install .`       (from a git repo or downloaded source\n                               release)\n      - `pip install numpy`   (last NumPy release on PyPi)\n    \n    \n    blas_opt_info:\n    blas_mkl_info:\n    customize UnixCCompiler\n      libraries mkl_rt not found in ['/Users/Daniel/.conda/envs/untitled/lib', '/usr/local/lib', '/usr/lib']\n      NOT AVAILABLE\n    \n    blis_info:\n    customize UnixCCompiler\n      libraries blis not found in ['/Users/Daniel/.conda/envs/untitled/lib', '/usr/local/lib', '/usr/lib']\n      NOT AVAILABLE\n    \n    openblas_info:\n    customize UnixCCompiler\n    customize UnixCCompiler\n      libraries openblas not found in ['/Users/Daniel/.conda/envs/untitled/lib', '/usr/local/lib', '/usr/lib']\n      NOT AVAILABLE\n    \n    atlas_3_10_blas_threads_info:\n    Setting PTATLAS=ATLAS\n    customize UnixCCompiler\n      libraries tatlas not found in ['/Users/Daniel/.conda/envs/untitled/lib', '/usr/local/lib', '/usr/lib']\n      NOT AVAILABLE\n    \n    atlas_3_10_blas_info:\n    customize UnixCCompiler\n      libraries satlas not found in ['/Users/Daniel/.conda/envs/untitled/lib', '/usr/local/lib', '/usr/lib']\n      NOT AVAILABLE\n    \n    atlas_blas_threads_info:\n    Setting PTATLAS=ATLAS\n    customize UnixCCompiler\n      libraries ptf77blas,ptcblas,atlas not found in ['/Users/Daniel/.conda/envs/untitled/lib', '/usr/local/lib', '/usr/lib']\n      NOT AVAILABLE\n    \n    atlas_blas_info:\n    customize UnixCCompiler\n      libraries f77blas,cblas,atlas not found in ['/Users/Daniel/.conda/envs/untitled/lib', '/usr/local/lib', '/usr/lib']\n      NOT AVAILABLE\n    \n      FOUND:\n        extra_compile_args = ['-msse3', '-I/System/Library/Frameworks/vecLib.framework/Headers']\n        extra_link_args = ['-Wl,-framework', '-Wl,Accelerate']\n        define_macros = [('NO_ATLAS_INFO', 3), ('HAVE_CBLAS', None)]\n    \n    xcrun: error: invalid active developer path (/Library/Developer/CommandLineTools), missing xcrun at: /Library/Developer/CommandLineTools/usr/bin/xcrun\n    non-existing path in 'numpy/distutils': 'site.cfg'\n    xcrun: error: invalid active developer path (/Library/Developer/CommandLineTools), missing xcrun at: /Library/Developer/CommandLineTools/usr/bin/xcrun\n    F2PY Version 2\n    lapack_opt_info:\n    lapack_mkl_info:\n    customize UnixCCompiler\n      libraries mkl_rt not found in ['/Users/Daniel/.conda/envs/untitled/lib', '/usr/local/lib', '/usr/lib']\n      NOT AVAILABLE\n    \n    openblas_lapack_info:\n    customize UnixCCompiler\n    customize UnixCCompiler\n      libraries openblas not found in ['/Users/Daniel/.conda/envs/untitled/lib', '/usr/local/lib', '/usr/lib']\n      NOT AVAILABLE\n    \n    openblas_clapack_info:\n    customize UnixCCompiler\n    customize UnixCCompiler\n      libraries openblas,lapack not found in ['/Users/Daniel/.conda/envs/untitled/lib', '/usr/local/lib', '/usr/lib']\n      NOT AVAILABLE\n    \n    atlas_3_10_threads_info:\n    Setting PTATLAS=ATLAS\n    customize UnixCCompiler\n      libraries tatlas,tatlas not found in /Users/Daniel/.conda/envs/untitled/lib\n    customize UnixCCompiler\n      libraries lapack_atlas not found in /Users/Daniel/.conda/envs/untitled/lib\n    customize UnixCCompiler\n      libraries tatlas,tatlas not found in /usr/local/lib\n    customize UnixCCompiler\n      libraries lapack_atlas not found in /usr/local/lib\n    customize UnixCCompiler\n      libraries tatlas,tatlas not found in /usr/lib\n    customize UnixCCompiler\n      libraries lapack_atlas not found in /usr/lib\n    <class 'numpy.distutils.system_info.atlas_3_10_threads_info'>\n      NOT AVAILABLE\n    \n    atlas_3_10_info:\n    customize UnixCCompiler\n      libraries satlas,satlas not found in /Users/Daniel/.conda/envs/untitled/lib\n    customize UnixCCompiler\n      libraries lapack_atlas not found in /Users/Daniel/.conda/envs/untitled/lib\n    customize UnixCCompiler\n      libraries satlas,satlas not found in /usr/local/lib\n    customize UnixCCompiler\n      libraries lapack_atlas not found in /usr/local/lib\n    customize UnixCCompiler\n      libraries satlas,satlas not found in /usr/lib\n    customize UnixCCompiler\n      libraries lapack_atlas not found in /usr/lib\n    <class 'numpy.distutils.system_info.atlas_3_10_info'>\n      NOT AVAILABLE\n    \n    atlas_threads_info:\n    Setting PTATLAS=ATLAS\n    customize UnixCCompiler\n      libraries ptf77blas,ptcblas,atlas not found in /Users/Daniel/.conda/envs/untitled/lib\n    customize UnixCCompiler\n      libraries lapack_atlas not found in /Users/Daniel/.conda/envs/untitled/lib\n    customize UnixCCompiler\n      libraries ptf77blas,ptcblas,atlas not found in /usr/local/lib\n    customize UnixCCompiler\n      libraries lapack_atlas not found in /usr/local/lib\n    customize UnixCCompiler\n      libraries ptf77blas,ptcblas,atlas not found in /usr/lib\n    customize UnixCCompiler\n      libraries lapack_atlas not found in /usr/lib\n    <class 'numpy.distutils.system_info.atlas_threads_info'>\n      NOT AVAILABLE\n    \n    atlas_info:\n    customize UnixCCompiler\n      libraries f77blas,cblas,atlas not found in /Users/Daniel/.conda/envs/untitled/lib\n    customize UnixCCompiler\n      libraries lapack_atlas not found in /Users/Daniel/.conda/envs/untitled/lib\n    customize UnixCCompiler\n      libraries f77blas,cblas,atlas not found in /usr/local/lib\n    customize UnixCCompiler\n      libraries lapack_atlas not found in /usr/local/lib\n    customize UnixCCompiler\n      libraries f77blas,cblas,atlas not found in /usr/lib\n    customize UnixCCompiler\n      libraries lapack_atlas not found in /usr/lib\n    <class 'numpy.distutils.system_info.atlas_info'>\n      NOT AVAILABLE\n    \n      FOUND:\n        extra_compile_args = ['-msse3']\n        extra_link_args = ['-Wl,-framework', '-Wl,Accelerate']\n        define_macros = [('NO_ATLAS_INFO', 3), ('HAVE_CBLAS', None)]\n    \n    running install\n    running build\n    running config_cc\n    unifing config_cc, config, build_clib, build_ext, build commands --compiler options\n    running config_fc\n    unifing config_fc, config, build_clib, build_ext, build commands --fcompiler options\n    running build_src\n    build_src\n    building py_modules sources\n    building library \"npymath\" sources\n    get_default_fcompiler: matching types: '['gnu95', 'nag', 'absoft', 'ibm', 'intel', 'gnu', 'g95', 'pg']'\n    customize Gnu95FCompiler\n    Could not locate executable gfortran\n    Could not locate executable f95\n    customize NAGFCompiler\n    customize AbsoftFCompiler\n    Could not locate executable f90\n    Could not locate executable f77\n    customize IBMFCompiler\n    Could not locate executable xlf90\n    Could not locate executable xlf\n    customize IntelFCompiler\n    Could not locate executable ifort\n    Could not locate executable ifc\n    customize GnuFCompiler\n    Could not locate executable g77\n    customize G95FCompiler\n    Could not locate executable g95\n    customize PGroupFCompiler\n    Could not locate executable pgfortran\n    don't know how to compile Fortran code on platform 'posix'\n    C compiler: gcc -Wno-unused-result -Wsign-compare -Wunreachable-code -DNDEBUG -g -fwrapv -O3 -Wall -Wstrict-prototypes -I/Users/Daniel/.conda/envs/untitled/include -arch x86_64 -I/Users/Daniel/.conda/envs/untitled/include -arch x86_64\n    \n    compile options: '-Inumpy/core/src/private -Inumpy/core/src -Inumpy/core -Inumpy/core/src/npymath -Inumpy/core/src/multiarray -Inumpy/core/src/umath -Inumpy/core/src/npysort -I/Users/Daniel/.conda/envs/untitled/include/python3.7m -c'\n    gcc: _configtest.c\n    xcrun: error: invalid active developer path (/Library/Developer/CommandLineTools), missing xcrun at: /Library/Developer/CommandLineTools/usr/bin/xcrun\n    xcrun: error: invalid active developer path (/Library/Developer/CommandLineTools), missing xcrun at: /Library/Developer/CommandLineTools/usr/bin/xcrun\n    failure.\n    removing: _configtest.c _configtest.o\n    Traceback (most recent call last):\n      File \"<string>\", line 1, in <module>\n      File \"/private/var/folders/ck/yg6qcbz914x3bqx7dq5yvqkr0000gn/T/pip-install-py7hy3wm/numpy/setup.py\", line 394, in <module>\n        setup_package()\n      File \"/private/var/folders/ck/yg6qcbz914x3bqx7dq5yvqkr0000gn/T/pip-install-py7hy3wm/numpy/setup.py\", line 386, in setup_package\n        setup(**metadata)\n      File \"/private/var/folders/ck/yg6qcbz914x3bqx7dq5yvqkr0000gn/T/pip-install-py7hy3wm/numpy/numpy/distutils/core.py\", line 169, in setup\n        return old_setup(**new_attr)\n      File \"/Users/Daniel/.conda/envs/untitled/lib/python3.7/site-packages/setuptools/__init__.py\", line 144, in setup\n        return distutils.core.setup(**attrs)\n      File \"/Users/Daniel/.conda/envs/untitled/lib/python3.7/distutils/core.py\", line 148, in setup\n        dist.run_commands()\n      File \"/Users/Daniel/.conda/envs/untitled/lib/python3.7/distutils/dist.py\", line 966, in run_commands\n        self.run_command(cmd)\n      File \"/Users/Daniel/.conda/envs/untitled/lib/python3.7/distutils/dist.py\", line 985, in run_command\n        cmd_obj.run()\n      File \"/private/var/folders/ck/yg6qcbz914x3bqx7dq5yvqkr0000gn/T/pip-install-py7hy3wm/numpy/numpy/distutils/command/install.py\", line 62, in run\n        r = self.setuptools_run()\n      File \"/private/var/folders/ck/yg6qcbz914x3bqx7dq5yvqkr0000gn/T/pip-install-py7hy3wm/numpy/numpy/distutils/command/install.py\", line 36, in setuptools_run\n        return distutils_install.run(self)\n      File \"/Users/Daniel/.conda/envs/untitled/lib/python3.7/distutils/command/install.py\", line 545, in run\n        self.run_command('build')\n      File \"/Users/Daniel/.conda/envs/untitled/lib/python3.7/distutils/cmd.py\", line 313, in run_command\n        self.distribution.run_command(command)\n      File \"/Users/Daniel/.conda/envs/untitled/lib/python3.7/distutils/dist.py\", line 985, in run_command\n        cmd_obj.run()\n      File \"/private/var/folders/ck/yg6qcbz914x3bqx7dq5yvqkr0000gn/T/pip-install-py7hy3wm/numpy/numpy/distutils/command/build.py\", line 47, in run\n        old_build.run(self)\n      File \"/Users/Daniel/.conda/envs/untitled/lib/python3.7/distutils/command/build.py\", line 135, in run\n        self.run_command(cmd_name)\n      File \"/Users/Daniel/.conda/envs/untitled/lib/python3.7/distutils/cmd.py\", line 313, in run_command\n        self.distribution.run_command(command)\n      File \"/Users/Daniel/.conda/envs/untitled/lib/python3.7/distutils/dist.py\", line 985, in run_command\n        cmd_obj.run()\n      File \"/private/var/folders/ck/yg6qcbz914x3bqx7dq5yvqkr0000gn/T/pip-install-py7hy3wm/numpy/numpy/distutils/command/build_src.py\", line 148, in run\n        self.build_sources()\n      File \"/private/var/folders/ck/yg6qcbz914x3bqx7dq5yvqkr0000gn/T/pip-install-py7hy3wm/numpy/numpy/distutils/command/build_src.py\", line 159, in build_sources\n        self.build_library_sources(*libname_info)\n      File \"/private/var/folders/ck/yg6qcbz914x3bqx7dq5yvqkr0000gn/T/pip-install-py7hy3wm/numpy/numpy/distutils/command/build_src.py\", line 294, in build_library_sources\n        sources = self.generate_sources(sources, (lib_name, build_info))\n      File \"/private/var/folders/ck/yg6qcbz914x3bqx7dq5yvqkr0000gn/T/pip-install-py7hy3wm/numpy/numpy/distutils/command/build_src.py\", line 377, in generate_sources\n        source = func(extension, build_dir)\n      File \"numpy/core/setup.py\", line 675, in get_mathlib_info\n        raise RuntimeError(\"Broken toolchain: cannot link a simple C program\")\n    RuntimeError: Broken toolchain: cannot link a simple C program\n    ----------------------------------------\u001B[0m\n\u001B[?25h  Rolling back uninstall of numpy\n  Moving to /Users/Daniel/.conda/envs/untitled/bin/f2py\n   from /private/var/folders/ck/yg6qcbz914x3bqx7dq5yvqkr0000gn/T/pip-uninstall-a65m5bk_/f2py\n  Moving to /Users/Daniel/.conda/envs/untitled/bin/f2py3\n   from /private/var/folders/ck/yg6qcbz914x3bqx7dq5yvqkr0000gn/T/pip-uninstall-a65m5bk_/f2py3\n  Moving to /Users/Daniel/.conda/envs/untitled/bin/f2py3.7\n   from /private/var/folders/ck/yg6qcbz914x3bqx7dq5yvqkr0000gn/T/pip-uninstall-a65m5bk_/f2py3.7\n  Moving to /Users/Daniel/.conda/envs/untitled/lib/python3.7/site-packages/numpy-1.18.4.dist-info/\n   from /Users/Daniel/.conda/envs/untitled/lib/python3.7/site-packages/~umpy-1.18.4.dist-info\n  Moving to /Users/Daniel/.conda/envs/untitled/lib/python3.7/site-packages/numpy/\n   from /Users/Daniel/.conda/envs/untitled/lib/python3.7/site-packages/~umpy\n\u001B[31mERROR: Command errored out with exit status 1: /Users/Daniel/.conda/envs/untitled/bin/python -u -c 'import sys, setuptools, tokenize; sys.argv[0] = '\"'\"'/private/var/folders/ck/yg6qcbz914x3bqx7dq5yvqkr0000gn/T/pip-install-py7hy3wm/numpy/setup.py'\"'\"'; __file__='\"'\"'/private/var/folders/ck/yg6qcbz914x3bqx7dq5yvqkr0000gn/T/pip-install-py7hy3wm/numpy/setup.py'\"'\"';f=getattr(tokenize, '\"'\"'open'\"'\"', open)(__file__);code=f.read().replace('\"'\"'\\r\\n'\"'\"', '\"'\"'\\n'\"'\"');f.close();exec(compile(code, __file__, '\"'\"'exec'\"'\"'))' install --record /private/var/folders/ck/yg6qcbz914x3bqx7dq5yvqkr0000gn/T/pip-record-hf63tk0h/install-record.txt --single-version-externally-managed --compile --install-headers /Users/Daniel/.conda/envs/untitled/include/python3.7m/numpy Check the logs for full command output.\u001B[0m\nNote: you may need to restart the kernel to use updated packages.\n"
    }
   ],
   "source": [
    "pip install numpy==1.14"
   ]
  },
  {
   "cell_type": "markdown",
   "metadata": {
    "pycharm": {
     "name": "#%% md\n"
    }
   },
   "source": [
    "Наша коллекция небольшая, и целиком помещается в оперативную память. Gensim может работать с такими данными и не требует их сохранения на диск в специальном формате. Для этого коллекция должна быть представлена в виде списка списков, каждый внутренний список соответствует отдельному документу и состоит из его слов. Пример коллекции из двух документов: \n",
    "\n",
    "[[\"hello\", \"world\"], [\"programming\", \"in\", \"python\"]]\n",
    "\n",
    "Преобразуем наши данные в такой формат, а затем создадим объекты corpus и dictionary, с которыми будет работать модель."
   ]
  },
  {
   "cell_type": "code",
   "execution_count": 7,
   "metadata": {},
   "outputs": [],
   "source": [
    "texts = [recipe[\"ingredients\"] for recipe in recipes]\n",
    "dictionary = corpora.Dictionary(texts)   # составляем словарь\n",
    "corpus = [dictionary.doc2bow(text) for text in texts]  # составляем корпус документов"
   ]
  },
  {
   "cell_type": "code",
   "execution_count": 8,
   "metadata": {
    "pycharm": {
     "name": "#%%\n"
    }
   },
   "outputs": [
    {
     "output_type": "stream",
     "name": "stdout",
     "text": "['romaine lettuce', 'black olives', 'grape tomatoes', 'garlic', 'pepper', 'purple onion', 'seasoning', 'garbanzo beans', 'feta cheese crumbles']\n[(0, 1), (1, 1), (2, 1), (3, 1), (4, 1), (5, 1), (6, 1), (7, 1), (8, 1)]\nDictionary(6714 unique tokens: ['romaine lettuce', 'black olives', 'grape tomatoes', 'garlic', 'pepper']...)\n"
    }
   ],
   "source": [
    "print(texts[0])\n",
    "print(corpus[0])\n",
    "print(dictionary)"
   ]
  },
  {
   "cell_type": "markdown",
   "metadata": {},
   "source": [
    "У объекта dictionary есть полезная переменная dictionary.token2id, позволяющая находить соответствие между ингредиентами и их индексами."
   ]
  },
  {
   "cell_type": "markdown",
   "metadata": {},
   "source": [
    "### Обучение модели\n",
    "Вам может понадобиться [документация](https://radimrehurek.com/gensim/models/ldamodel.html) LDA в gensim."
   ]
  },
  {
   "cell_type": "markdown",
   "metadata": {
    "pycharm": {
     "name": "#%% md\n"
    }
   },
   "source": [
    "__Задание 1.__ Обучите модель LDA с 40 темами, установив количество проходов по коллекции 5 и оставив остальные параметры по умолчанию. \n",
    "\n",
    "\n",
    "Затем вызовите метод модели *show_topics*, указав количество тем 40 и количество токенов 10, и сохраните результат (топы ингредиентов в темах) в отдельную переменную. Если при вызове метода *show_topics* указать параметр *formatted=True*, то топы ингредиентов будет удобно выводить на печать, если *formatted=False*, будет удобно работать со списком программно. Выведите топы на печать, рассмотрите темы, а затем ответьте на вопрос:\n",
    "\n",
    "Сколько раз ингредиенты \"salt\", \"sugar\", \"water\", \"mushrooms\", \"chicken\", \"eggs\" встретились среди топов-10 всех 40 тем? При ответе __не нужно__ учитывать составные ингредиенты, например, \"hot water\".\n",
    "\n",
    "Передайте 6 чисел в функцию save_answers1 и загрузите сгенерированный файл в форму.\n",
    "\n",
    "У gensim нет возможности фиксировать случайное приближение через параметры метода, но библиотека использует numpy для инициализации матриц. Поэтому, по утверждению автора библиотеки, фиксировать случайное приближение нужно командой, которая написана в следующей ячейке. __Перед строкой кода с построением модели обязательно вставляйте указанную строку фиксации random.seed.__"
   ]
  },
  {
   "cell_type": "code",
   "execution_count": 9,
   "metadata": {},
   "outputs": [
    {
     "output_type": "stream",
     "name": "stdout",
     "text": "CPU times: user 2min 19s, sys: 1.51 s, total: 2min 20s\nWall time: 2min 24s\n"
    }
   ],
   "source": [
    "%%time\n",
    "np.random.seed(76543)\n",
    "model = models.ldamodel.LdaModel(corpus, num_topics=40, id2word= dictionary, passes=5)\n",
    "# здесь код для построения модели:\n"
   ]
  },
  {
   "cell_type": "code",
   "execution_count": 24,
   "metadata": {},
   "outputs": [],
   "source": [
    "top_10 = model.show_topics(num_topics=40, num_words=10, formatted=True)\n",
    "res = []\n",
    "wo = [\"salt\", \"sugar\", \"water\", \"mushrooms\", \"chicken\", \"eggs\"]\n",
    "for w in wo:\n",
    "    col=[]\n",
    "    for i in top_10:\n",
    "        col.append(i[1].count('\\\"'+w+'\\\"'))\n",
    "    res.append(np.sum(col))"
   ]
  },
  {
   "cell_type": "code",
   "execution_count": 25,
   "metadata": {
    "pycharm": {
     "name": "#%%\n"
    }
   },
   "outputs": [],
   "source": [
    "def save_answers1(c_salt, c_sugar, c_water, c_mushrooms, c_chicken, c_eggs):\n",
    "    with open(\"cooking_LDA_pa_task1.txt\", \"w\") as fout:\n",
    "        fout.write(\" \".join([str(el) for el in [c_salt, c_sugar, c_water, c_mushrooms, c_chicken, c_eggs]]))\n",
    "save_answers1(*res)"
   ]
  },
  {
   "cell_type": "markdown",
   "metadata": {
    "pycharm": {
     "name": "#%% md\n"
    }
   },
   "source": [
    "### Фильтрация словаря\n",
    "В топах тем гораздо чаще встречаются первые три рассмотренных ингредиента, чем последние три. При этом наличие в рецепте курицы, яиц и грибов яснее дает понять, что мы будем готовить, чем наличие соли, сахара и воды. Таким образом, даже в рецептах есть слова, часто встречающиеся в текстах и не несущие смысловой нагрузки, и поэтому их не желательно видеть в темах. Наиболее простой прием борьбы с такими фоновыми элементами — фильтрация словаря по частоте. Обычно словарь фильтруют с двух сторон: убирают очень редкие слова (в целях экономии памяти) и очень частые слова (в целях повышения интерпретируемости тем). Мы уберем только частые слова."
   ]
  },
  {
   "cell_type": "code",
   "execution_count": 10,
   "metadata": {
    "pycharm": {
     "name": "#%%\n"
    }
   },
   "outputs": [],
   "source": [
    "import copy\n",
    "dictionary2 = copy.deepcopy(dictionary)"
   ]
  },
  {
   "cell_type": "markdown",
   "metadata": {
    "pycharm": {
     "name": "#%% md\n"
    }
   },
   "source": [
    "__Задание 2.__ У объекта dictionary2 есть переменная *dfs* — это словарь, ключами которого являются id токена, а элементами — число раз, сколько слово встретилось во всей коллекции. Сохраните в отдельный список ингредиенты, которые встретились в коллекции больше 4000 раз. Вызовите метод словаря *filter_tokens*, подав в качестве первого аргумента полученный список популярных ингредиентов. Вычислите две величины: dict_size_before и dict_size_after — размер словаря до и после фильтрации.\n",
    "\n",
    "Затем, используя новый словарь, создайте новый корпус документов, corpus2, по аналогии с тем, как это сделано в начале ноутбука. Вычислите две величины: corpus_size_before и corpus_size_after — суммарное количество ингредиентов в корпусе (для каждого документа вычислите число различных ингредиентов в нем и просуммируйте по всем документам) до и после фильтрации.\n",
    "\n",
    "Передайте величины dict_size_before, dict_size_after, corpus_size_before, corpus_size_after в функцию save_answers2 и загрузите сгенерированный файл в форму."
   ]
  },
  {
   "cell_type": "code",
   "execution_count": 11,
   "metadata": {},
   "outputs": [
    {
     "output_type": "stream",
     "name": "stdout",
     "text": "6714\n"
    }
   ],
   "source": [
    "big_ing = [i[0] for i in dictionary2.dfs.items() if i[1] >4000]\n",
    "dict_size_before = len(dictionary)\n",
    "print(dict_size_before)"
   ]
  },
  {
   "cell_type": "code",
   "execution_count": 12,
   "metadata": {},
   "outputs": [],
   "source": [
    "ts = []\n",
    "for i in big_ing:\n",
    "    ts.append(dictionary2[i])\n",
    "dictionary2.filter_tokens(big_ing)\n"
   ]
  },
  {
   "cell_type": "code",
   "execution_count": 13,
   "metadata": {},
   "outputs": [],
   "source": [
    "dict_size_after = len(dictionary2)\n",
    "corpus2 = [dictionary2.doc2bow(text) for text in texts]"
   ]
  },
  {
   "cell_type": "code",
   "execution_count": 14,
   "metadata": {},
   "outputs": [],
   "source": [
    "corpus_size_before = 0\n",
    "corpus_size_after = 0\n",
    "for i in range(len(corpus)):\n",
    "    corpus_size_before = corpus_size_before+len(corpus[i])\n",
    "for i in range(len(corpus2)):\n",
    "    corpus_size_after = corpus_size_after+len(corpus2[i])"
   ]
  },
  {
   "cell_type": "code",
   "execution_count": 15,
   "metadata": {},
   "outputs": [],
   "source": [
    "corpus_size_before2 = 0\n",
    "\n",
    "for i in range(len(corpus)):\n",
    "    for t in corpus[i]:\n",
    "        corpus_size_before2 += t[1]\n",
    "\n",
    "corpus_size_after2 = 0\n",
    "for i in range(len(corpus2)):\n",
    "    for t in corpus2[i]:\n",
    "        corpus_size_after2 += t[1]"
   ]
  },
  {
   "cell_type": "code",
   "metadata": {
    "pycharm": {
     "name": "#%%\n"
    }
   },
   "source": [
    "def save_answers2(dict_size_before, dict_size_after, corpus_size_before, corpus_size_after):\n",
    "    with open(\"cooking_LDA_pa_task2.txt\", \"w\") as fout:\n",
    "        fout.write(\" \".join([str(el) for el in [dict_size_before, dict_size_after, corpus_size_before, corpus_size_after]]))\n",
    "save_answers2(dict_size_before, dict_size_after, corpus_size_before, corpus_size_after)"
   ],
   "execution_count": 164,
   "outputs": []
  },
  {
   "cell_type": "markdown",
   "metadata": {
    "pycharm": {
     "name": "#%% md\n"
    }
   },
   "source": [
    "### Сравнение когерентностей\n",
    "__Задание 3.__ Постройте еще одну модель по корпусу corpus2 и словарю dictionary2, остальные параметры оставьте такими же, как при первом построении модели. Сохраните новую модель в другую переменную (не перезаписывайте предыдущую модель). Не забудьте про фиксирование seed!\n",
    "\n",
    "Затем воспользуйтесь методом *top_topics* модели, чтобы вычислить ее когерентность. Передайте в качестве аргумента соответствующий модели корпус. Метод вернет список кортежей (топ токенов, когерентность), отсортированных по убыванию последней. Вычислите среднюю по всем темам когерентность для каждой из двух моделей и передайте в функцию save_answers3. ### "
   ]
  },
  {
   "cell_type": "code",
   "execution_count": 16,
   "metadata": {},
   "outputs": [],
   "source": [
    "np.random.seed(76543)\n",
    "model2 = models.ldamodel.LdaModel(corpus2, num_topics=40, id2word= dictionary2, passes=5)"
   ]
  },
  {
   "cell_type": "code",
   "execution_count": 31,
   "metadata": {},
   "outputs": [
    {
     "output_type": "stream",
     "name": "stderr",
     "text": "UsageError: Cell magic `%%` not found.\n"
    }
   ],
   "source": []
  },
  {
   "cell_type": "code",
   "execution_count": 18,
   "metadata": {
    "pycharm": {
     "name": "#%%\n"
    }
   },
   "outputs": [],
   "source": [
    "cog2 = model2.top_topics(corpus2)\n",
    "cog1 = model.top_topics(corpus)\n",
    "\n"
   ]
  },
  {
   "cell_type": "code",
   "execution_count": 22,
   "metadata": {
    "pycharm": {
     "name": "#%%\n"
    }
   },
   "outputs": [],
   "source": [
    "cogs1 = [k[1] for k in cog1]\n",
    "cogs2 = [k[1] for k in cog2]\n",
    "sum_c = np.array(cogs1).mean()\n",
    "sum_c2 = np.array(cogs2).mean()"
   ]
  },
  {
   "cell_type": "code",
   "execution_count": 19,
   "metadata": {
    "pycharm": {
     "name": "#%%\n"
    }
   },
   "outputs": [],
   "source": [
    "sum1 = .0\n",
    "for i in range (len(cog1)):\n",
    "    sum1 = sum1+cog1[i][1]\n",
    "s_cog = sum1/(len(cog1))"
   ]
  },
  {
   "cell_type": "code",
   "execution_count": 20,
   "metadata": {},
   "outputs": [],
   "source": [
    "sum2 = 0\n",
    "for i in cog2:\n",
    "    sum2 = sum2+i[1]\n",
    "s_cog2 = sum2/(len(cog2))"
   ]
  },
  {
   "cell_type": "code",
   "execution_count": 28,
   "metadata": {
    "pycharm": {
     "name": "#%%\n"
    }
   },
   "outputs": [],
   "source": [
    "def save_answers3(coherence, coherence2):\n",
    "    with open(\"cooking_LDA_pa_task3.txt\", \"w\") as fout:\n",
    "        fout.write(\" \".join([\"%3f\"%el for el in [coherence, coherence2]]))\n",
    "save_answers3(-691.775595, -752.970975)"
   ]
  },
  {
   "cell_type": "markdown",
   "metadata": {
    "pycharm": {
     "name": "#%% md\n"
    }
   },
   "source": [
    "Считается, что когерентность хорошо соотносится с человеческими оценками интерпретируемости тем. Поэтому на больших текстовых коллекциях когерентность обычно повышается, если убрать фоновую лексику. Однако в нашем случае этого не произошло. "
   ]
  },
  {
   "cell_type": "markdown",
   "metadata": {},
   "source": [
    "### Изучение влияния гиперпараметра alpha"
   ]
  },
  {
   "cell_type": "markdown",
   "metadata": {},
   "source": [
    "В этом разделе мы будем работать со второй моделью, то есть той, которая построена по сокращенному корпусу. \n",
    "\n",
    "Пока что мы посмотрели только на матрицу темы-слова, теперь давайте посмотрим на матрицу темы-документы. Выведите темы для нулевого (или любого другого) документа из корпуса, воспользовавшись методом *get_document_topics* второй модели:"
   ]
  },
  {
   "cell_type": "code",
   "execution_count": 128,
   "metadata": {
    "tags": [
     "outputPrepend"
    ]
   },
   "outputs": [
    {
     "output_type": "execute_result",
     "data": {
      "text/plain": "[(13, 0.12961683), (15, 0.12942241), (31, 0.6253333)]"
     },
     "metadata": {},
     "execution_count": 128
    }
   ],
   "source": [
    "model2.get_document_topics(corpus2)[0]"
   ]
  },
  {
   "cell_type": "code",
   "execution_count": 65,
   "metadata": {},
   "outputs": [
    {
     "output_type": "execute_result",
     "data": {
      "text/plain": "array([0.025, 0.025, 0.025, 0.025, 0.025, 0.025, 0.025, 0.025, 0.025,\n       0.025, 0.025, 0.025, 0.025, 0.025, 0.025, 0.025, 0.025, 0.025,\n       0.025, 0.025, 0.025, 0.025, 0.025, 0.025, 0.025, 0.025, 0.025,\n       0.025, 0.025, 0.025, 0.025, 0.025, 0.025, 0.025, 0.025, 0.025,\n       0.025, 0.025, 0.025, 0.025], dtype=float32)"
     },
     "metadata": {},
     "execution_count": 65
    }
   ],
   "source": [
    "model2.alpha"
   ]
  },
  {
   "cell_type": "markdown",
   "metadata": {
    "pycharm": {
     "name": "#%% md\n"
    }
   },
   "source": [
    "У вас должно получиться, что документ характеризуется небольшим числом тем. Попробуем поменять гиперпараметр alpha, задающий априорное распределение Дирихле для распределений тем в документах."
   ]
  },
  {
   "cell_type": "markdown",
   "metadata": {
    "pycharm": {
     "name": "#%% md\n"
    }
   },
   "source": [
    "__Задание 4.__ Обучите третью модель: используйте сокращенный корпус (corpus2 и dictionary2) и установите параметр __alpha=1__, passes=5. Не забудьте про фиксацию seed! Выведите темы новой модели для нулевого документа; должно получиться, что распределение над множеством тем практически равномерное. Чтобы убедиться в том, что во второй модели документы описываются гораздо более разреженными распределениями, чем в третьей, посчитайте суммарное количество элементов, __превосходящих 0.01__, в матрицах темы-документы обеих моделей. Другими словами, запросите темы  модели для каждого документа с параметром *minimum_probability=0.01* и просуммируйте число элементов в получаемых массивах. Передайте две суммы (сначала для модели с alpha по умолчанию, затем для модели в alpha=1) в функцию save_answers4."
   ]
  },
  {
   "cell_type": "code",
   "execution_count": 124,
   "metadata": {
    "pycharm": {
     "name": "#%%\n"
    }
   },
   "outputs": [],
   "source": [
    "np.random.seed(76543)\n",
    "model3 = models.ldamodel.LdaModel(corpus2, num_topics=40, id2word= dictionary2, iterations=5, alpha=1, passes=5)\n"
   ]
  },
  {
   "cell_type": "code",
   "execution_count": 134,
   "metadata": {
    "pycharm": {
     "name": "#%%\n"
    }
   },
   "outputs": [],
   "source": [
    "mp2 = np.array(model2.get_document_topics(corpus2, minimum_probability=0.01))\n",
    "mp3 = model3.get_document_topics(corpus2, minimum_probability=0.01)"
   ]
  },
  {
   "cell_type": "code",
   "execution_count": 143,
   "metadata": {},
   "outputs": [],
   "source": [
    "sum_e2 = 0\n",
    "for i in mp2:\n",
    "    sum_e2 += len(i)\n",
    "\n",
    "sum_e3 = 0\n",
    "for i in mp3:\n",
    "    sum_e3 += len(i)"
   ]
  },
  {
   "cell_type": "code",
   "execution_count": 144,
   "metadata": {},
   "outputs": [],
   "source": [
    "def save_answers4(count_model2, count_model3):\n",
    "    with open(\"cooking_LDA_pa_task4.txt\", \"w\") as fout:\n",
    "        fout.write(\" \".join([str(el) for el in [count_model2, count_model3]]))\n",
    "save_answers4(sum_e2, sum_e3)"
   ]
  },
  {
   "cell_type": "markdown",
   "metadata": {
    "pycharm": {
     "name": "#%% md\n"
    }
   },
   "source": [
    "Таким образом, гиперпараметр __alpha__ влияет на разреженность распределений тем в документах. Аналогично гиперпараметр __eta__ влияет на разреженность распределений слов в темах."
   ]
  },
  {
   "cell_type": "markdown",
   "metadata": {
    "pycharm": {
     "name": "#%% md\n"
    }
   },
   "source": [
    "### LDA как способ понижения размерности\n",
    "Иногда, распределения над темами, найденные с помощью LDA, добавляют в матрицу объекты-признаки как дополнительные, семантические, признаки, и это может улучшить качество решения задачи. Для простоты давайте просто обучим классификатор рецептов на кухни на признаках, полученных из LDA, и измерим точность (accuracy).\n",
    "\n",
    "__Задание 5.__ Используйте модель, построенную по сокращенной выборке с alpha по умолчанию (вторую модель). Составьте матрицу $\\Theta = p(t|d)$ вероятностей тем в документах; вы можете использовать тот же метод get_document_topics, а также вектор правильных ответов y (в том же порядке, в котором рецепты идут в переменной recipes). Создайте объект RandomForestClassifier со 100 деревьями, с помощью функции cross_val_score вычислите среднюю accuracy по трем фолдам (перемешивать данные не нужно) и передайте в функцию save_answers5."
   ]
  },
  {
   "cell_type": "code",
   "execution_count": 148,
   "metadata": {},
   "outputs": [],
   "source": [
    "from sklearn.ensemble import RandomForestClassifier\n",
    "from sklearn.model_selection import cross_val_score"
   ]
  },
  {
   "cell_type": "code",
   "execution_count": 149,
   "metadata": {
    "pycharm": {
     "name": "#%%\n"
    }
   },
   "outputs": [],
   "source": [
    "np.random.seed(76543)\n",
    "mod_cl = RandomForestClassifier(n_estimators=100)\n"
   ]
  },
  {
   "cell_type": "code",
   "execution_count": 156,
   "metadata": {
    "pycharm": {
     "name": "#%%\n"
    }
   },
   "outputs": [],
   "source": [
    "X_pre = model2.get_document_topics(corpus2, minimum_probability=0)\n",
    "classes = set()\n",
    "for rec in recipes:\n",
    "    classes.add(rec[\"cuisine\"])\n",
    "classes = list(classes)\n",
    "Y = []\n",
    "for rec in recipes:\n",
    "    Y.append(classes.index(rec[\"cuisine\"]))\n",
    "X = [[topic[1] for topic in rec] for rec in X_pre]"
   ]
  },
  {
   "cell_type": "code",
   "execution_count": 157,
   "metadata": {},
   "outputs": [],
   "source": [
    "score2 = cross_val_score(mod_cl, X, Y, scoring = 'accuracy', cv = 3)\n",
    "# model = RandomForestClassifier(n_estimators=100, n_jobs=8)\n",
    "# accuracy = cross_val_score(estimator=model, X=X, y=Y, cv=3).mean()"
   ]
  },
  {
   "cell_type": "code",
   "execution_count": null,
   "outputs": [],
   "source": [],
   "metadata": {
    "collapsed": false,
    "pycharm": {
     "name": "#%%\n"
    }
   }
  },
  {
   "cell_type": "code",
   "execution_count": null,
   "outputs": [],
   "source": [
    "def save_answers5(accuracy):\n",
    "     with open(\"cooking_LDA_pa_task5.txt\", \"w\") as fout:\n",
    "        fout.write(str(accuracy))\n",
    "save_answers5(score2.mean())"
   ],
   "metadata": {
    "collapsed": false,
    "pycharm": {
     "name": "#%%\n"
    }
   }
  },
  {
   "cell_type": "markdown",
   "source": [
    "Для такого большого количества классов это неплохая точность. Вы можете попроовать обучать RandomForest на исходной матрице частот слов, имеющей значительно большую размерность, и увидеть, что accuracy увеличивается на 10–15%. Таким образом, LDA собрал не всю, но достаточно большую часть информации из выборки, в матрице низкого ранга."
   ],
   "metadata": {
    "collapsed": false
   }
  },
  {
   "cell_type": "markdown",
   "source": [
    "### LDA — вероятностная модель\n",
    "Матричное разложение, использующееся в LDA, интерпретируется как следующий процесс генерации документов.\n",
    "\n",
    "Для документа $d$ длины $n_d$:\n",
    "1. Из априорного распределения Дирихле с параметром alpha сгенерировать распределение над множеством тем: $\\theta_d \\sim Dirichlet(\\alpha)$\n",
    "1. Для каждого слова $w = 1, \\dots, n_d$:\n",
    "    1. Сгенерировать тему из дискретного распределения $t \\sim \\theta_{d}$\n",
    "    1. Сгенерировать слово из дискретного распределения $w \\sim \\phi_{t}$.\n",
    "    \n",
    "Подробнее об этом в [Википедии](https://en.wikipedia.org/wiki/Latent_Dirichlet_allocation).\n",
    "\n",
    "В контексте нашей задачи получается, что, используя данный генеративный процесс, можно создавать новые рецепты. Вы можете передать в функцию модель и число ингредиентов и сгенерировать рецепт :)"
   ],
   "metadata": {
    "collapsed": false
   }
  },
  {
   "cell_type": "code",
   "execution_count": null,
   "outputs": [],
   "source": [
    "def generate_recipe(model, num_ingredients):\n",
    "    theta = np.random.dirichlet(model.alpha)\n",
    "    for i in range(num_ingredients):\n",
    "        t = np.random.choice(np.arange(model.num_topics), p=theta)\n",
    "        topic = model.show_topic(t, topn=model.num_terms)\n",
    "        topic_distr = [x[1] for x in topic]\n",
    "        terms = [x[0] for x in topic]\n",
    "        w = np.random.choice(terms, p=topic_distr)\n",
    "        print (w)"
   ],
   "metadata": {
    "collapsed": false,
    "pycharm": {
     "name": "#%%\n"
    }
   }
  },
  {
   "cell_type": "code",
   "execution_count": null,
   "metadata": {},
   "outputs": [],
   "source": []
  },
  {
   "cell_type": "code",
   "execution_count": 158,
   "metadata": {},
   "outputs": [],
   "source": [
    "def save_answers5(accuracy):\n",
    "     with open(\"cooking_LDA_pa_task5.txt\", \"w\") as fout:\n",
    "        fout.write(str(accuracy))\n",
    "save_answers5(score2.mean())"
   ]
  },
  {
   "cell_type": "markdown",
   "metadata": {},
   "source": [
    "Для такого большого количества классов это неплохая точность. Вы можете попроовать обучать RandomForest на исходной матрице частот слов, имеющей значительно большую размерность, и увидеть, что accuracy увеличивается на 10–15%. Таким образом, LDA собрал не всю, но достаточно большую часть информации из выборки, в матрице низкого ранга."
   ]
  },
  {
   "cell_type": "markdown",
   "metadata": {},
   "source": [
    "### LDA — вероятностная модель\n",
    "Матричное разложение, использующееся в LDA, интерпретируется как следующий процесс генерации документов.\n",
    "\n",
    "Для документа $d$ длины $n_d$:\n",
    "1. Из априорного распределения Дирихле с параметром alpha сгенерировать распределение над множеством тем: $\\theta_d \\sim Dirichlet(\\alpha)$\n",
    "1. Для каждого слова $w = 1, \\dots, n_d$:\n",
    "    1. Сгенерировать тему из дискретного распределения $t \\sim \\theta_{d}$\n",
    "    1. Сгенерировать слово из дискретного распределения $w \\sim \\phi_{t}$.\n",
    "    \n",
    "Подробнее об этом в [Википедии](https://en.wikipedia.org/wiki/Latent_Dirichlet_allocation).\n",
    "\n",
    "В контексте нашей задачи получается, что, используя данный генеративный процесс, можно создавать новые рецепты. Вы можете передать в функцию модель и число ингредиентов и сгенерировать рецепт :)"
   ]
  },
  {
   "cell_type": "code",
   "execution_count": 146,
   "metadata": {},
   "outputs": [],
   "source": [
    "def generate_recipe(model, num_ingredients):\n",
    "    theta = np.random.dirichlet(model.alpha)\n",
    "    for i in range(num_ingredients):\n",
    "        t = np.random.choice(np.arange(model.num_topics), p=theta)\n",
    "        topic = model.show_topic(t, topn=model.num_terms)\n",
    "        topic_distr = [x[1] for x in topic]\n",
    "        terms = [x[0] for x in topic]\n",
    "        w = np.random.choice(terms, p=topic_distr)\n",
    "        print (w)"
   ]
  },
  {
   "cell_type": "code",
   "execution_count": null,
   "metadata": {},
   "outputs": [],
   "source": []
  },
  {
   "cell_type": "markdown",
   "metadata": {},
   "source": [
    "### Интерпретация построенной модели\n",
    "Вы можете рассмотреть топы ингредиентов каждой темы. Большиснтво тем сами по себе похожи на рецепты; в некоторых собираются продукты одного вида, например, свежие фрукты или разные виды сыра.\n",
    "\n",
    "Попробуем эмпирически соотнести наши темы с национальными кухнями (cuisine). Построим матрицу $A$ размера темы $x$ кухни, ее элементы $a_{tc}$ — суммы $p(t|d)$ по всем документам $d$, которые отнесены к кухне $c$. Нормируем матрицу на частоты рецептов по разным кухням, чтобы избежать дисбаланса между кухнями. Следующая функция получает на вход объект модели, объект корпуса и исходные данные и возвращает нормированную матрицу $A$. Ее удобно визуализировать с помощью seaborn."
   ]
  },
  {
   "cell_type": "code",
   "execution_count": 38,
   "metadata": {},
   "outputs": [],
   "source": [
    "import pandas\n",
    "import seaborn\n",
    "from matplotlib import pyplot as plt\n",
    "%matplotlib inline"
   ]
  },
  {
   "cell_type": "code",
   "execution_count": 39,
   "metadata": {},
   "outputs": [],
   "source": [
    "def compute_topic_cuisine_matrix(model, corpus, recipes):\n",
    "    # составляем вектор целевых признаков\n",
    "    targets = list(set([recipe[\"cuisine\"] for recipe in recipes]))\n",
    "    # составляем матрицу\n",
    "    tc_matrix = pandas.DataFrame(data=np.zeros((model.num_topics, len(targets))), columns=targets)\n",
    "    for recipe, bow in zip(recipes, corpus):\n",
    "        recipe_topic = model.get_document_topics(bow)\n",
    "        for t, prob in recipe_topic:\n",
    "            tc_matrix[recipe[\"cuisine\"]][t] += prob\n",
    "    # нормируем матрицу\n",
    "    target_sums = pandas.DataFrame(data=np.zeros((1, len(targets))), columns=targets)\n",
    "    for recipe in recipes:\n",
    "        target_sums[recipe[\"cuisine\"]] += 1\n",
    "    return pandas.DataFrame(tc_matrix.values/target_sums.values, columns=tc_matrix.columns)"
   ]
  },
  {
   "cell_type": "code",
   "execution_count": 40,
   "metadata": {},
   "outputs": [],
   "source": [
    "def plot_matrix(tc_matrix):\n",
    "    plt.figure(figsize=(10, 10))\n",
    "    seaborn.heatmap(tc_matrix, square=True)"
   ]
  },
  {
   "cell_type": "code",
   "execution_count": 41,
   "metadata": {},
   "outputs": [],
   "source": [
    "# Визуализируйте матрицу\n"
   ]
  },
  {
   "cell_type": "markdown",
   "metadata": {},
   "source": [
    "Чем темнее квадрат в матрице, тем больше связь этой темы с данной кухней. Мы видим, что у нас есть темы, которые связаны с несколькими кухнями. Такие темы показывают набор ингредиентов, которые популярны в кухнях нескольких народов, то есть указывают на схожесть кухонь этих народов. Некоторые темы распределены по всем кухням равномерно, они показывают наборы продуктов, которые часто используются в кулинарии всех стран. "
   ]
  },
  {
   "cell_type": "markdown",
   "metadata": {},
   "source": [
    "Жаль, что в датасете нет названий рецептов, иначе темы было бы проще интерпретировать..."
   ]
  },
  {
   "cell_type": "markdown",
   "metadata": {},
   "source": [
    "### Заключение\n",
    "В этом задании вы построили несколько моделей LDA, посмотрели, на что влияют гиперпараметры модели и как можно использовать построенную модель. "
   ]
  }
 ],
 "metadata": {
  "kernelspec": {
   "display_name": "Python 3",
   "language": "python",
   "name": "python3"
  },
  "language_info": {
   "codemirror_mode": {
    "name": "ipython",
    "version": 3
   },
   "file_extension": ".py",
   "mimetype": "text/x-python",
   "name": "python",
   "nbconvert_exporter": "python",
   "pygments_lexer": "ipython3",
   "version": "3.7.6-final"
  }
 },
 "nbformat": 4,
 "nbformat_minor": 1
}