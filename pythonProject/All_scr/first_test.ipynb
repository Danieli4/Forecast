{
 "cells": [
  {
   "cell_type": "code",
   "execution_count": 6,
   "metadata": {},
   "outputs": [
    {
     "name": "stdout",
     "output_type": "stream",
     "text": [
      "{}\n",
      "in\n",
      "['in', 'comparison', 'to', 'dogs', 'cats', 'have', 'not', 'undergone', 'major', 'changes', 'during', 'the', 'domestication', 'process']\n"
     ]
    },
    {
     "ename": "TypeError",
     "evalue": "can't multiply sequence by non-int of type 'list'",
     "output_type": "error",
     "traceback": [
      "\u001b[0;31m---------------------------------------------------------------------------\u001b[0m",
      "\u001b[0;31mTypeError\u001b[0m                                 Traceback (most recent call last)",
      "\u001b[0;32m<ipython-input-6-e19e2322db42>\u001b[0m in \u001b[0;36m<module>\u001b[0;34m\u001b[0m\n\u001b[1;32m     32\u001b[0m             words[token] = {\n\u001b[1;32m     33\u001b[0m                 \u001b[0;34m\"index\"\u001b[0m\u001b[0;34m:\u001b[0m \u001b[0mwcount\u001b[0m\u001b[0;34m,\u001b[0m\u001b[0;34m\u001b[0m\u001b[0;34m\u001b[0m\u001b[0m\n\u001b[0;32m---> 34\u001b[0;31m                 \u001b[0;34m\"occurrences\"\u001b[0m\u001b[0;34m:\u001b[0m \u001b[0;34m[\u001b[0m\u001b[0;36m0\u001b[0m\u001b[0;34m]\u001b[0m \u001b[0;34m*\u001b[0m \u001b[0mline\u001b[0m\u001b[0;34m\u001b[0m\u001b[0;34m\u001b[0m\u001b[0m\n\u001b[0m\u001b[1;32m     35\u001b[0m             }\n\u001b[1;32m     36\u001b[0m             \u001b[0mwcount\u001b[0m \u001b[0;34m+=\u001b[0m \u001b[0;36m1\u001b[0m\u001b[0;34m\u001b[0m\u001b[0;34m\u001b[0m\u001b[0m\n",
      "\u001b[0;31mTypeError\u001b[0m: can't multiply sequence by non-int of type 'list'"
     ]
    }
   ],
   "source": [
    "import re\n",
    "import pandas as pd\n",
    "\n",
    "file = open('/Users/Daniel/Downloads/sentences.txt', 'r')\n",
    "text_low = []\n",
    "text_low_split =[]\n",
    "words = {}\n",
    "lcount, wcount = 0, 0\n",
    "\n",
    "\n",
    "text = file.readlines()\n",
    "for line in text:\n",
    "    line = line.lower()\n",
    "    text_low.append(line)\n",
    "\n",
    "for line in text_low:\n",
    "    line = re.split('[^a-z]', line)\n",
    "    #line = line.remove('')\n",
    "    text_low_split.append(line)\n",
    "\n",
    "for l in text_low_split:\n",
    "    while('' in l) :\n",
    "        l.remove('')  \n",
    "\n",
    "    \n",
    "for l in text_low_split:\n",
    "    for token in l:\n",
    "        if token not in words:\n",
    "            words[token] = {\n",
    "                \"index\": wcount, \n",
    "                \"occurrences\": [0] * line\n",
    "            }\n",
    "            wcount += 1\n",
    "        elif words[token][\"occurrences\"][lcount] != 0:\n",
    "            continue\n",
    "        words[token][\"occurrences\"][lcount] = text_low_split.count(token)\n",
    "        lcount += 1\n",
    "\n",
    "\n",
    "#while('' in text_low_split) :\n",
    "#    text_low_split.remove('')\n",
    "#print(text_low_split)\n",
    "print(words)\n",
    "\n",
    "#text_frame = pd.DataFrame(text_low_split)\n",
    "#text_frame\n",
    "#print (text_low_split)"
   ]
  },
  {
   "cell_type": "code",
   "execution_count": null,
   "metadata": {},
   "outputs": [],
   "source": []
  },
  {
   "cell_type": "code",
   "execution_count": null,
   "metadata": {},
   "outputs": [],
   "source": []
  },
  {
   "cell_type": "code",
   "execution_count": null,
   "metadata": {},
   "outputs": [],
   "source": []
  },
  {
   "cell_type": "code",
   "execution_count": null,
   "metadata": {},
   "outputs": [],
   "source": []
  }
 ],
 "metadata": {
  "kernelspec": {
   "display_name": "Python 3",
   "language": "python",
   "name": "python3"
  },
  "language_info": {
   "codemirror_mode": {
    "name": "ipython",
    "version": 3
   },
   "file_extension": ".py",
   "mimetype": "text/x-python",
   "name": "python",
   "nbconvert_exporter": "python",
   "pygments_lexer": "ipython3",
   "version": "3.7.4"
  }
 },
 "nbformat": 4,
 "nbformat_minor": 2
}
