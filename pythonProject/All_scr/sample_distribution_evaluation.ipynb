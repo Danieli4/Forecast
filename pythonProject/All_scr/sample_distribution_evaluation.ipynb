{
 "cells": [
  {
   "cell_type": "code",
   "execution_count": 1,
   "metadata": {},
   "outputs": [],
   "source": [
    "import pandas as pd\n",
    "import numpy as np\n",
    "import matplotlib.pyplot as plt\n",
    "import scipy.stats as sts\n",
    "%matplotlib inline"
   ]
  },
  {
   "cell_type": "markdown",
   "metadata": {},
   "source": [
    "# Дискретное распределение (Версия для Python 3)"
   ]
  },
  {
   "cell_type": "markdown",
   "metadata": {},
   "source": [
    "Сгенерируем выборку объёма 100 из дискретного распределения с шестью равновероятными исходами."
   ]
  },
  {
   "cell_type": "code",
   "execution_count": 3,
   "metadata": {},
   "outputs": [
    {
     "data": {
      "text/plain": [
       "array([2, 4, 6, 5, 2, 5, 1, 4, 2, 1, 4, 5, 4, 6, 6, 5, 5, 6, 6, 4, 6, 6,\n",
       "       4, 2, 4, 3, 2, 6, 2, 2, 4, 1, 2, 4, 1, 6, 5, 3, 2, 1, 3, 1, 2, 2,\n",
       "       4, 1, 3, 4, 4, 6, 6, 3, 2, 3, 1, 1, 1, 5, 5, 4, 1, 1, 2, 5, 4, 5,\n",
       "       3, 5, 6, 4, 3, 6, 4, 3, 6, 2, 3, 4, 6, 1, 5, 3, 1, 4, 4, 6, 3, 2,\n",
       "       4, 2, 3, 5, 4, 6, 4, 6, 5, 1, 4, 5])"
      ]
     },
     "execution_count": 3,
     "metadata": {},
     "output_type": "execute_result"
    }
   ],
   "source": [
    "sample = np.random.choice([1,2,3,4,5,6], 100)\n",
    "sample"
   ]
  },
  {
   "cell_type": "markdown",
   "metadata": {},
   "source": [
    "Представим теперь, что эта выборка была получена не искусственно, а путём подбрасывания симметричного шестигранного кубика 100 раз. Оценим вероятности выпадения каждой из сторон с помощью частот:"
   ]
  },
  {
   "cell_type": "code",
   "execution_count": 7,
   "metadata": {
    "scrolled": true
   },
   "outputs": [
    {
     "name": "stdout",
     "output_type": "stream",
     "text": [
      "Число выпадений каждой из сторон:\n",
      "Counter({4: 23, 6: 18, 2: 16, 5: 15, 1: 15, 3: 13})\n",
      "dict_items([(2, 16), (4, 23), (6, 18), (5, 15), (1, 15), (3, 13)])\n",
      "Вероятности выпадений каждой из сторон:\n",
      "{2: 0.16, 4: 0.23, 6: 0.18, 5: 0.15, 1: 0.15, 3: 0.13}\n"
     ]
    }
   ],
   "source": [
    "# посчитаем число выпадений каждой из сторон:\n",
    "from collections import Counter\n",
    "\n",
    "c = Counter(sample)\n",
    "\n",
    "print(\"Число выпадений каждой из сторон:\")    \n",
    "print(c)\n",
    "print (c.items())\n",
    "c.items()\n",
    "\n",
    "# теперь поделим на общее число подбрасываний и получим вероятности:\n",
    "print(\"Вероятности выпадений каждой из сторон:\")\n",
    "print({k: v/100.0 for k, v in c.items()})"
   ]
  },
  {
   "cell_type": "markdown",
   "metadata": {},
   "source": [
    "Это и есть оценка функции вероятности дискретного распределения."
   ]
  },
  {
   "cell_type": "markdown",
   "metadata": {},
   "source": [
    "# Непрерывное распределение"
   ]
  },
  {
   "cell_type": "markdown",
   "metadata": {},
   "source": [
    "Сгенерируем выборку объёма 100 из стандартного нормального распределения (с $\\mu=0$ и $\\sigma^2=1$):"
   ]
  },
  {
   "cell_type": "code",
   "execution_count": 11,
   "metadata": {},
   "outputs": [
    {
     "name": "stdout",
     "output_type": "stream",
     "text": [
      "<scipy.stats._distn_infrastructure.rv_frozen object at 0x1a24239110>\n"
     ]
    },
    {
     "data": {
      "text/plain": [
       "array([-1.63696376, -0.26522413,  0.58236393,  0.15680579,  0.03498646,\n",
       "       -0.51383182, -0.59496796,  0.02701283, -0.80219674,  0.18600206,\n",
       "        0.90552401,  1.0953342 ,  0.0575968 , -0.28440728, -0.26822695,\n",
       "       -0.67438959, -0.26355929,  0.47557404, -1.27816635,  0.31824438,\n",
       "       -0.81771927, -0.16172855,  0.28861812, -0.77608609,  0.93350613,\n",
       "       -1.54722632, -0.38340622,  0.87220645,  1.04120198, -1.17467524,\n",
       "       -0.69861438, -0.31111781,  0.15277016, -1.08240108, -0.60369521,\n",
       "       -0.39661461, -0.16993167, -0.11395171, -0.32551146, -0.06927766,\n",
       "        0.1771388 , -0.47493349,  0.16611971, -0.03666738, -0.08851788,\n",
       "       -1.59229676, -1.53693394, -0.43128828,  1.09213728, -2.01112369,\n",
       "       -0.24278065,  0.01028791,  1.19792988, -0.83593809,  0.34463116,\n",
       "       -0.56194245, -1.94315366, -0.55728813, -1.06460101, -1.10441441,\n",
       "        0.52406778, -0.49908692, -1.79117917, -0.25756406,  1.90444311,\n",
       "        1.46509775,  0.21581488,  0.62934194, -0.5488651 ,  1.12571539,\n",
       "       -0.86885555,  0.83022606, -1.77894645, -0.45139505,  0.66625631,\n",
       "       -0.42101068,  0.48806664, -0.59754694,  0.84027365,  0.18638228,\n",
       "       -1.50451514, -0.40664407,  0.6746559 , -0.37793271,  0.71656145,\n",
       "       -0.65590899, -0.66394424, -1.76935435,  2.14849125,  2.0805615 ,\n",
       "        0.12715411, -0.21979532,  0.93106481,  0.65014137, -1.36630359,\n",
       "       -0.19063439, -2.33171904, -0.27495162, -1.42730385, -1.99773803])"
      ]
     },
     "execution_count": 11,
     "metadata": {},
     "output_type": "execute_result"
    }
   ],
   "source": [
    "norm_rv = sts.norm(0, 1)\n",
    "sample = norm_rv.rvs(100)\n",
    "print(norm_rv)\n",
    "sample"
   ]
  },
  {
   "cell_type": "markdown",
   "metadata": {},
   "source": [
    "Эмпирическая функция распределения для полученной выборки:"
   ]
  },
  {
   "cell_type": "code",
   "execution_count": 17,
   "metadata": {},
   "outputs": [
    {
     "name": "stdout",
     "output_type": "stream",
     "text": [
      "<statsmodels.distributions.empirical_distribution.ECDF object at 0x1a24e9cb50>\n"
     ]
    },
    {
     "data": {
      "image/png": "[encoded data removed]",
      "text/plain": [
       "<Figure size 432x288 with 1 Axes>"
      ]
     },
     "metadata": {
      "needs_background": "light"
     },
     "output_type": "display_data"
    }
   ],
   "source": [
    "x = np.linspace(-4,4,100)\n",
    "cdf = norm_rv.cdf(x)\n",
    "plt.plot(x, cdf, label='theoretical CDF')\n",
    "\n",
    "# для построения ECDF используем библиотеку statsmodels\n",
    "from statsmodels.distributions.empirical_distribution import ECDF\n",
    "ecdf = ECDF(sample)\n",
    "plt.step(ecdf.x, ecdf.y, label='ECDF')\n",
    "\n",
    "plt.ylabel('$f(x)$')\n",
    "plt.xlabel('$x$')\n",
    "plt.legend(loc='upper left')\n",
    "\n",
    "print (ecdf)"
   ]
  },
  {
   "cell_type": "markdown",
   "metadata": {},
   "source": [
    "Гистограмма выборки:"
   ]
  },
  {
   "cell_type": "code",
   "execution_count": 20,
   "metadata": {},
   "outputs": [
    {
     "data": {
      "text/plain": [
       "Text(0.5, 0, '$x$')"
      ]
     },
     "execution_count": 20,
     "metadata": {},
     "output_type": "execute_result"
    },
    {
     "data": {
      "image/png": "[encoded data removed]",
      "text/plain": [
       "<Figure size 432x288 with 1 Axes>"
      ]
     },
     "metadata": {
      "needs_background": "light"
     },
     "output_type": "display_data"
    }
   ],
   "source": [
    "plt.hist(sample, density=True)\n",
    "plt.ylabel('fraction of samples')\n",
    "plt.xlabel('$x$')"
   ]
  },
  {
   "cell_type": "markdown",
   "metadata": {},
   "source": [
    "Попробуем задавать число карманов гистограммы вручную:"
   ]
  },
  {
   "cell_type": "code",
   "execution_count": 26,
   "metadata": {},
   "outputs": [
    {
     "data": {
      "text/plain": [
       "Text(0.5, 0, '$x$')"
      ]
     },
     "execution_count": 26,
     "metadata": {},
     "output_type": "execute_result"
    },
    {
     "data": {
      "image/png": "[encoded data removed]",
      "text/plain": [
       "<Figure size 432x288 with 1 Axes>"
      ]
     },
     "metadata": {
      "needs_background": "light"
     },
     "output_type": "display_data"
    }
   ],
   "source": [
    "plt.hist(sample, bins=200, density=True)\n",
    "plt.ylabel('fraction of samples')\n",
    "plt.xlabel('$x$')"
   ]
  },
  {
   "cell_type": "code",
   "execution_count": 14,
   "metadata": {},
   "outputs": [
    {
     "data": {
      "text/plain": [
       "Text(0.5,0,'$x$')"
      ]
     },
     "execution_count": 14,
     "metadata": {},
     "output_type": "execute_result"
    },
    {
     "data": {
      "image/png": "[encoded data removed]",
      "text/plain": [
       "<Figure size 432x288 with 1 Axes>"
      ]
     },
     "metadata": {},
     "output_type": "display_data"
    }
   ],
   "source": [
    "plt.hist(sample, bins=40, density=True)\n",
    "plt.ylabel('fraction of samples')\n",
    "plt.xlabel('$x$')"
   ]
  },
  {
   "cell_type": "markdown",
   "metadata": {},
   "source": [
    "Эмпирическая оценка плотности, построенная по выборке с помощью ядерного сглаживания:"
   ]
  },
  {
   "cell_type": "code",
   "execution_count": 36,
   "metadata": {},
   "outputs": [
    {
     "name": "stdout",
     "output_type": "stream",
     "text": [
      "[1.33830226e-04 1.84295302e-04 2.52138056e-04 3.42709873e-04\n",
      " 4.62784614e-04 6.20862299e-04 8.27514755e-04 1.09577221e-03\n",
      " 1.44154732e-03 1.88408981e-03 2.44646147e-03 3.15601632e-03\n",
      " 4.04486639e-03 5.15030799e-03 6.51517825e-03 8.18810653e-03\n",
      " 1.02236211e-02 1.26820683e-02 1.56292995e-02 1.91360817e-02\n",
      " 2.32771927e-02 2.81301641e-02 3.37736510e-02 4.02854146e-02\n",
      " 4.77399263e-02 5.62056185e-02 6.57418315e-02 7.63955298e-02\n",
      " 8.81978860e-02 1.01160853e-01 1.15273870e-01 1.30500851e-01\n",
      " 1.46777638e-01 1.64010075e-01 1.82072870e-01 2.00809396e-01\n",
      " 2.20032535e-01 2.39526659e-01 2.59050772e-01 2.78342808e-01\n",
      " 2.97125003e-01 3.15110210e-01 3.32008980e-01 3.47537175e-01\n",
      " 3.61423830e-01 3.73418974e-01 3.83301094e-01 3.90883931e-01\n",
      " 3.96022313e-01 3.98616779e-01 3.98616779e-01 3.96022313e-01\n",
      " 3.90883931e-01 3.83301094e-01 3.73418974e-01 3.61423830e-01\n",
      " 3.47537175e-01 3.32008980e-01 3.15110210e-01 2.97125003e-01\n",
      " 2.78342808e-01 2.59050772e-01 2.39526659e-01 2.20032535e-01\n",
      " 2.00809396e-01 1.82072870e-01 1.64010075e-01 1.46777638e-01\n",
      " 1.30500851e-01 1.15273870e-01 1.01160853e-01 8.81978860e-02\n",
      " 7.63955298e-02 6.57418315e-02 5.62056185e-02 4.77399263e-02\n",
      " 4.02854146e-02 3.37736510e-02 2.81301641e-02 2.32771927e-02\n",
      " 1.91360817e-02 1.56292995e-02 1.26820683e-02 1.02236211e-02\n",
      " 8.18810653e-03 6.51517825e-03 5.15030799e-03 4.04486639e-03\n",
      " 3.15601632e-03 2.44646147e-03 1.88408981e-03 1.44154732e-03\n",
      " 1.09577221e-03 8.27514755e-04 6.20862299e-04 4.62784614e-04\n",
      " 3.42709873e-04 2.52138056e-04 1.84295302e-04 1.33830226e-04]\n"
     ]
    },
    {
     "data": {
      "image/png": "[encoded data removed]",
      "text/plain": [
       "<Figure size 432x288 with 1 Axes>"
      ]
     },
     "metadata": {
      "needs_background": "light"
     },
     "output_type": "display_data"
    }
   ],
   "source": [
    "# для построения используем библиотеку Pandas:\n",
    "df = pd.DataFrame(sample, columns=['KDE'])\n",
    "ax = df.plot(kind='density')\n",
    "\n",
    "# на том же графике построим теоретическую плотность распределения:\n",
    "x = np.linspace(-4,4,100)\n",
    "pdf = norm_rv.pdf(x)\n",
    "#plt.plot(x, pdf, label='theoretical pdf', alpha=0.5)\n",
    "plt.legend()\n",
    "plt.ylabel('$f(x)$')\n",
    "plt.xlabel('$x$')\n",
    "\n",
    "print (pdf)"
   ]
  }
 ],
 "metadata": {
  "anaconda-cloud": {},
  "kernelspec": {
   "display_name": "Python 3",
   "language": "python",
   "name": "python3"
  },
  "language_info": {
   "codemirror_mode": {
    "name": "ipython",
    "version": 3
   },
   "file_extension": ".py",
   "mimetype": "text/x-python",
   "name": "python",
   "nbconvert_exporter": "python",
   "pygments_lexer": "ipython3",
   "version": "3.7.4"
  }
 },
 "nbformat": 4,
 "nbformat_minor": 1
}
