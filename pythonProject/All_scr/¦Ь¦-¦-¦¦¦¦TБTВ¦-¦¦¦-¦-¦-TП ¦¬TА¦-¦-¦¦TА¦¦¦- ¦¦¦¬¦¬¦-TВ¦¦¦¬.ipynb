{
 "cells": [
  {
   "cell_type": "markdown",
   "metadata": {},
   "source": [
    "Классификатор C4.5 и три его модификации: с оптимизацией гиперпараметра m, гиперпараметра cf и с одновременной оптимизацией обоих гиперпараметров. Эти четыре классификатора сравнивались на 14 наборах данных. На каждом датасете был посчитан AUC каждого классификатора. Данные записаны в файле:\n",
    "Используя критерий знаковых рангов, проведите попарное сравнение каждого классификатора с каждым. Выберите два классификатора, различие между которыми наиболее статистически значимо."
   ]
  },
  {
   "cell_type": "code",
   "execution_count": 5,
   "metadata": {},
   "outputs": [],
   "source": [
    "import pandas as pd\n",
    "import numpy as np\n",
    "import scipy.stats as ss\n"
   ]
  },
  {
   "cell_type": "code",
   "execution_count": 7,
   "metadata": {},
   "outputs": [],
   "source": [
    "data = pd.read_csv('AUCs.txt', sep = '\\t')"
   ]
  },
  {
   "cell_type": "code",
   "execution_count": 8,
   "metadata": {},
   "outputs": [
    {
     "output_type": "execute_result",
     "data": {
      "text/plain": "                 Unnamed: 0   C4.5  C4.5+m  C4.5+cf  C4.5+m+cf\n0            adult (sample)  0.763   0.768    0.771      0.798\n1             breast cancer  0.599   0.591    0.590      0.569\n2   breast cancer wisconsin  0.954   0.971    0.968      0.967\n3                       cmc  0.628   0.661    0.654      0.657\n4                ionosphere  0.882   0.888    0.886      0.898\n5                      iris  0.936   0.931    0.916      0.931\n6           liver disorders  0.661   0.668    0.609      0.685\n7               lung cancer  0.583   0.583    0.563      0.625\n8              lymphography  0.775   0.838    0.866      0.875\n9                  mushroom  1.000   1.000    1.000      1.000\n10            primary tumor  0.940   0.962    0.965      0.962\n11                    rheum  0.619   0.666    0.614      0.669\n12                   voting  0.972   0.981    0.975      0.975\n13                     wine  0.957   0.978    0.946      0.970",
      "text/html": "<div>\n<style scoped>\n    .dataframe tbody tr th:only-of-type {\n        vertical-align: middle;\n    }\n\n    .dataframe tbody tr th {\n        vertical-align: top;\n    }\n\n    .dataframe thead th {\n        text-align: right;\n    }\n</style>\n<table border=\"1\" class=\"dataframe\">\n  <thead>\n    <tr style=\"text-align: right;\">\n      <th></th>\n      <th>Unnamed: 0</th>\n      <th>C4.5</th>\n      <th>C4.5+m</th>\n      <th>C4.5+cf</th>\n      <th>C4.5+m+cf</th>\n    </tr>\n  </thead>\n  <tbody>\n    <tr>\n      <th>0</th>\n      <td>adult (sample)</td>\n      <td>0.763</td>\n      <td>0.768</td>\n      <td>0.771</td>\n      <td>0.798</td>\n    </tr>\n    <tr>\n      <th>1</th>\n      <td>breast cancer</td>\n      <td>0.599</td>\n      <td>0.591</td>\n      <td>0.590</td>\n      <td>0.569</td>\n    </tr>\n    <tr>\n      <th>2</th>\n      <td>breast cancer wisconsin</td>\n      <td>0.954</td>\n      <td>0.971</td>\n      <td>0.968</td>\n      <td>0.967</td>\n    </tr>\n    <tr>\n      <th>3</th>\n      <td>cmc</td>\n      <td>0.628</td>\n      <td>0.661</td>\n      <td>0.654</td>\n      <td>0.657</td>\n    </tr>\n    <tr>\n      <th>4</th>\n      <td>ionosphere</td>\n      <td>0.882</td>\n      <td>0.888</td>\n      <td>0.886</td>\n      <td>0.898</td>\n    </tr>\n    <tr>\n      <th>5</th>\n      <td>iris</td>\n      <td>0.936</td>\n      <td>0.931</td>\n      <td>0.916</td>\n      <td>0.931</td>\n    </tr>\n    <tr>\n      <th>6</th>\n      <td>liver disorders</td>\n      <td>0.661</td>\n      <td>0.668</td>\n      <td>0.609</td>\n      <td>0.685</td>\n    </tr>\n    <tr>\n      <th>7</th>\n      <td>lung cancer</td>\n      <td>0.583</td>\n      <td>0.583</td>\n      <td>0.563</td>\n      <td>0.625</td>\n    </tr>\n    <tr>\n      <th>8</th>\n      <td>lymphography</td>\n      <td>0.775</td>\n      <td>0.838</td>\n      <td>0.866</td>\n      <td>0.875</td>\n    </tr>\n    <tr>\n      <th>9</th>\n      <td>mushroom</td>\n      <td>1.000</td>\n      <td>1.000</td>\n      <td>1.000</td>\n      <td>1.000</td>\n    </tr>\n    <tr>\n      <th>10</th>\n      <td>primary tumor</td>\n      <td>0.940</td>\n      <td>0.962</td>\n      <td>0.965</td>\n      <td>0.962</td>\n    </tr>\n    <tr>\n      <th>11</th>\n      <td>rheum</td>\n      <td>0.619</td>\n      <td>0.666</td>\n      <td>0.614</td>\n      <td>0.669</td>\n    </tr>\n    <tr>\n      <th>12</th>\n      <td>voting</td>\n      <td>0.972</td>\n      <td>0.981</td>\n      <td>0.975</td>\n      <td>0.975</td>\n    </tr>\n    <tr>\n      <th>13</th>\n      <td>wine</td>\n      <td>0.957</td>\n      <td>0.978</td>\n      <td>0.946</td>\n      <td>0.970</td>\n    </tr>\n  </tbody>\n</table>\n</div>"
     },
     "metadata": {},
     "execution_count": 8
    }
   ],
   "source": [
    "data"
   ]
  },
  {
   "cell_type": "code",
   "execution_count": 12,
   "metadata": {
    "tags": []
   },
   "outputs": [
    {
     "output_type": "stream",
     "name": "stdout",
     "text": "WilcoxonResult(statistic=6.5, pvalue=0.01075713311978963)\n"
    }
   ],
   "source": [
    "print (ss.wilcoxon(data [\"C4.5\"], data [\"C4.5+m\"]))"
   ]
  },
  {
   "cell_type": "code",
   "execution_count": 13,
   "metadata": {
    "tags": []
   },
   "outputs": [
    {
     "output_type": "stream",
     "name": "stdout",
     "text": "WilcoxonResult(statistic=43.0, pvalue=0.861262330095348)\n"
    }
   ],
   "source": [
    "print (ss.wilcoxon(data [\"C4.5\"], data [\"C4.5+cf\"]))"
   ]
  },
  {
   "cell_type": "code",
   "execution_count": 14,
   "metadata": {
    "tags": []
   },
   "outputs": [
    {
     "output_type": "stream",
     "name": "stdout",
     "text": "WilcoxonResult(statistic=11.0, pvalue=0.015906444101703374)\n"
    }
   ],
   "source": [
    "print (ss.wilcoxon(data [\"C4.5\"], data [\"C4.5+m+cf\"]))"
   ]
  },
  {
   "cell_type": "code",
   "execution_count": 15,
   "metadata": {
    "tags": []
   },
   "outputs": [
    {
     "output_type": "stream",
     "name": "stdout",
     "text": "WilcoxonResult(statistic=17.0, pvalue=0.046332729793395394)\n"
    }
   ],
   "source": [
    "print (ss.wilcoxon(data [\"C4.5+m\"], data [\"C4.5+cf\"] ))"
   ]
  },
  {
   "cell_type": "code",
   "execution_count": 16,
   "metadata": {
    "tags": []
   },
   "outputs": [
    {
     "output_type": "stream",
     "name": "stdout",
     "text": "WilcoxonResult(statistic=22.0, pvalue=0.3278256758446406)\n"
    }
   ],
   "source": [
    "print (ss.wilcoxon(data [\"C4.5+m\"], data [\"C4.5+m+cf\"] ))"
   ]
  },
  {
   "cell_type": "code",
   "execution_count": 17,
   "metadata": {
    "tags": []
   },
   "outputs": [
    {
     "output_type": "stream",
     "name": "stdout",
     "text": "WilcoxonResult(statistic=10.0, pvalue=0.022909099354356588)\n"
    }
   ],
   "source": [
    "print (ss.wilcoxon(data [\"C4.5+cf\"], data [\"C4.5+m+cf\"]  ))"
   ]
  },
  {
   "cell_type": "code",
   "execution_count": 23,
   "metadata": {},
   "outputs": [
    {
     "output_type": "execute_result",
     "data": {
      "text/plain": "[0.01075713311978963,\n 0.861262330095348,\n 0.015906444101703374,\n 0.046332729793395394,\n 0.3278256758446406,\n 0.022909099354356588]"
     },
     "metadata": {},
     "execution_count": 23
    }
   ],
   "source": [
    "p = []\n",
    "p.append (ss.wilcoxon(data [\"C4.5\"], data [\"C4.5+m\"]).pvalue)\n",
    "p.append (ss.wilcoxon(data [\"C4.5\"], data [\"C4.5+cf\"]).pvalue)\n",
    "p.append (ss.wilcoxon(data [\"C4.5\"], data [\"C4.5+m+cf\"]).pvalue)\n",
    "p.append (ss.wilcoxon(data [\"C4.5+m\"], data [\"C4.5+cf\"] ).pvalue)\n",
    "p.append (ss.wilcoxon(data [\"C4.5+m\"], data [\"C4.5+m+cf\"] ).pvalue)\n",
    "p.append (ss.wilcoxon(data [\"C4.5+cf\"], data [\"C4.5+m+cf\"]  ).pvalue)\n",
    "p"
   ]
  },
  {
   "cell_type": "code",
   "execution_count": 26,
   "metadata": {},
   "outputs": [],
   "source": [
    "from scipy.stats import pearsonr\n",
    "from statsmodels.sandbox.stats.multicomp import multipletests \n",
    "reject, p_corrected, a1, a2 = multipletests(p, \n",
    "                                            alpha = 0.05, \n",
    "                                            method = 'holm') "
   ]
  },
  {
   "cell_type": "code",
   "execution_count": 30,
   "metadata": {},
   "outputs": [
    {
     "output_type": "execute_result",
     "data": {
      "text/plain": "                 0\n0.010757  0.064543\n0.861262  0.861262\n0.015906  0.079532\n0.046333  0.138998\n0.327826  0.655651\n0.022909  0.091636",
      "text/html": "<div>\n<style scoped>\n    .dataframe tbody tr th:only-of-type {\n        vertical-align: middle;\n    }\n\n    .dataframe tbody tr th {\n        vertical-align: top;\n    }\n\n    .dataframe thead th {\n        text-align: right;\n    }\n</style>\n<table border=\"1\" class=\"dataframe\">\n  <thead>\n    <tr style=\"text-align: right;\">\n      <th></th>\n      <th>0</th>\n    </tr>\n  </thead>\n  <tbody>\n    <tr>\n      <th>0.010757</th>\n      <td>0.064543</td>\n    </tr>\n    <tr>\n      <th>0.861262</th>\n      <td>0.861262</td>\n    </tr>\n    <tr>\n      <th>0.015906</th>\n      <td>0.079532</td>\n    </tr>\n    <tr>\n      <th>0.046333</th>\n      <td>0.138998</td>\n    </tr>\n    <tr>\n      <th>0.327826</th>\n      <td>0.655651</td>\n    </tr>\n    <tr>\n      <th>0.022909</th>\n      <td>0.091636</td>\n    </tr>\n  </tbody>\n</table>\n</div>"
     },
     "metadata": {},
     "execution_count": 30
    }
   ],
   "source": [
    "p_corrected\n",
    "p_data = pd.DataFrame( p_corrected , p)\n",
    "p_data"
   ]
  },
  {
   "cell_type": "code",
   "execution_count": 31,
   "metadata": {},
   "outputs": [],
   "source": [
    "reject, p_corrected_2, a1, a2 = multipletests(p, \n",
    "                                            alpha = 0.05, \n",
    "                                            method = 'fdr_bh') "
   ]
  },
  {
   "cell_type": "code",
   "execution_count": 32,
   "metadata": {},
   "outputs": [
    {
     "output_type": "execute_result",
     "data": {
      "text/plain": "array([0.0458182 , 0.86126233, 0.0458182 , 0.06949909, 0.39339081,\n       0.0458182 ])"
     },
     "metadata": {},
     "execution_count": 32
    }
   ],
   "source": [
    "p_corrected_2"
   ]
  },
  {
   "cell_type": "code",
   "execution_count": null,
   "metadata": {},
   "outputs": [],
   "source": []
  }
 ],
 "metadata": {
  "language_info": {
   "codemirror_mode": {
    "name": "ipython",
    "version": 3
   },
   "file_extension": ".py",
   "mimetype": "text/x-python",
   "name": "python",
   "nbconvert_exporter": "python",
   "pygments_lexer": "ipython3",
   "version": "3.7.6-final"
  },
  "orig_nbformat": 2,
  "kernelspec": {
   "name": "python3",
   "display_name": "Python 3"
  }
 },
 "nbformat": 4,
 "nbformat_minor": 2
}