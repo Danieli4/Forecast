{
 "cells": [
  {
   "cell_type": "markdown",
   "metadata": {},
   "source": [
    "Загрузите датасет digits с помощью функции load_digits из sklearn.datasets и подготовьте матрицу признаков X и ответы на обучающей выборке y (вам потребуются поля data и target в объекте, который возвращает load_digits).\n"
   ]
  },
  {
   "cell_type": "code",
   "execution_count": null,
   "metadata": {},
   "outputs": [],
   "source": [
    "from sklearn.datasets import load_digits\n",
    "import matplotlib.pyplot as plt \n",
    "from matplotlib.colors import ListedColormap\n",
    "from sklearn import model_selection, datasets, metrics, tree, ensemble\n",
    "import numpy as np\n",
    "%pylab inline"
   ]
  },
  {
   "cell_type": "code",
   "execution_count": null,
   "metadata": {},
   "outputs": [],
   "source": [
    "digits = load_digits()\n",
    "X = digits.data\n",
    "y = digits.target"
   ]
  },
  {
   "cell_type": "markdown",
   "metadata": {},
   "source": [
    "Создайте DecisionTreeClassifier с настройками по умолчанию и измерьте качество его работы с помощью cross_val_score. Эта величина и будет ответом в пункте 1."
   ]
  },
  {
   "cell_type": "code",
   "execution_count": 18,
   "metadata": {},
   "outputs": [
    {
     "name": "stdout",
     "output_type": "stream",
     "text": [
      "(1257, 64)\n",
      "(540, 64)\n",
      "(1257,)\n"
     ]
    }
   ],
   "source": [
    "train_data, test_data, train_labels, test_labels = model_selection.train_test_split(X, \n",
    "                                                                                     y, \n",
    "                                                                                     test_size = 0.3,\n",
    "                                                                                     random_state = 1)\n",
    "print (train_data.shape)\n",
    "print (test_data.shape)\n",
    "print (train_labels.shape)"
   ]
  },
  {
   "cell_type": "code",
   "execution_count": 145,
   "metadata": {},
   "outputs": [
    {
     "name": "stdout",
     "output_type": "stream",
     "text": [
      "0.836016089396626\n"
     ]
    }
   ],
   "source": [
    "\n",
    "trclf = tree.DecisionTreeClassifier()\n",
    "error = model_selection.cross_val_score (trclf, X, y, cv = 10)\n",
    "print (error.mean())\n",
    "def write_answer_to_file(answer, filename):\n",
    "    f = open(filename, 'w') \n",
    "    f.write(str(answer))\n",
    "write_answer_to_file (error.mean(), 'ans1.txt')"
   ]
  },
  {
   "cell_type": "code",
   "execution_count": 155,
   "metadata": {},
   "outputs": [
    {
     "name": "stdout",
     "output_type": "stream",
     "text": [
      "0.9248847380024957\n",
      "[0.88108108 0.95628415 0.91160221 0.94444444 0.91061453 0.97765363\n",
      " 0.96089385 0.91573034 0.86440678 0.92613636]\n"
     ]
    }
   ],
   "source": [
    "trclf2 = tree.DecisionTreeClassifier()\n",
    "bagclf = ensemble.BaggingClassifier(trclf, n_estimators = 100)\n",
    "error2 = model_selection.cross_val_score (bagclf, X, y, cv = 10)\n",
    "print (error2.mean())\n",
    "print (error2)\n",
    "write_answer_to_file (error2.mean(), 'ans2.txt')"
   ]
  },
  {
   "cell_type": "code",
   "execution_count": 166,
   "metadata": {},
   "outputs": [
    {
     "name": "stdout",
     "output_type": "stream",
     "text": [
      "0.9332341784498762\n",
      "[0.90810811 0.96721311 0.90607735 0.91666667 0.94413408 0.93296089\n",
      " 0.96089385 0.97752809 0.89830508 0.92045455]\n",
      "BaggingClassifier(base_estimator=DecisionTreeClassifier(class_weight=None,\n",
      "                                                        criterion='gini',\n",
      "                                                        max_depth=None,\n",
      "                                                        max_features=None,\n",
      "                                                        max_leaf_nodes=None,\n",
      "                                                        min_impurity_decrease=0.0,\n",
      "                                                        min_impurity_split=None,\n",
      "                                                        min_samples_leaf=1,\n",
      "                                                        min_samples_split=2,\n",
      "                                                        min_weight_fraction_leaf=0.0,\n",
      "                                                        presort=False,\n",
      "                                                        random_state=None,\n",
      "                                                        splitter='best'),\n",
      "                  bootstrap=True, bootstrap_features=False, max_features=8,\n",
      "                  max_samples=1.0, n_estimators=100, n_jobs=None,\n",
      "                  oob_score=False, random_state=None, verbose=0,\n",
      "                  warm_start=False)\n"
     ]
    }
   ],
   "source": [
    "\n",
    "trclf2 = tree.DecisionTreeClassifier()\n",
    "bagclf2 = ensemble.BaggingClassifier(trclf2, n_estimators = 100, max_features = (int(sqrt(train_data.shape[1]))))\n",
    "error3 = model_selection.cross_val_score (bagclf2, X, y, cv = 10)\n",
    "print (error3.mean())\n",
    "print (error3)\n",
    "print (bagclf2)\n",
    "write_answer_to_file (error3.mean(), 'ans3.txt')"
   ]
  },
  {
   "cell_type": "code",
   "execution_count": 160,
   "metadata": {},
   "outputs": [
    {
     "name": "stdout",
     "output_type": "stream",
     "text": [
      "0.9549646755993854\n",
      "[0.91351351 0.9726776  0.93922652 0.97222222 0.96648045 0.98324022\n",
      " 0.98324022 0.96067416 0.92655367 0.93181818]\n"
     ]
    }
   ],
   "source": [
    "trclf3 = tree.DecisionTreeClassifier(splitter = 'random')\n",
    "bagclf3 = ensemble.BaggingClassifier(trclf3, bootstrap = False, n_estimators = 100)\n",
    "error4 = model_selection.cross_val_score (bagclf3, X, y, cv = 10)\n",
    "print (error4.mean())\n",
    "print (error4)\n",
    "write_answer_to_file (error4.mean(), 'ans4.txt')"
   ]
  },
  {
   "cell_type": "code",
   "execution_count": 164,
   "metadata": {},
   "outputs": [
    {
     "name": "stdout",
     "output_type": "stream",
     "text": [
      "0.9572130012266203\n",
      "[0.91891892 0.9726776  0.9558011  0.95       0.95530726 0.97765363\n",
      " 0.98324022 0.98314607 0.93220339 0.94318182]\n"
     ]
    }
   ],
   "source": [
    "rf_classifier_low_depth = ensemble.RandomForestClassifier(n_estimators = 100, random_state = 1)\n",
    "error5 = model_selection.cross_val_score (rf_classifier_low_depth, X, y, cv = 10)\n",
    "print (error5.mean())\n",
    "print (error5)\n",
    "write_answer_to_file (error2.mean(), 'ans5.txt')"
   ]
  }
 ],
 "metadata": {
  "kernelspec": {
   "display_name": "Python 3",
   "language": "python",
   "name": "python3"
  },
  "language_info": {
   "codemirror_mode": {
    "name": "ipython",
    "version": 3
   },
   "file_extension": ".py",
   "mimetype": "text/x-python",
   "name": "python",
   "nbconvert_exporter": "python",
   "pygments_lexer": "ipython3",
   "version": "3.7.4"
  }
 },
 "nbformat": 4,
 "nbformat_minor": 2
}
