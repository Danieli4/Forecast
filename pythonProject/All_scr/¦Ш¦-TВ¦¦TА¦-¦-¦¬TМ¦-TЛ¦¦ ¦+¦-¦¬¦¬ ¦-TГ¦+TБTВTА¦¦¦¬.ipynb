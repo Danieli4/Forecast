{
 "cells": [
  {
   "cell_type": "code",
   "execution_count": 6,
   "metadata": {},
   "outputs": [],
   "source": [
    "import numpy as np\n",
    "import math\n",
    "import scipy.stats as sts\n",
    "import scipy\n",
    "from statsmodels.stats.weightstats import *\n",
    "from statsmodels.stats.proportion import proportion_confint"
   ]
  },
  {
   "cell_type": "code",
   "execution_count": 7,
   "metadata": {},
   "outputs": [
    {
     "output_type": "execute_result",
     "data": {
      "text/plain": "2.9677379253417944"
     },
     "metadata": {},
     "execution_count": 7
    }
   ],
   "source": [
    "(sts.norm.ppf(1-0.003/2))"
   ]
  },
  {
   "cell_type": "code",
   "execution_count": 8,
   "metadata": {},
   "outputs": [
    {
     "output_type": "execute_result",
     "data": {
      "text/plain": "189.0"
     },
     "metadata": {},
     "execution_count": 8
    }
   ],
   "source": [
    "banner_a = np.zeros(11037)\n",
    "banner_b = np.zeros(11034)\n",
    "for i in range(104):\n",
    "    banner_a[i] = 1\n",
    "for i in range(189):\n",
    "    banner_b[i] = 1\n",
    "sum(banner_b)"
   ]
  },
  {
   "cell_type": "code",
   "execution_count": 9,
   "metadata": {},
   "outputs": [
    {
     "output_type": "stream",
     "name": "stdout",
     "text": "interval for banner a [0.007783, 0.011404]\ninterval for banner b [0.014871, 0.019723]\n"
    }
   ],
   "source": [
    "conf_interval_banner_a = proportion_confint(sum(banner_a), \n",
    "                                            len(banner_a),\n",
    "                                            method = 'wilson')\n",
    "conf_interval_banner_b = proportion_confint(sum(banner_b), \n",
    "                                            len(banner_b),\n",
    "                                            method = 'wilson')\n",
    "print('interval for banner a [%f, %f]' % conf_interval_banner_a)\n",
    "print('interval for banner b [%f, %f]' % conf_interval_banner_b)"
   ]
  },
  {
   "cell_type": "code",
   "execution_count": 10,
   "metadata": {},
   "outputs": [],
   "source": [
    "def proportions_confint_diff_ind(sample1, sample2, alpha = 0.05):    \n",
    "    z = scipy.stats.norm.ppf(1 - alpha / 2.)   \n",
    "    p1 = float(sum(sample1)) / len(sample1)\n",
    "    p2 = float(sum(sample2)) / len(sample2)\n",
    "    \n",
    "    left_boundary = (p1 - p2) - z * np.sqrt(p1 * (1 - p1)/ len(sample1) + p2 * (1 - p2)/ len(sample2))\n",
    "    right_boundary = (p1 - p2) + z * np.sqrt(p1 * (1 - p1)/ len(sample1) + p2 * (1 - p2)/ len(sample2))\n",
    "    \n",
    "    return (left_boundary, right_boundary)"
   ]
  },
  {
   "cell_type": "code",
   "execution_count": 11,
   "metadata": {},
   "outputs": [
    {
     "output_type": "stream",
     "name": "stdout",
     "text": "confidence interval: [0.004688, 0.010724]\n"
    }
   ],
   "source": [
    "print(\"confidence interval: [%f, %f]\" % proportions_confint_diff_ind(banner_b, banner_a))"
   ]
  },
  {
   "cell_type": "code",
   "execution_count": 26,
   "metadata": {},
   "outputs": [
    {
     "output_type": "stream",
     "name": "stdout",
     "text": "-0.0077060239760047815\n"
    }
   ],
   "source": [
    "\n",
    "print ((104/11037)-(189/11034))\n",
    "#print (189/11034)\n",
    "\n"
   ]
  },
  {
   "cell_type": "code",
   "execution_count": 48,
   "metadata": {},
   "outputs": [
    {
     "output_type": "stream",
     "name": "stdout",
     "text": "1.8320539419087138\n0.017427385892116183\n0.009512485136741973\n"
    },
    {
     "output_type": "execute_result",
     "data": {
      "text/plain": "0.5458354566559084"
     },
     "metadata": {},
     "execution_count": 48
    }
   ],
   "source": [
    "print ((189/(11034-189))/(104/(11037-104)))\n",
    "print (189/(11034-189))\n",
    "print (104/(11037-104))\n",
    "(0.009512485136741973/0.017427385892116183)"
   ]
  },
  {
   "cell_type": "code",
   "execution_count": 49,
   "metadata": {},
   "outputs": [
    {
     "output_type": "execute_result",
     "data": {
      "text/plain": "0.009512485136741973"
     },
     "metadata": {},
     "execution_count": 49
    }
   ],
   "source": [
    "0.017427385892116183/1.8320539419087138"
   ]
  },
  {
   "cell_type": "code",
   "execution_count": 10,
   "metadata": {},
   "outputs": [],
   "source": [
    "def get_bootstrap_samples(data, n_samples):\n",
    "    indices = np.random.randint(0, len(data), (n_samples, len(data)))\n",
    "    samples = data[indices]\n",
    "    return samples\n",
    "def stat_intervals(stat, alpha):\n",
    "    boundaries = np.percentile(stat, [100 * alpha / 2., 100 * (1 - alpha / 2.)])\n",
    "    return boundaries\n"
   ]
  },
  {
   "cell_type": "code",
   "execution_count": 60,
   "metadata": {},
   "outputs": [
    {
     "output_type": "stream",
     "name": "stdout",
     "text": "95% confidence interval for the ILEC median repair time: [1.44419465 2.34321168]\n1.8320539419087138\n"
    }
   ],
   "source": [
    "np.random.seed(0)\n",
    "ilec_time = banner_a\n",
    "clec_time = banner_b\n",
    "def odd(samp1, samp2):\n",
    "    return ((sum(samp2)/(len(samp2)-sum(samp2)))/(sum(samp1)/(len(samp1)-sum(samp1))))\n",
    "\n",
    "\n",
    "ilec_median_scores = list(map(odd, get_bootstrap_samples(ilec_time, 1000), get_bootstrap_samples(clec_time, 1000)))\n",
    "#clec_median_scores = list(map(odd, get_bootstrap_samples(clec_time, 1000)))\n",
    "\n",
    "print(\"95% confidence interval for the ILEC median repair time:\",  stat_intervals(ilec_median_scores, 0.05))\n",
    "print(odd(ilec_time, clec_time))"
   ]
  },
  {
   "cell_type": "code",
   "execution_count": 52,
   "metadata": {},
   "outputs": [
    {
     "output_type": "stream",
     "name": "stdout",
     "text": "189.0 11034\n"
    }
   ],
   "source": [
    "print (sum(clec_time),len(clec_time))"
   ]
  },
  {
   "cell_type": "code",
   "execution_count": 53,
   "metadata": {},
   "outputs": [
    {
     "output_type": "stream",
     "name": "stdout",
     "text": "104.0 11037\n"
    }
   ],
   "source": [
    "print (sum(ilec_time),len(ilec_time))"
   ]
  },
  {
   "cell_type": "code",
   "execution_count": 59,
   "metadata": {},
   "outputs": [
    {
     "output_type": "stream",
     "name": "stdout",
     "text": "1.8320539419087138\n"
    }
   ],
   "source": [
    "samp1 = ilec_time = banner_a\n",
    "samp2 = clec_time = banner_b\n",
    "print ((sum(samp2)/(len(samp2)-sum(samp2)))/(sum(samp1)/(len(samp1)-sum(samp1))))"
   ]
  }
 ],
 "metadata": {
  "language_info": {
   "codemirror_mode": {
    "name": "ipython",
    "version": 3
   },
   "file_extension": ".py",
   "mimetype": "text/x-python",
   "name": "python",
   "nbconvert_exporter": "python",
   "pygments_lexer": "ipython3",
   "version": "3.7.6-final"
  },
  "orig_nbformat": 2,
  "kernelspec": {
   "name": "python3",
   "display_name": "Python 3"
  }
 },
 "nbformat": 4,
 "nbformat_minor": 2
}