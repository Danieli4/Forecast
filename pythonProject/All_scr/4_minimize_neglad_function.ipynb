{
 "cells": [
  {
   "cell_type": "markdown",
   "metadata": {},
   "source": [
    "# Задача 3. Минимизация негладкой функции"
   ]
  },
  {
   "cell_type": "markdown",
   "metadata": {},
   "source": [
    "Теперь рассмотрим функцию h(x) = int(f(x)) на том же отрезке [1, 30], т.е. теперь каждое значение f(x) приводится к типу int и функция принимает только целые значения.\n",
    "Такая функция будет негладкой и даже разрывной, а ее график будет иметь ступенчатый вид. Убедитесь в этом, построив график h(x) с помощью matplotlib.\n",
    "Попробуйте найти минимум функции h(x) с помощью BFGS, взяв в качестве начального приближения x=30. Получившееся значение функции – ваш первый ответ в этой задаче.\n",
    "Теперь попробуйте найти минимум h(x) на отрезке [1, 30] с помощью дифференциальной эволюции. Значение функции h(x) в точке минимума – это ваш второй ответ в этом задании. Запишите его через пробел после предыдущего.\n",
    "Обратите внимание на то, что полученные ответы различаются. Это ожидаемый результат, ведь BFGS использует градиент (в одномерном случае – производную) и явно не пригоден для минимизации рассмотренной нами разрывной функции. Попробуйте понять, почему минимум, найденный BFGS, именно такой (возможно в этом вам поможет выбор разных начальных приближений).\n",
    "Выполнив это задание, вы увидели на практике, чем поиск минимума функции отличается от глобальной оптимизации, и когда может быть полезно применить вместо градиентного метода оптимизации метод, не использующий градиент. Кроме того, вы попрактиковались в использовании библиотеки SciPy для решения оптимизационных задач, и теперь знаете, насколько это просто и удобно."
   ]
  },
  {
   "cell_type": "code",
   "execution_count": 35,
   "metadata": {},
   "outputs": [
    {
     "data": {
      "image/png": "[encoded data removed]",
      "text/plain": [
       "<Figure size 432x288 with 1 Axes>"
      ]
     },
     "metadata": {
      "needs_background": "light"
     },
     "output_type": "display_data"
    },
    {
     "name": "stdout",
     "output_type": "stream",
     "text": [
      "[  3.   2.   2.   2.   2.   2.   2.   1.   1.   1.   1.   1.   1.   1.\n",
      "   1.   1.   1.   1.   1.   1.   1.   1.   2.   2.   2.   2.   2.   2.\n",
      "   2.   2.   2.   2.   2.   2.   2.   2.   2.   2.   2.   2.   2.   2.\n",
      "   2.   2.   2.   2.   2.   2.   1.   1.   1.   1.   1.   1.   1.   0.\n",
      "   0.   0.   0.  -0.  -0.  -0.  -0.  -1.  -1.  -1.  -2.  -2.  -2.  -3.\n",
      "  -3.  -3.  -4.  -4.  -4.  -5.  -5.  -5.  -6.  -6.  -7.  -7.  -7.  -8.\n",
      "  -8.  -8.  -9.  -9.  -9. -10. -10. -10. -10. -11. -11. -11. -11. -11.\n",
      " -11. -11. -11. -11. -11. -11. -11. -11. -11. -10. -10.  -9.  -9.  -9.\n",
      "  -8.  -7.  -7.  -6.  -5.]\n"
     ]
    }
   ],
   "source": [
    "import numpy as np\n",
    "import matplotlib.pyplot as plt\n",
    "import scipy.linalg\n",
    "%matplotlib inline\n",
    "\n",
    "f = lambda x: np.trunc(np.sin(x / 5.0) * np.exp(x / 10.0) + 5 * np.exp(-x / 2.0))\n",
    "\n",
    "\n",
    "x = np.arange(1.0, 30.25, 0.25) # Массив значений аргумента\n",
    "\n",
    "plt.plot(x, f(x)) # Построение графика\n",
    "plt.xlabel('$x$') # Метка по оси x в формате TeX\n",
    "plt.ylabel('$f(x)$') # Метка по оси y в формате TeX\n",
    "plt.grid(True) # Сетка\n",
    "plt.show() # Показать график\n",
    "print (h(f))"
   ]
  },
  {
   "cell_type": "code",
   "execution_count": null,
   "metadata": {},
   "outputs": [],
   "source": []
  },
  {
   "cell_type": "code",
   "execution_count": 38,
   "metadata": {},
   "outputs": [
    {
     "name": "stdout",
     "output_type": "stream",
     "text": [
      "[-5.]\n"
     ]
    }
   ],
   "source": [
    "from scipy.optimize import minimize, rosen, rosen_der\n",
    "\n",
    "res = minimize(f, 30, method='BFGS')\n",
    "\n",
    "print (f(res.x))\n",
    "res_a = f(res.x)\n",
    "with open('/Users/Daniel/Downloads/submission-6.txt', 'w') as file_obj:\n",
    "    file_obj.write(' '.join([str(i) for i in res_a]))\n",
    "with open('/Users/Daniel/Downloads/submission-6.txt', 'a') as file_obj:\n",
    "    file_obj.write(' ')"
   ]
  },
  {
   "cell_type": "code",
   "execution_count": 39,
   "metadata": {},
   "outputs": [
    {
     "name": "stdout",
     "output_type": "stream",
     "text": [
      "     fun: -11.0\n",
      " message: 'Optimization terminated successfully.'\n",
      "    nfev: 77\n",
      "     nit: 4\n",
      " success: True\n",
      "       x: array([26.39092902])\n",
      "[-11.]\n",
      "[-11.]\n"
     ]
    }
   ],
   "source": [
    "from scipy.optimize import rosen, differential_evolution\n",
    "bounds = [(1,30)]\n",
    "result = differential_evolution(f, bounds)\n",
    "print (result)\n",
    "print (f(result.x))\n",
    "res_g =  np.around((f(result.x)),2)\n",
    "print (res_g)\n",
    "with open('/Users/Daniel/Downloads/submission-6.txt', 'a') as file_obj:\n",
    "    file_obj.write(' '.join([str(i) for i in res_g]))"
   ]
  },
  {
   "cell_type": "code",
   "execution_count": null,
   "metadata": {},
   "outputs": [],
   "source": []
  }
 ],
 "metadata": {
  "kernelspec": {
   "display_name": "Python 3",
   "language": "python",
   "name": "python3"
  },
  "language_info": {
   "codemirror_mode": {
    "name": "ipython",
    "version": 3
   },
   "file_extension": ".py",
   "mimetype": "text/x-python",
   "name": "python",
   "nbconvert_exporter": "python",
   "pygments_lexer": "ipython3",
   "version": "3.7.4"
  }
 },
 "nbformat": 4,
 "nbformat_minor": 2
}
