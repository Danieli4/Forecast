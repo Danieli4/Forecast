{
 "cells": [
  {
   "cell_type": "code",
   "execution_count": 15,
   "metadata": {},
   "outputs": [],
   "source": [
    "import numpy as np \n",
    "import pandas as pd\n",
    "import math"
   ]
  },
  {
   "cell_type": "code",
   "execution_count": 8,
   "metadata": {},
   "outputs": [],
   "source": [
    "data = pd.read_csv(\"water.txt\", sep=\"\\t\")"
   ]
  },
  {
   "cell_type": "code",
   "execution_count": 47,
   "metadata": {},
   "outputs": [
    {
     "output_type": "execute_result",
     "data": {
      "text/plain": "   location           town  mortality  hardness\n0     South           Bath       1247       105\n1     North     Birkenhead       1668        17\n2     South     Birmingham       1466         5\n3     North      Blackburn       1800        14\n4     North      Blackpool       1609        18\n..      ...            ...        ...       ...\n56    South        Walsall       1527        60\n57    South  West Bromwich       1627        53\n58    South       West Ham       1486       122\n59    South  Wolverhampton       1485        81\n60    North           York       1378        71\n\n[61 rows x 4 columns]",
      "text/html": "<div>\n<style scoped>\n    .dataframe tbody tr th:only-of-type {\n        vertical-align: middle;\n    }\n\n    .dataframe tbody tr th {\n        vertical-align: top;\n    }\n\n    .dataframe thead th {\n        text-align: right;\n    }\n</style>\n<table border=\"1\" class=\"dataframe\">\n  <thead>\n    <tr style=\"text-align: right;\">\n      <th></th>\n      <th>location</th>\n      <th>town</th>\n      <th>mortality</th>\n      <th>hardness</th>\n    </tr>\n  </thead>\n  <tbody>\n    <tr>\n      <th>0</th>\n      <td>South</td>\n      <td>Bath</td>\n      <td>1247</td>\n      <td>105</td>\n    </tr>\n    <tr>\n      <th>1</th>\n      <td>North</td>\n      <td>Birkenhead</td>\n      <td>1668</td>\n      <td>17</td>\n    </tr>\n    <tr>\n      <th>2</th>\n      <td>South</td>\n      <td>Birmingham</td>\n      <td>1466</td>\n      <td>5</td>\n    </tr>\n    <tr>\n      <th>3</th>\n      <td>North</td>\n      <td>Blackburn</td>\n      <td>1800</td>\n      <td>14</td>\n    </tr>\n    <tr>\n      <th>4</th>\n      <td>North</td>\n      <td>Blackpool</td>\n      <td>1609</td>\n      <td>18</td>\n    </tr>\n    <tr>\n      <th>...</th>\n      <td>...</td>\n      <td>...</td>\n      <td>...</td>\n      <td>...</td>\n    </tr>\n    <tr>\n      <th>56</th>\n      <td>South</td>\n      <td>Walsall</td>\n      <td>1527</td>\n      <td>60</td>\n    </tr>\n    <tr>\n      <th>57</th>\n      <td>South</td>\n      <td>West Bromwich</td>\n      <td>1627</td>\n      <td>53</td>\n    </tr>\n    <tr>\n      <th>58</th>\n      <td>South</td>\n      <td>West Ham</td>\n      <td>1486</td>\n      <td>122</td>\n    </tr>\n    <tr>\n      <th>59</th>\n      <td>South</td>\n      <td>Wolverhampton</td>\n      <td>1485</td>\n      <td>81</td>\n    </tr>\n    <tr>\n      <th>60</th>\n      <td>North</td>\n      <td>York</td>\n      <td>1378</td>\n      <td>71</td>\n    </tr>\n  </tbody>\n</table>\n<p>61 rows × 4 columns</p>\n</div>"
     },
     "metadata": {},
     "execution_count": 47
    }
   ],
   "source": [
    "data\n",
    "data"
   ]
  },
  {
   "cell_type": "code",
   "execution_count": 10,
   "metadata": {},
   "outputs": [
    {
     "output_type": "execute_result",
     "data": {
      "text/plain": "array([1247, 1668, 1466, 1800, 1609, 1558, 1807, 1299, 1637, 1359, 1392,\n       1755, 1519, 1307, 1254, 1491, 1555, 1428, 1318, 1260, 1723, 1379,\n       1742, 1574, 1569, 1096, 1591, 1402, 1772, 1828, 1704, 1702, 1581,\n       1309, 1259, 1427, 1724, 1175, 1486, 1456, 1696, 1236, 1711, 1444,\n       1591, 1987, 1495, 1369, 1257, 1587, 1713, 1557, 1640, 1709, 1625,\n       1625, 1527, 1627, 1486, 1485, 1378])"
     },
     "metadata": {},
     "execution_count": 10
    }
   ],
   "source": [
    "mor = np.array(data['mortality'])\n",
    "mor"
   ]
  },
  {
   "cell_type": "code",
   "execution_count": 29,
   "metadata": {},
   "outputs": [
    {
     "output_type": "execute_result",
     "data": {
      "text/plain": "(1476.0833413552848, 1572.2117406119285)"
     },
     "metadata": {},
     "execution_count": 29
    }
   ],
   "source": [
    "from statsmodels.stats.weightstats import _zconfint_generic, _tconfint_generic\n",
    "mor_std = mor.std(ddof=1)/math.sqrt(len(mor))\n",
    "mor_std\n",
    "_tconfint_generic(mor.mean(), mor_std, len(mor)-1, 0.05, 'two-sided')"
   ]
  },
  {
   "cell_type": "code",
   "execution_count": 36,
   "metadata": {},
   "outputs": [],
   "source": [
    "data2 = data.drop(np.where(data['location'] == \"North\")[0])\n",
    "mor2 = np.array(data2['mortality'])"
   ]
  },
  {
   "cell_type": "code",
   "execution_count": 37,
   "metadata": {},
   "outputs": [
    {
     "output_type": "execute_result",
     "data": {
      "text/plain": "(1320.1517462936238, 1433.463638321761)"
     },
     "metadata": {},
     "execution_count": 37
    }
   ],
   "source": [
    "mor2 = np.array(data2['mortality'])\n",
    "mor_std2 = mor2.std(ddof=1)/math.sqrt(len(mor2))\n",
    "_tconfint_generic(mor2.mean(), mor_std2, len(mor2)-1, 0.05, 'two-sided')"
   ]
  },
  {
   "cell_type": "code",
   "execution_count": 44,
   "metadata": {},
   "outputs": [
    {
     "output_type": "execute_result",
     "data": {
      "text/plain": "(1586.5605251961385, 1680.6394748038613)"
     },
     "metadata": {},
     "execution_count": 44
    }
   ],
   "source": [
    "data3 = data.drop(np.where(data['location'] == \"South\")[0])\n",
    "mor3 = np.array(data3['mortality'])\n",
    "\n",
    "mor_std3 = mor3.std(ddof=1)/math.sqrt(len(mor3))\n",
    "_tconfint_generic(mor3.mean(), mor_std3, len(mor3)-1, 0.05, 'two-sided')"
   ]
  },
  {
   "cell_type": "code",
   "execution_count": 48,
   "metadata": {},
   "outputs": [
    {
     "output_type": "execute_result",
     "data": {
      "text/plain": "(53.467198692036106, 86.07126284642544)"
     },
     "metadata": {},
     "execution_count": 48
    }
   ],
   "source": [
    "data4 = data.drop(np.where(data['location'] == \"North\")[0])\n",
    "mor4 = np.array(data4['hardness'])\n",
    "mor_std4 = mor4.std(ddof=1)/math.sqrt(len(mor4))\n",
    "_tconfint_generic(mor4.mean(), mor_std4, len(mor4)-1, 0.05, 'two-sided')"
   ]
  },
  {
   "cell_type": "code",
   "execution_count": 50,
   "metadata": {},
   "outputs": [
    {
     "output_type": "execute_result",
     "data": {
      "text/plain": "(21.42248728572426, 39.37751271427574)"
     },
     "metadata": {},
     "execution_count": 50
    }
   ],
   "source": [
    "data5 = data.drop(np.where(data['location'] == \"South\")[0])\n",
    "mor5 = np.array(data5['hardness'])\n",
    "mor_std5 = mor5.std(ddof=1)/math.sqrt(len(mor5))\n",
    "_tconfint_generic(mor5.mean(), mor_std5, len(mor5)-1, 0.05, 'two-sided')"
   ]
  },
  {
   "cell_type": "code",
   "execution_count": 60,
   "metadata": {},
   "outputs": [
    {
     "output_type": "execute_result",
     "data": {
      "text/plain": "2.0"
     },
     "metadata": {},
     "execution_count": 60
    }
   ],
   "source": [
    "import scipy.stats\n",
    "np.ceil((scipy.stats.norm.ppf(1-0.05/2)))"
   ]
  },
  {
   "cell_type": "code",
   "execution_count": null,
   "metadata": {},
   "outputs": [],
   "source": []
  }
 ],
 "metadata": {
  "language_info": {
   "codemirror_mode": {
    "name": "ipython",
    "version": 3
   },
   "file_extension": ".py",
   "mimetype": "text/x-python",
   "name": "python",
   "nbconvert_exporter": "python",
   "pygments_lexer": "ipython3",
   "version": "3.7.6-final"
  },
  "orig_nbformat": 2,
  "kernelspec": {
   "name": "pycharm-f1c15d12",
   "display_name": "PyCharm (untitled)"
  }
 },
 "nbformat": 4,
 "nbformat_minor": 2
}