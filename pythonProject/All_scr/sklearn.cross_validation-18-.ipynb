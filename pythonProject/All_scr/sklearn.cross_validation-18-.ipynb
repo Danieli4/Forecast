{
 "cells": [
  {
   "cell_type": "markdown",
   "metadata": {},
   "source": [
    "**Корректность проверена на Python 3.6:**\n",
    "+ numpy 1.15.4\n",
    "+ sklearn 0.20.2"
   ]
  },
  {
   "cell_type": "markdown",
   "metadata": {},
   "source": [
    "# Sklearn"
   ]
  },
  {
   "cell_type": "markdown",
   "metadata": {},
   "source": [
    "## sklearn.model_selection"
   ]
  },
  {
   "cell_type": "markdown",
   "metadata": {},
   "source": [
    "документация: http://scikit-learn.org/stable/modules/cross_validation.html"
   ]
  },
  {
   "cell_type": "code",
   "execution_count": 1,
   "metadata": {},
   "outputs": [],
   "source": [
    "from sklearn import model_selection, datasets\n",
    "\n",
    "import numpy as np"
   ]
  },
  {
   "cell_type": "markdown",
   "metadata": {},
   "source": [
    "### Разовое разбиение данных на обучение и тест с помощью train_test_split"
   ]
  },
  {
   "cell_type": "code",
   "execution_count": 2,
   "metadata": {},
   "outputs": [],
   "source": [
    "iris = datasets.load_iris()"
   ]
  },
  {
   "cell_type": "code",
   "execution_count": 3,
   "metadata": {},
   "outputs": [],
   "source": [
    "train_data, test_data, train_labels, test_labels = model_selection.train_test_split(iris.data, iris.target, \n",
    "                                                                                     test_size = 0.3)"
   ]
  },
  {
   "cell_type": "code",
   "execution_count": 4,
   "metadata": {},
   "outputs": [
    {
     "data": {
      "text/plain": [
       "0.3"
      ]
     },
     "execution_count": 4,
     "metadata": {},
     "output_type": "execute_result"
    }
   ],
   "source": [
    "#убедимся, что тестовая выборка действительно составляет 0.3 от всех данных\n",
    "float(len(test_labels))/len(iris.data)"
   ]
  },
  {
   "cell_type": "code",
   "execution_count": 5,
   "metadata": {},
   "outputs": [
    {
     "name": "stdout",
     "output_type": "stream",
     "text": [
      "Размер обучающей выборки: 105 объектов \n",
      "Размер тестовой выборки: 45 объектов\n"
     ]
    }
   ],
   "source": [
    "print('Размер обучающей выборки: {} объектов \\nРазмер тестовой выборки: {} объектов'.format(len(train_data),\n",
    "                                                                                            len(test_data)))"
   ]
  },
  {
   "cell_type": "code",
   "execution_count": 6,
   "metadata": {},
   "outputs": [
    {
     "name": "stdout",
     "output_type": "stream",
     "text": [
      "Обучающая выборка:\n",
      " [[6.3 2.5 5.  1.9]\n",
      " [5.5 4.2 1.4 0.2]\n",
      " [6.5 3.2 5.1 2. ]\n",
      " [5.  3.2 1.2 0.2]\n",
      " [6.9 3.1 4.9 1.5]]\n",
      "\n",
      "\n",
      "Тестовая выборка:\n",
      " [[5.7 3.8 1.7 0.3]\n",
      " [4.9 3.  1.4 0.2]\n",
      " [5.9 3.2 4.8 1.8]\n",
      " [6.4 2.7 5.3 1.9]\n",
      " [5.4 3.9 1.7 0.4]]\n"
     ]
    }
   ],
   "source": [
    "print('Обучающая выборка:\\n', train_data[:5])\n",
    "print('\\n')\n",
    "print('Тестовая выборка:\\n', test_data[:5])"
   ]
  },
  {
   "cell_type": "code",
   "execution_count": 7,
   "metadata": {},
   "outputs": [
    {
     "name": "stdout",
     "output_type": "stream",
     "text": [
      "Метки классов на обучающей выборке:\n",
      " [2 0 2 0 1 0 1 0 1 1 1 2 0 1 2 1 2 2 2 0 2 1 1 2 0 2 1 0 2 2 2 2 0 0 0 1 1\n",
      " 1 2 2 1 2 0 1 0 0 0 1 1 1 0 2 0 2 1 1 0 0 0 1 1 0 1 1 1 0 0 2 0 1 0 2 1 2\n",
      " 2 0 2 1 2 2 1 1 2 2 1 2 1 0 2 2 0 1 2 0 1 1 2 0 0 2 2 1 0 0 0]\n",
      "\n",
      "\n",
      "Метки классов на тестовой выборке:\n",
      " [0 0 1 2 0 1 1 0 1 2 2 1 0 2 1 2 2 2 0 2 2 0 0 0 0 2 1 1 1 2 1 0 2 0 2 1 0\n",
      " 2 2 0 0 1 1 0 1]\n"
     ]
    }
   ],
   "source": [
    "print('Метки классов на обучающей выборке:\\n', train_labels)\n",
    "print('\\n')\n",
    "print('Метки классов на тестовой выборке:\\n', test_labels)"
   ]
  },
  {
   "cell_type": "markdown",
   "metadata": {},
   "source": [
    "### Стратегии проведения кросс-валидации"
   ]
  },
  {
   "cell_type": "code",
   "execution_count": 44,
   "metadata": {},
   "outputs": [
    {
     "name": "stdout",
     "output_type": "stream",
     "text": [
      "range(0, 50)\n"
     ]
    }
   ],
   "source": [
    "#сгенерируем короткое подобие датасета, где элементы совпадают с порядковым номером\n",
    "X = range(0,50)\n",
    "print (X)"
   ]
  },
  {
   "cell_type": "markdown",
   "metadata": {},
   "source": [
    "#### KFold"
   ]
  },
  {
   "cell_type": "code",
   "execution_count": 10,
   "metadata": {},
   "outputs": [
    {
     "name": "stdout",
     "output_type": "stream",
     "text": [
      "[2 3 4 5 6 7 8 9] [0 1]\n",
      "[0 1 4 5 6 7 8 9] [2 3]\n",
      "[0 1 2 3 6 7 8 9] [4 5]\n",
      "[0 1 2 3 4 5 8 9] [6 7]\n",
      "[0 1 2 3 4 5 6 7] [8 9]\n"
     ]
    }
   ],
   "source": [
    "kf = model_selection.KFold(n_splits = 5)\n",
    "for train_indices, test_indices in kf.split(X):\n",
    "    print(train_indices, test_indices)"
   ]
  },
  {
   "cell_type": "code",
   "execution_count": 11,
   "metadata": {},
   "outputs": [
    {
     "name": "stdout",
     "output_type": "stream",
     "text": [
      "[1 4 5 7 9] [0 2 3 6 8]\n",
      "[0 2 3 6 8] [1 4 5 7 9]\n"
     ]
    }
   ],
   "source": [
    "kf = model_selection.KFold(n_splits = 2, shuffle = True)\n",
    "for train_indices, test_indices in kf.split(X):\n",
    "    print(train_indices, test_indices)"
   ]
  },
  {
   "cell_type": "code",
   "execution_count": 12,
   "metadata": {},
   "outputs": [
    {
     "name": "stdout",
     "output_type": "stream",
     "text": [
      "[1 3 5 7 8] [0 2 4 6 9]\n",
      "[0 2 4 6 9] [1 3 5 7 8]\n"
     ]
    }
   ],
   "source": [
    "kf = model_selection.KFold(n_splits = 2, shuffle = True, random_state = 1)\n",
    "for train_indices, test_indices in kf.split(X):\n",
    "    print(train_indices, test_indices)"
   ]
  },
  {
   "cell_type": "markdown",
   "metadata": {},
   "source": [
    "#### StratifiedKFold"
   ]
  },
  {
   "cell_type": "code",
   "execution_count": 37,
   "metadata": {},
   "outputs": [
    {
     "name": "stdout",
     "output_type": "stream",
     "text": [
      "[0 0 0 0 0 1 1 1 1 1]\n",
      "[3 4 8 9] [0 1 2 5 6 7]\n",
      "[0 1 2 5 6 7] [3 4 8 9]\n"
     ]
    }
   ],
   "source": [
    "y = np.array([0] * 5 + [1] * 5)\n",
    "print(y)\n",
    "\n",
    "skf = model_selection.StratifiedKFold(n_splits = 2, shuffle = True, random_state = 0)\n",
    "for train_indices, test_indices in skf.split(X, y):\n",
    "    print(train_indices, test_indices)"
   ]
  },
  {
   "cell_type": "code",
   "execution_count": 31,
   "metadata": {},
   "outputs": [
    {
     "name": "stdout",
     "output_type": "stream",
     "text": [
      "[0 1 0 1 0 1 0 1 0 1]\n",
      "[1 2 8 9] [0 3 4 5 6 7]\n",
      "[0 3 4 5 6 7] [1 2 8 9]\n"
     ]
    }
   ],
   "source": [
    "target = np.array([0, 1] * 5)\n",
    "print(target)\n",
    "\n",
    "skf = model_selection.StratifiedKFold(n_splits = 2,shuffle = True)\n",
    "for train_indices, test_indices in skf.split(X, target):\n",
    "    print(train_indices, test_indices)"
   ]
  },
  {
   "cell_type": "markdown",
   "metadata": {},
   "source": [
    "#### ShuffleSplit"
   ]
  },
  {
   "cell_type": "code",
   "execution_count": 48,
   "metadata": {},
   "outputs": [
    {
     "name": "stdout",
     "output_type": "stream",
     "text": [
      "[49 37 31 46  3 38 26 25 40 36 17 14  1 42  2 41 18 35  8 34 43  5 32 30\n",
      "  4  9 16 27 20 23  7  0 28 19 15 47 44 12 11 10] [33 29 39 22 21 24 13 45  6 48]\n",
      "[49 42 37  3 43 11 19 34 14 13  8 29  2 48  9 36 32  1 35 40 24 21 33 30\n",
      " 38  4  7 17 45  6 39 10 46 26 20 15 31 28 25 18] [23 22 16  5 27 44  0 12 41 47]\n",
      "[45 43 18 15 21  5 22 48 17 36 37 33 46 49 13 12 11 32 40 16  0  7 35 47\n",
      "  4 23  2 10  9 30 39 25 44 26  3 19 20 28 38 24] [42 34 29 27  1 14 31  8 41  6]\n",
      "[24 21  8 40 32 14 42 47 45 18 39 19 28 17 12 33 29 41 46 44 37  0  6  2\n",
      " 38 11 31  7 48 26 23 13 27 20  9  5 43 35 25  3] [34 10 30 22 36  4  1 49 16 15]\n",
      "[23  9 21  2 39 12  5 32 47 18 33 31 29 13  8 48 26 35 44 22  6 27 10 41\n",
      " 43 15 38 42 37 16 17 30 49 45  0  4 28 24 36  7] [ 3  1 40 25 46 20 11 34 19 14]\n",
      "[34  5 39  2 47 31 29  4 30 15 48 14 32 40  7 45 20 18  9 10 41 27 11 35\n",
      " 28 42 24 43 33 12 22  0 38 19 16 49 21  3 13 25] [23 36  6  1  8 44 17 26 46 37]\n",
      "[39 15  2 36 45  8 21 22 25  9  5 44 49 35 19 48 26 47  3  7 13 38 43 41\n",
      " 46  6 34 12 11 28 30 32  0 10 31 20 33 23 29  4] [ 1 17 14 16 18 42 37 40 27 24]\n",
      "[16 21 17  4 33  8  1 22 14 44 36 43 42 32 11 38 30  7 10 18 12  3 47 19\n",
      " 41  0 31 23  6 28  2 29 26  5 45 46 39 20 24 27] [40 49 35 34 15 48 25 13 37  9]\n",
      "[42  4 18 13 32  6 37  2 36  3 22 31  0 26 12  7 40 30 44 19 17 15 10 33\n",
      " 11 20 27 38 34 21 28 47 41 43  1 23 25 24  8 35] [14 39 29  9  5 48 46 45 49 16]\n",
      "[22 32 29  3 15 16 47 23 25 20 36 45  9  4 26 40 28 10 18 35  2 21 49  8\n",
      " 46  0 31 34 41 30 38 43 14 17 24 44 27  5 12  6] [19  7 48 39 37  1 42 11 13 33]\n",
      "[10 44 37 32 14 28 49 18 23 17  3  9 22 24 21 33 38 48  1 43  8 35  4  7\n",
      " 30 12 13 26 42 15 16 47 11 27 31 46  6  5 36 45] [19 34 20 41 29 40 39  0  2 25]\n",
      "[33 24 40 20 19  1 23 15 14 39 31  0 10 26 25 21  2 35 11 18 29 37  5 43\n",
      " 32  9 44 36 49 41  6  3 38 16 48 17 30 27 28 12] [ 7 13 22 34 46  8 45 47  4 42]\n",
      "[14 30 42 41 39 37 19 34 49 29  6 11 40 27 31  4  5 22 24 26  0 48  3 46\n",
      " 44 23 43 18 17  2 47 10 36 20 15  7 28 21 16 33] [ 1 38 45  9 13 32 35  8 25 12]\n",
      "[29 28 39 11 22 21  2 38 10  6 30 14 25 49 26 44 46 27 37 20 12 17 15 35\n",
      " 32  8 42 45 16 24  5 43 48  0 23 18 34 19  1 13] [31 47  7 41 36  9  3  4 33 40]\n",
      "[40 15 17 11  4 47  2 42  6 49 24  1 44 45 30 46 28 31 21 34 13 37  3 38\n",
      "  7 35 16  9 22 29 41 20 43 10 27 33 18 48 26 12] [14  0 19 25  8 23  5 36 39 32]\n",
      "[ 8 27 38 49 32 36 26 45 13 37 41 19 23 47 22 10 48  1 28  3 46 24 35 40\n",
      "  9 42 33 34 31 39 11  4 29 18 17 30  5 21 16 15] [ 0 44 43  2 20  7 12 25  6 14]\n",
      "[30 45  9 41 34 19 27 40 31  1 16  5 10 38  2 26  0 13 46 49 18 36 33  3\n",
      " 25 11 15 42 43 23 12 32 24  4 21 28 20 17  6 22] [ 8 29 37 47 14 44 35  7 48 39]\n",
      "[28  7 48 12 19 30  0 25 43 36 39  5 20 47 38  6 13 21 23  1 14 15  3 22\n",
      "  2 17  4 24 45 29  9 34 31 42 44 26  8 41 33 27] [46 49 10 35 37 32 18 11 16 40]\n",
      "[24 18 19 35 28 39  9 49 20 45 32 22 13 31  7  4  5 38 43 16  3 33 44 23\n",
      " 14  0 42 48  8  6  1 25 11 21 26 10 30 40 17 34] [29 27 47 41  2 36 15 12 46 37]\n",
      "[40  1 28  3 15 19 45 36 11 17  7 20 26 41 10 23 47 35 34 24  8 14 12 22\n",
      " 18 13 46 21  0 32 37  9 44 49 33 30 27 42  6 39] [38 31 16 43 29 25  2  4  5 48]\n",
      "[25 31 23 48  0 37 32 45  7 47 19 40 43 16 30  4 33 41 28 46 38  5 11 15\n",
      "  8 26  9  2 36 17 22 35  1 14 10 27 13 42 24 44] [ 3 12 34 29 18 49  6 21 20 39]\n",
      "[48 46 17 28  5 16 25  7  1 32 14  8  2 40 19 30 34  3 49 41 15  6 39  4\n",
      " 35 20 33 42 36 38 26 22 21 31 18 11  0 45 10 29] [ 9 12 13 47 24 43 23 37 27 44]\n",
      "[ 5  6 44 18 34 15 20 36 13 39 32  0 22 11 17 49  2 47  4 23 31 29  8 27\n",
      " 42 43 10 45 40 38 48 19  3 21 25  1 46 24 37 28] [33 35 14 26 30  7 41 12  9 16]\n",
      "[48 19 11  2 31 34 49 39 28 23 25  3 13 17  0 46 40 45 33 26 12  6 36 10\n",
      " 14 37 42 35 24 30 41 44 32 20  4 47 15  5  1 27] [21 18  8 16 43 29  7 22 38  9]\n",
      "[48  7 13 46 24 38  8  4 39 42  1  6  0 16 36 45 19 30 20  9 17 35 18 31\n",
      " 41 15  5 21 27 29 37 11 10 28 22 32 47  2 25 44] [40 43 23 26 49 12  3 33 34 14]\n",
      "[22 20 45  0 38 13  6 40  7 12 26  8 33 34 17 27 11 36  4  3 47  9  5 43\n",
      " 25 49 42 39 10  2  1 41 37 23 32 18 14 44 24 35] [21 19 31 29 16 48 15 28 46 30]\n",
      "[ 5 35 43 11 27 29 48 34 38 24  8 32 44 26 18 45 23 17  3 12 40 30 46 47\n",
      " 14 15 33  2  9 39 22  0 36 20 21 25 41  6 49 31] [13  1 42 19 37  7 10 16 28  4]\n",
      "[35 38  8 32 43  4 39 49 17 21  5 25 30 48 15  9 18 31  0 40  3 14 26 34\n",
      " 45 33 47  6 10 27 22 28  7 11 12 41 23 37  1 13] [20 46 42 44 36 19  2 29 16 24]\n",
      "[45 43 10 26 30 33  0 32 11  4  7  2 37 27 34 31 21 18 15 40 12 25 13 20\n",
      "  9  1  3 23 36 28 24 42  6 41 39 38 22 14 44 19] [ 8 35 49  5 17 29 16 47 46 48]\n",
      "[37 49 36 28 40  5 13 15 26 38 43  2 31 27 48 25  6 11  8 47 29 12 44  0\n",
      " 45 18 32 33 17  7  9 22 23 20 21 16 35 10  1 46] [41  4  3 39 19 24 30 14 34 42]\n",
      "[45 43 15 37  3 28 36 18  2  0 49 38  8  9  4 34 25 12 19 16 42 26 11 24\n",
      " 27 22 17 33 20  7 10 31 44 14 13  5  6 29 41 46] [30  1 39 47 48 23 35 21 40 32]\n",
      "[20 21 38 48 36 31 41 16 30 28 44 22  7 34 39 12 25 43 32 45 19 10  0 35\n",
      " 47 11 26 37 46  5 29 49 15 13 27 18 33 40  9  1] [ 4 17 42  6  3  8 23  2 24 14]\n",
      "[21 19 38 24 11 47 28 25 13 49 27 33 37 41 35 23 29 17  0 14 46  8 32 26\n",
      " 42 45 39 44 40 31 48  6 10 22 15 16  5 12  1 36] [18 30  7  2  4  3  9 43 20 34]\n",
      "[46 12  0 49 42 15 35 39 19  4  1  5 24 17 33 32  3 48 30 31 14 16 38  9\n",
      " 20 11 29 10 45 27 37  8 25 22 26 40 34 21  7 43] [36  2 28 18  6 23 13 44 47 41]\n",
      "[42 12 41 14 35 31 39 45 27  9 11  6 23 30 49 22  0  3 28  8 13 20 36 17\n",
      " 38 43  1 10  4 25 46 34  7  5 37 32 40 19 24 48] [29 26 15 18 44 47  2 21 33 16]\n",
      "[ 8 31 10 40 29 39 35  2 28 34  7 16 12  3 24  1 27  4 42 15 23 41  0 37\n",
      " 14 13 17 38 22 30 46  5 20 44 33 36 49  9 18 47] [25 32 26 45  6 19 48 11 43 21]\n",
      "[39  3 14 23  4 29 18 17  7 12 19  2 49  6 30 13 24 11 32 16 37 44 45 21\n",
      "  0  5  8 41 35 10 27 34 28 22 33 15 46 36  1  9] [25 26 48 38 42 31 47 43 20 40]\n",
      "[39 23  9 40 30 38 46 24  8 17 22  5 19 48 34 37 35 32 29 33 25 43 27  7\n",
      " 21  4 45 28 41  1 26 31  0 14 36 15 20  6 11  3] [10 18 42 49 12 47 44  2 13 16]\n",
      "[18 12 29 32 35 43 42 41 16 44  5  1  4 47 40  6 13 22 24 21  2 14 33 48\n",
      " 31 46 15 20  0 26  7 19 36 11 37 25 27  9 49  3] [23 17 38 10 45 39  8 28 30 34]\n",
      "[30 37 31 29  6 39 41 34 35  9 47  0 36  7 15 33 10 16 38 14 19 23 49 45\n",
      " 27 17 46 18 48  8 32 11 12 22 21  2 42 44 24 20] [26  4 25  1 13  5 40 28  3 43]\n"
     ]
    },
    {
     "data": {
      "text/plain": [
       "array([26,  4, 25,  1, 13,  5, 40, 28,  3, 43])"
      ]
     },
     "execution_count": 48,
     "metadata": {},
     "output_type": "execute_result"
    }
   ],
   "source": [
    "ss = model_selection.ShuffleSplit(n_splits = 40, test_size = 10)\n",
    "\n",
    "for train_indices, test_indices in ss.split(X):\n",
    "    print(train_indices, test_indices)\n",
    "test_indices"
   ]
  },
  {
   "cell_type": "markdown",
   "metadata": {},
   "source": [
    "#### StratifiedShuffleSplit"
   ]
  },
  {
   "cell_type": "code",
   "execution_count": 42,
   "metadata": {},
   "outputs": [
    {
     "name": "stdout",
     "output_type": "stream",
     "text": [
      "[0 0 0 0 0 1 1 1 1 1]\n",
      "[5 9 4 3 6 7 2 1] [8 0]\n",
      "[0 6 1 2 3 8 9 7] [5 4]\n",
      "[6 1 9 8 7 2 4 3] [0 5]\n",
      "[5 7 0 4 8 3 9 2] [1 6]\n"
     ]
    }
   ],
   "source": [
    "target = np.array([0] * 5 + [1] * 5)\n",
    "print(target)\n",
    "\n",
    "sss = model_selection.StratifiedShuffleSplit(n_splits = 4, test_size = 0.2)\n",
    "for train_indices, test_indices in sss.split(X, target):\n",
    "    print(train_indices, test_indices)"
   ]
  },
  {
   "cell_type": "markdown",
   "metadata": {},
   "source": [
    "#### Leave-One-Out"
   ]
  },
  {
   "cell_type": "code",
   "execution_count": 43,
   "metadata": {},
   "outputs": [
    {
     "name": "stdout",
     "output_type": "stream",
     "text": [
      "[1 2 3 4 5 6 7 8 9] [0]\n",
      "[0 2 3 4 5 6 7 8 9] [1]\n",
      "[0 1 3 4 5 6 7 8 9] [2]\n",
      "[0 1 2 4 5 6 7 8 9] [3]\n",
      "[0 1 2 3 5 6 7 8 9] [4]\n",
      "[0 1 2 3 4 6 7 8 9] [5]\n",
      "[0 1 2 3 4 5 7 8 9] [6]\n",
      "[0 1 2 3 4 5 6 8 9] [7]\n",
      "[0 1 2 3 4 5 6 7 9] [8]\n",
      "[0 1 2 3 4 5 6 7 8] [9]\n"
     ]
    }
   ],
   "source": [
    "loo = model_selection.LeaveOneOut()\n",
    "\n",
    "for train_indices, test_index in loo.split(X):\n",
    "    print(train_indices, test_index)"
   ]
  },
  {
   "cell_type": "markdown",
   "metadata": {},
   "source": [
    "Больше стратегий проведения кросс-валидации доступно здесь: http://scikit-learn.org/stable/modules/cross_validation.html#cross-validation-iterators"
   ]
  }
 ],
 "metadata": {
  "anaconda-cloud": {},
  "kernelspec": {
   "display_name": "Python 3",
   "language": "python",
   "name": "python3"
  },
  "language_info": {
   "codemirror_mode": {
    "name": "ipython",
    "version": 3
   },
   "file_extension": ".py",
   "mimetype": "text/x-python",
   "name": "python",
   "nbconvert_exporter": "python",
   "pygments_lexer": "ipython3",
   "version": "3.7.4"
  }
 },
 "nbformat": 4,
 "nbformat_minor": 1
}
