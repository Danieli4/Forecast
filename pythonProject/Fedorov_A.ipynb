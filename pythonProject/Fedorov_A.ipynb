{
 "cells": [
  {
   "cell_type": "markdown",
   "metadata": {
    "colab_type": "text",
    "id": "qzS2YPQ8jgfa"
   },
   "source": [
    "Прогнозирование акций Лукойл"
   ]
  },
  {
   "cell_type": "code",
   "execution_count": 1,
   "metadata": {
    "colab": {
     "base_uri": "https://localhost:8080/",
     "height": 80
    },
    "colab_type": "code",
    "id": "OOweilL20R7n",
    "outputId": "0d3691f1-3086-4733-9b5c-86f14d8640a6"
   },
   "outputs": [
    {
     "name": "stdout",
     "output_type": "stream",
     "text": [
      "Ok\n"
     ]
    }
   ],
   "source": [
    "#Загружаем библиотеки\n",
    "\n",
    "import pandas as pd #Пандас\n",
    "import matplotlib.pyplot as plt #Отрисовка графиков\n",
    "from tensorflow.keras import utils #Для to_categorical\n",
    "import numpy as np #Numpy\n",
    "from keras.optimizers import Adam #Оптимизатор\n",
    "from keras.models import Sequential, Model #Два варианты моделей\n",
    "from keras.layers import concatenate, Input, Dense, Dropout, BatchNormalization, Flatten, Conv1D, Conv2D, LSTM #Стандартные слои\n",
    "from sklearn.preprocessing import StandardScaler, MinMaxScaler #Нормировщики\n",
    "\n",
    "# Рисовать графики сразу же\n",
    "%matplotlib inline\n",
    "\n",
    "import os\n",
    "print (\"Ok\")"
   ]
  },
  {
   "cell_type": "code",
   "execution_count": 2,
   "metadata": {
    "colab": {
     "base_uri": "https://localhost:8080/",
     "height": 34
    },
    "colab_type": "code",
    "id": "XQa_bVJ8cNKg",
    "outputId": "6373b6d4-43c6-45b2-af0e-86910eab176c"
   },
   "outputs": [
    {
     "name": "stdout",
     "output_type": "stream",
     "text": [
      "Ok\n"
     ]
    },
    {
     "name": "stderr",
     "output_type": "stream",
     "text": [
      "\"ls\" ­Ґ пў«пҐвбп ў­гваҐ­­Ґ© Ё«Ё ў­Ґи­Ґ©\n",
      "Є®¬ ­¤®©, ЁбЇ®«­пҐ¬®© Їа®Ја ¬¬®© Ё«Ё Ї ЄҐв­л¬ д ©«®¬.\n"
     ]
    }
   ],
   "source": [
    "#Загружаем архив с текстами с FTP/HTTP\n",
    "def loadfiles(filename, fullpath):\n",
    "  loaded = True\n",
    "  if os.path.isfile(filename):\n",
    "      print(\"File \\\"\", filename, \"\\\" has already downloaded.\")\n",
    "  else:\n",
    "    print(\"Start downloading\", filename)\n",
    "    !wget $fullpath\n",
    "    !unzip $filename \n",
    "    loaded = False\n",
    "  return loaded    \n",
    "   \n",
    "!ls\n",
    "print (\"Ok\")"
   ]
  },
  {
   "cell_type": "code",
   "execution_count": 3,
   "metadata": {
    "colab": {
     "base_uri": "https://localhost:8080/",
     "height": 408
    },
    "colab_type": "code",
    "id": "fWAn1IRBcREa",
    "outputId": "dbd00427-caf2-4e01-a545-26015471d514"
   },
   "outputs": [
    {
     "name": "stdout",
     "output_type": "stream",
     "text": [
      "http://www.bizkit.ru/wp-content/uploads/COLAB/onestock_oneminute.zip\n",
      "Start downloading onestock_oneminute.zip\n"
     ]
    },
    {
     "name": "stderr",
     "output_type": "stream",
     "text": [
      "\"wget\" ­Ґ пў«пҐвбп ў­гваҐ­­Ґ© Ё«Ё ў­Ґи­Ґ©\n",
      "Є®¬ ­¤®©, ЁбЇ®«­пҐ¬®© Їа®Ја ¬¬®© Ё«Ё Ї ЄҐв­л¬ д ©«®¬.\n",
      "\"unzip\" ­Ґ пў«пҐвбп ў­гваҐ­­Ґ© Ё«Ё ў­Ґи­Ґ©\n",
      "Є®¬ ­¤®©, ЁбЇ®«­пҐ¬®© Їа®Ја ¬¬®© Ё«Ё Ї ЄҐв­л¬ д ©«®¬.\n"
     ]
    }
   ],
   "source": [
    "URL = \"http://www.bizkit.ru/wp-content/uploads/COLAB/\"\n",
    "filename = \"onestock_oneminute.zip\"\n",
    "fullpath = URL + filename\n",
    "print(fullpath)\n",
    "loaded = loadfiles(filename, fullpath) "
   ]
  },
  {
   "cell_type": "code",
   "execution_count": 4,
   "metadata": {
    "colab": {},
    "colab_type": "code",
    "id": "Qz4f-yMM1F9T"
   },
   "outputs": [],
   "source": [
    "#Загружаем файл базы\n",
    "#files.upload()\n",
    "#!ls"
   ]
  },
  {
   "cell_type": "code",
   "execution_count": 5,
   "metadata": {
    "colab": {},
    "colab_type": "code",
    "id": "l-qaenB6NXYv"
   },
   "outputs": [],
   "source": [
    "#!ls #Проверяем загруженные файлы"
   ]
  },
  {
   "cell_type": "code",
   "execution_count": 6,
   "metadata": {
    "colab": {
     "base_uri": "https://localhost:8080/",
     "height": 34
    },
    "colab_type": "code",
    "id": "GRBmV8K31JrC",
    "outputId": "bc7458e2-2817-492f-d499-78fba54ccb3d"
   },
   "outputs": [
    {
     "ename": "FileNotFoundError",
     "evalue": "[Errno 2] No such file or directory: '18_19.csv'",
     "output_type": "error",
     "traceback": [
      "\u001B[1;31m---------------------------------------------------------------------------\u001B[0m",
      "\u001B[1;31mFileNotFoundError\u001B[0m                         Traceback (most recent call last)",
      "\u001B[1;32m<ipython-input-6-4c1e0d921422>\u001B[0m in \u001B[0;36m<module>\u001B[1;34m\u001B[0m\n\u001B[0;32m      1\u001B[0m \u001B[1;31m#Считываем данные с помощью pandas\u001B[0m\u001B[1;33m\u001B[0m\u001B[1;33m\u001B[0m\u001B[1;33m\u001B[0m\u001B[0m\n\u001B[1;32m----> 2\u001B[1;33m \u001B[0mbase_data\u001B[0m \u001B[1;33m=\u001B[0m \u001B[0mpd\u001B[0m\u001B[1;33m.\u001B[0m\u001B[0mread_csv\u001B[0m\u001B[1;33m(\u001B[0m\u001B[1;34m'18_19.csv'\u001B[0m\u001B[1;33m,\u001B[0m \u001B[0msep\u001B[0m\u001B[1;33m=\u001B[0m\u001B[1;34m';'\u001B[0m\u001B[1;33m)\u001B[0m\u001B[1;33m\u001B[0m\u001B[1;33m\u001B[0m\u001B[0m\n\u001B[0m\u001B[0;32m      3\u001B[0m \u001B[0mprint\u001B[0m\u001B[1;33m(\u001B[0m\u001B[0mbase_data\u001B[0m\u001B[1;33m.\u001B[0m\u001B[0mshape\u001B[0m\u001B[1;33m)\u001B[0m\u001B[1;33m\u001B[0m\u001B[1;33m\u001B[0m\u001B[0m\n\u001B[0;32m      4\u001B[0m \u001B[1;33m\u001B[0m\u001B[0m\n",
      "\u001B[1;32mc:\\users\\gryaznevdy\\appdata\\local\\programs\\python\\python37\\lib\\site-packages\\pandas\\io\\parsers.py\u001B[0m in \u001B[0;36mread_csv\u001B[1;34m(filepath_or_buffer, sep, delimiter, header, names, index_col, usecols, squeeze, prefix, mangle_dupe_cols, dtype, engine, converters, true_values, false_values, skipinitialspace, skiprows, skipfooter, nrows, na_values, keep_default_na, na_filter, verbose, skip_blank_lines, parse_dates, infer_datetime_format, keep_date_col, date_parser, dayfirst, cache_dates, iterator, chunksize, compression, thousands, decimal, lineterminator, quotechar, quoting, doublequote, escapechar, comment, encoding, dialect, error_bad_lines, warn_bad_lines, delim_whitespace, low_memory, memory_map, float_precision)\u001B[0m\n\u001B[0;32m    684\u001B[0m     )\n\u001B[0;32m    685\u001B[0m \u001B[1;33m\u001B[0m\u001B[0m\n\u001B[1;32m--> 686\u001B[1;33m     \u001B[1;32mreturn\u001B[0m \u001B[0m_read\u001B[0m\u001B[1;33m(\u001B[0m\u001B[0mfilepath_or_buffer\u001B[0m\u001B[1;33m,\u001B[0m \u001B[0mkwds\u001B[0m\u001B[1;33m)\u001B[0m\u001B[1;33m\u001B[0m\u001B[1;33m\u001B[0m\u001B[0m\n\u001B[0m\u001B[0;32m    687\u001B[0m \u001B[1;33m\u001B[0m\u001B[0m\n\u001B[0;32m    688\u001B[0m \u001B[1;33m\u001B[0m\u001B[0m\n",
      "\u001B[1;32mc:\\users\\gryaznevdy\\appdata\\local\\programs\\python\\python37\\lib\\site-packages\\pandas\\io\\parsers.py\u001B[0m in \u001B[0;36m_read\u001B[1;34m(filepath_or_buffer, kwds)\u001B[0m\n\u001B[0;32m    450\u001B[0m \u001B[1;33m\u001B[0m\u001B[0m\n\u001B[0;32m    451\u001B[0m     \u001B[1;31m# Create the parser.\u001B[0m\u001B[1;33m\u001B[0m\u001B[1;33m\u001B[0m\u001B[1;33m\u001B[0m\u001B[0m\n\u001B[1;32m--> 452\u001B[1;33m     \u001B[0mparser\u001B[0m \u001B[1;33m=\u001B[0m \u001B[0mTextFileReader\u001B[0m\u001B[1;33m(\u001B[0m\u001B[0mfp_or_buf\u001B[0m\u001B[1;33m,\u001B[0m \u001B[1;33m**\u001B[0m\u001B[0mkwds\u001B[0m\u001B[1;33m)\u001B[0m\u001B[1;33m\u001B[0m\u001B[1;33m\u001B[0m\u001B[0m\n\u001B[0m\u001B[0;32m    453\u001B[0m \u001B[1;33m\u001B[0m\u001B[0m\n\u001B[0;32m    454\u001B[0m     \u001B[1;32mif\u001B[0m \u001B[0mchunksize\u001B[0m \u001B[1;32mor\u001B[0m \u001B[0miterator\u001B[0m\u001B[1;33m:\u001B[0m\u001B[1;33m\u001B[0m\u001B[1;33m\u001B[0m\u001B[0m\n",
      "\u001B[1;32mc:\\users\\gryaznevdy\\appdata\\local\\programs\\python\\python37\\lib\\site-packages\\pandas\\io\\parsers.py\u001B[0m in \u001B[0;36m__init__\u001B[1;34m(self, f, engine, **kwds)\u001B[0m\n\u001B[0;32m    934\u001B[0m             \u001B[0mself\u001B[0m\u001B[1;33m.\u001B[0m\u001B[0moptions\u001B[0m\u001B[1;33m[\u001B[0m\u001B[1;34m\"has_index_names\"\u001B[0m\u001B[1;33m]\u001B[0m \u001B[1;33m=\u001B[0m \u001B[0mkwds\u001B[0m\u001B[1;33m[\u001B[0m\u001B[1;34m\"has_index_names\"\u001B[0m\u001B[1;33m]\u001B[0m\u001B[1;33m\u001B[0m\u001B[1;33m\u001B[0m\u001B[0m\n\u001B[0;32m    935\u001B[0m \u001B[1;33m\u001B[0m\u001B[0m\n\u001B[1;32m--> 936\u001B[1;33m         \u001B[0mself\u001B[0m\u001B[1;33m.\u001B[0m\u001B[0m_make_engine\u001B[0m\u001B[1;33m(\u001B[0m\u001B[0mself\u001B[0m\u001B[1;33m.\u001B[0m\u001B[0mengine\u001B[0m\u001B[1;33m)\u001B[0m\u001B[1;33m\u001B[0m\u001B[1;33m\u001B[0m\u001B[0m\n\u001B[0m\u001B[0;32m    937\u001B[0m \u001B[1;33m\u001B[0m\u001B[0m\n\u001B[0;32m    938\u001B[0m     \u001B[1;32mdef\u001B[0m \u001B[0mclose\u001B[0m\u001B[1;33m(\u001B[0m\u001B[0mself\u001B[0m\u001B[1;33m)\u001B[0m\u001B[1;33m:\u001B[0m\u001B[1;33m\u001B[0m\u001B[1;33m\u001B[0m\u001B[0m\n",
      "\u001B[1;32mc:\\users\\gryaznevdy\\appdata\\local\\programs\\python\\python37\\lib\\site-packages\\pandas\\io\\parsers.py\u001B[0m in \u001B[0;36m_make_engine\u001B[1;34m(self, engine)\u001B[0m\n\u001B[0;32m   1166\u001B[0m     \u001B[1;32mdef\u001B[0m \u001B[0m_make_engine\u001B[0m\u001B[1;33m(\u001B[0m\u001B[0mself\u001B[0m\u001B[1;33m,\u001B[0m \u001B[0mengine\u001B[0m\u001B[1;33m=\u001B[0m\u001B[1;34m\"c\"\u001B[0m\u001B[1;33m)\u001B[0m\u001B[1;33m:\u001B[0m\u001B[1;33m\u001B[0m\u001B[1;33m\u001B[0m\u001B[0m\n\u001B[0;32m   1167\u001B[0m         \u001B[1;32mif\u001B[0m \u001B[0mengine\u001B[0m \u001B[1;33m==\u001B[0m \u001B[1;34m\"c\"\u001B[0m\u001B[1;33m:\u001B[0m\u001B[1;33m\u001B[0m\u001B[1;33m\u001B[0m\u001B[0m\n\u001B[1;32m-> 1168\u001B[1;33m             \u001B[0mself\u001B[0m\u001B[1;33m.\u001B[0m\u001B[0m_engine\u001B[0m \u001B[1;33m=\u001B[0m \u001B[0mCParserWrapper\u001B[0m\u001B[1;33m(\u001B[0m\u001B[0mself\u001B[0m\u001B[1;33m.\u001B[0m\u001B[0mf\u001B[0m\u001B[1;33m,\u001B[0m \u001B[1;33m**\u001B[0m\u001B[0mself\u001B[0m\u001B[1;33m.\u001B[0m\u001B[0moptions\u001B[0m\u001B[1;33m)\u001B[0m\u001B[1;33m\u001B[0m\u001B[1;33m\u001B[0m\u001B[0m\n\u001B[0m\u001B[0;32m   1169\u001B[0m         \u001B[1;32melse\u001B[0m\u001B[1;33m:\u001B[0m\u001B[1;33m\u001B[0m\u001B[1;33m\u001B[0m\u001B[0m\n\u001B[0;32m   1170\u001B[0m             \u001B[1;32mif\u001B[0m \u001B[0mengine\u001B[0m \u001B[1;33m==\u001B[0m \u001B[1;34m\"python\"\u001B[0m\u001B[1;33m:\u001B[0m\u001B[1;33m\u001B[0m\u001B[1;33m\u001B[0m\u001B[0m\n",
      "\u001B[1;32mc:\\users\\gryaznevdy\\appdata\\local\\programs\\python\\python37\\lib\\site-packages\\pandas\\io\\parsers.py\u001B[0m in \u001B[0;36m__init__\u001B[1;34m(self, src, **kwds)\u001B[0m\n\u001B[0;32m   1996\u001B[0m         \u001B[0mkwds\u001B[0m\u001B[1;33m[\u001B[0m\u001B[1;34m\"usecols\"\u001B[0m\u001B[1;33m]\u001B[0m \u001B[1;33m=\u001B[0m \u001B[0mself\u001B[0m\u001B[1;33m.\u001B[0m\u001B[0musecols\u001B[0m\u001B[1;33m\u001B[0m\u001B[1;33m\u001B[0m\u001B[0m\n\u001B[0;32m   1997\u001B[0m \u001B[1;33m\u001B[0m\u001B[0m\n\u001B[1;32m-> 1998\u001B[1;33m         \u001B[0mself\u001B[0m\u001B[1;33m.\u001B[0m\u001B[0m_reader\u001B[0m \u001B[1;33m=\u001B[0m \u001B[0mparsers\u001B[0m\u001B[1;33m.\u001B[0m\u001B[0mTextReader\u001B[0m\u001B[1;33m(\u001B[0m\u001B[0msrc\u001B[0m\u001B[1;33m,\u001B[0m \u001B[1;33m**\u001B[0m\u001B[0mkwds\u001B[0m\u001B[1;33m)\u001B[0m\u001B[1;33m\u001B[0m\u001B[1;33m\u001B[0m\u001B[0m\n\u001B[0m\u001B[0;32m   1999\u001B[0m         \u001B[0mself\u001B[0m\u001B[1;33m.\u001B[0m\u001B[0munnamed_cols\u001B[0m \u001B[1;33m=\u001B[0m \u001B[0mself\u001B[0m\u001B[1;33m.\u001B[0m\u001B[0m_reader\u001B[0m\u001B[1;33m.\u001B[0m\u001B[0munnamed_cols\u001B[0m\u001B[1;33m\u001B[0m\u001B[1;33m\u001B[0m\u001B[0m\n\u001B[0;32m   2000\u001B[0m \u001B[1;33m\u001B[0m\u001B[0m\n",
      "\u001B[1;32mpandas\\_libs\\parsers.pyx\u001B[0m in \u001B[0;36mpandas._libs.parsers.TextReader.__cinit__\u001B[1;34m()\u001B[0m\n",
      "\u001B[1;32mpandas\\_libs\\parsers.pyx\u001B[0m in \u001B[0;36mpandas._libs.parsers.TextReader._setup_parser_source\u001B[1;34m()\u001B[0m\n",
      "\u001B[1;31mFileNotFoundError\u001B[0m: [Errno 2] No such file or directory: '18_19.csv'"
     ]
    }
   ],
   "source": [
    "#Считываем данные с помощью pandas\n",
    "base_data = pd.read_csv('18_19.csv', sep=';')\n",
    "print(base_data.shape)"
   ]
  },
  {
   "cell_type": "code",
   "execution_count": null,
   "metadata": {
    "colab": {
     "base_uri": "https://localhost:8080/",
     "height": 119
    },
    "colab_type": "code",
    "id": "bTeD9BAhOx2Z",
    "outputId": "2259a586-610e-4fc6-8fde-bf281d6926c3"
   },
   "outputs": [],
   "source": [
    "#Выводим пять первых строк\n",
    "print(base_data.head())"
   ]
  },
  {
   "cell_type": "code",
   "execution_count": null,
   "metadata": {
    "colab": {
     "base_uri": "https://localhost:8080/",
     "height": 34
    },
    "colab_type": "code",
    "id": "KyA15_ZPO3pn",
    "outputId": "a8784901-4e92-4f34-a7d4-f52271f703d2"
   },
   "outputs": [],
   "source": [
    "#Выцепялем numpy значения .values\n",
    "#И выводим нулевой\n",
    "txt = base_data.values[2]\n",
    "print(txt)"
   ]
  },
  {
   "cell_type": "code",
   "execution_count": null,
   "metadata": {
    "colab": {},
    "colab_type": "code",
    "id": "_12e-rZLPnon"
   },
   "outputs": [],
   "source": [
    "#Загружаем выборку\n",
    "def getData(df):\n",
    "  data = df\n",
    "  data = data.drop(columns=['DATE', 'TIME'], axis=1).astype(float)\n",
    "\n",
    "  return data\n",
    "\n",
    "#Получаем данные из файла\n",
    "def getDataFromFile(fileName):\n",
    "  df = pd.read_csv(fileName, sep=';') #Считываем файл с помощью pandas\n",
    "  return getData(df) #Возвращаем считанные данные из файла"
   ]
  },
  {
   "cell_type": "code",
   "execution_count": null,
   "metadata": {
    "colab": {
     "base_uri": "https://localhost:8080/",
     "height": 136
    },
    "colab_type": "code",
    "id": "nNBGi41FRBwU",
    "outputId": "ee7e0bf5-d428-455b-952d-42a1ca729d0f"
   },
   "outputs": [],
   "source": [
    "#Считываем данные из двух файлов\n",
    "#16-17 год и 18-19 год\n",
    "data16_17 = getDataFromFile('16_17.csv')\n",
    "data18_19 = getDataFromFile('18_19.csv')\n",
    "print(data16_17.head(5))\n",
    "print(data16_17.shape)"
   ]
  },
  {
   "cell_type": "code",
   "execution_count": null,
   "metadata": {
    "colab": {
     "base_uri": "https://localhost:8080/",
     "height": 153
    },
    "colab_type": "code",
    "id": "ArMT_0EUUeKX",
    "outputId": "459df5fb-acaf-4d75-9c36-8d1c2c82294d"
   },
   "outputs": [],
   "source": [
    "#Объединяем базы из двух файлов\n",
    "data = data16_17.append(data18_19)\n",
    "print(data.head(5))\n",
    "data = np.array(data) #Превращаем в numpy массив\n",
    "print(data.shape)\n",
    "print(max(data[:, 4]))"
   ]
  },
  {
   "cell_type": "code",
   "execution_count": null,
   "metadata": {
    "colab": {
     "base_uri": "https://localhost:8080/",
     "height": 68
    },
    "colab_type": "code",
    "id": "czAAnl7dSLYh",
    "outputId": "82eb2b03-3e87-432a-a388-868bf0b076d2"
   },
   "outputs": [],
   "source": [
    "#Сравниваем размеры\n",
    "print(data16_17.shape) #Выводим размер первой базы\n",
    "print(data18_19.shape) #Выводим размер второй базы\n",
    "print(data.shape) #Выводим размер суммарной базы"
   ]
  },
  {
   "cell_type": "code",
   "execution_count": null,
   "metadata": {
    "colab": {
     "base_uri": "https://localhost:8080/",
     "height": 547
    },
    "colab_type": "code",
    "id": "ZHWZubQ1__7e",
    "outputId": "23ade3dc-d9c4-4988-a161-2ecb3b0c5376"
   },
   "outputs": [],
   "source": [
    "#Отображаем исходные данные от точки start и длиной step\n",
    "start = 0 #С какой точки начинаем\n",
    "step = data.shape[0] #Сколько точек отрисуем\n",
    "\n",
    "#Заполняем текстовые названия каналов данных\n",
    "chanelNames = list(data16_17.columns) # ['Open', 'Max', 'Min', 'Close', 'Volume']\n",
    "\n",
    "#Рисуем все графики данных\n",
    "#ЧЕтыре основных канала - open, max, min, close\n",
    "for i in range(4):\n",
    "  #Отрисовываем часть данных\n",
    "  #От начальной точки, до начальной точки + размер шага отрисовки\n",
    "  plt.plot(data[start:start+step, i], \n",
    "          label=chanelNames[i])\n",
    "plt.ylabel('Цена.руб')\n",
    "plt.legend()\n",
    "plt.show()\n",
    "\n",
    "#Канал volume\n",
    "plt.plot(data[start:start+step,4], label=\"Volume\")\n",
    "plt.legend()\n",
    "plt.show()"
   ]
  },
  {
   "cell_type": "markdown",
   "metadata": {
    "colab_type": "text",
    "id": "CKpTtma9Vw8W"
   },
   "source": [
    "**Функция загрузки данных**"
   ]
  },
  {
   "cell_type": "code",
   "execution_count": null,
   "metadata": {
    "colab": {},
    "colab_type": "code",
    "id": "N1YywB_AjSY6"
   },
   "outputs": [],
   "source": [
    "def DataNormalization(data, Channels, Normalization):\n",
    "  #Выбираем тип нормализации x\n",
    "  #0 - нормальное распределение\n",
    "  #1 - нормирование до отрезка 0-1\n",
    "  if (Normalization == 0):\n",
    "    scaler = StandardScaler()\n",
    "  else:\n",
    "    scaler = MinMaxScaler()\n",
    "  \n",
    "  #Берём только те каналы, которые указаны в аргументе функции\n",
    "  resData = data[:,Channels]\n",
    "  #Обучаем нормировщик\n",
    "  scaler.fit(resData)\n",
    "  #Нормируем данные\n",
    "  resData = scaler.transform(resData)\n",
    "  return (resData, scaler)"
   ]
  },
  {
   "cell_type": "code",
   "execution_count": null,
   "metadata": {
    "colab": {},
    "colab_type": "code",
    "id": "ilcYS88ljKrA"
   },
   "outputs": [],
   "source": [
    "#Функция \"раскусывания\" данных для временных рядов\n",
    "#data - данные\n",
    "#xLen - размер фрема, по которому предсказываем\n",
    "#xChannels - лист, номера каналов, по которым делаем анализ\n",
    "#yChannels - лист, номера каналов, которые предсказываем\n",
    "#stepsForward - на сколько шагов предсказываем в будущее\n",
    "#если 1 - то на 1 шаг, можно использовать только при одном канале, указанном в yChannels\n",
    "#xNormalization - нормализация входных каналов, 0 - нормальное распределение, 1 - к отрезку [0;1]\n",
    "#yNormalization - нормализация прогнозируемых каналов, 0 - нормальное распределение, 1 - к отрезку [0;1]\n",
    "#returnFlatten - делать ли одномерный вектор на выходе для Dense сетей\n",
    "#valLen - сколько примеров брать для проверочной выборки (количество для обучающей посчитается автоматиески)\n",
    "#convertToDerivative - bool, преобразовывали ли входные сигналы в производнуюa\n",
    "def getXTrainFromTimeSeries(data, xLen, xChannels, yChannels, stepsForward, xNormalization, yNormalization, returnFlatten, valLen, convertToDerivative):\n",
    "  \n",
    "  #Если указано превращение данных в производную\n",
    "  #То вычитаем поточечно из текущей точки предыдущую\n",
    "  if (convertToDerivative):\n",
    "    data = np.array([(d[1:]-d[:-1]) for d in data.T]).copy().T\n",
    "  \n",
    "  #Нормализуем x\n",
    "  (xData, xScaler) = DataNormalization(data, xChannels, xNormalization)\n",
    "\n",
    "  #Нормализуем y\n",
    "  (yData, yScaler) = DataNormalization(data, yChannels, yNormalization)\n",
    "\n",
    "  #Формируем xTrain\n",
    "  #Раскусываем исходный ряд на куски xLen с шагом в 1\n",
    "  xTrain = np.array([xData[i:i + xLen, xChannels] for i in range(xData.shape[0] - xLen + 1 - stepsForward)])\n",
    "  \n",
    "  #Формируем yTrain\n",
    "  #Берём stepsForward шагов после завершения текущего x\n",
    "  if (stepsForward > 1):\n",
    "    yTrain = np.array([yData[i:i + stepsForward, yChannels] for i in range(xLen, yData.shape[0] + 1 - stepsForward)])\n",
    "  else:\n",
    "    yTrain = np.array([yData[i, yChannels] for i in range(xLen, yData.shape[0] + 1 - stepsForward)])\n",
    "\n",
    "  #Расчитываем отступ между обучающими о проверочными данными\n",
    "  #Чтобы они не смешивались\n",
    "  xTrainLen = xTrain.shape[0]\n",
    "  bias = xLen + stepsForward + 2\n",
    "\n",
    "  #Берём из конечной части xTrain проверочную выборку\n",
    "  xVal = xTrain[xTrainLen-valLen:]\n",
    "  yVal = yTrain[xTrainLen-valLen:]\n",
    "  \n",
    "  #Оставшуюся часть используем под обучающую выборку\n",
    "  xTrain = xTrain[:xTrainLen-valLen-bias]\n",
    "  yTrain = yTrain[:xTrainLen-valLen-bias]\n",
    "\n",
    "  #Если в функцию передали вернуть flatten сигнал (для Dense сети)\n",
    "  #xTrain и xVal превращаем в flatten\n",
    "  if (returnFlatten > 0):\n",
    "    xTrain = np.array([x.flatten() for x in xTrain])\n",
    "    xVal = np.array([x.flatten() for x in xVal])\n",
    "\n",
    "  return (xTrain, yTrain), (xVal, yVal), (xScaler, yScaler)"
   ]
  },
  {
   "cell_type": "code",
   "execution_count": null,
   "metadata": {
    "colab": {
     "base_uri": "https://localhost:8080/",
     "height": 85
    },
    "colab_type": "code",
    "id": "kwzg3s4GSyMR",
    "outputId": "99147edf-972e-408c-ade5-9b7267d706f1"
   },
   "outputs": [],
   "source": [
    "#Формируем параметры загрузки данных\n",
    "xLen = 300 #Анализируем по 300 прошедшим точкам \n",
    "stepsForward = 1 #Предсказываем на 1 шаг вперёд\n",
    "xChannels = range(data.shape[1]) #Используемвсе входные каналы\n",
    "yChannels = [0] #Предказываем только open канал\n",
    "xNormalization = 0 #Нормируем входные каналы стандартным распределением\n",
    "yNormalization = 0#Нормируем выходные каналы стандартным распределением\n",
    "valLen = 30000 #Используем 30.000 записей для проверки0\n",
    "returnFlatten = 1 #Вернуть одномерные вечеторы\n",
    "convertToDerivative = 0 #Не превращать в производную\n",
    "\n",
    "#Загружаем данные\n",
    "(xTrain, yTrain), (xVal, yVal), (xScaler, yScaler) = getXTrainFromTimeSeries(data, xLen, xChannels, yChannels, stepsForward, xNormalization, yNormalization, returnFlatten, valLen, convertToDerivative)\n",
    "\n",
    "#Выводим размеры данных для проверки\n",
    "print(xTrain.shape)\n",
    "print(yTrain.shape)\n",
    "print(xVal.shape)\n",
    "print(yVal.shape)"
   ]
  },
  {
   "cell_type": "markdown",
   "metadata": {
    "colab_type": "text",
    "id": "y2J9ZVw8Hfe2"
   },
   "source": [
    "#Визуализация результатов"
   ]
  },
  {
   "cell_type": "code",
   "execution_count": null,
   "metadata": {
    "colab": {},
    "colab_type": "code",
    "id": "VBE8VmrRHjG4"
   },
   "outputs": [],
   "source": [
    "#Функция рассчитываем результаты прогнозирования сети\n",
    "#В аргументы принимает сеть (currModel) и проверочную выборку\n",
    "#Выдаёт результаты предсказания predVal\n",
    "#И правильные ответы в исходной размерности yValUnscaled (какими они были до нормирования)\n",
    "def getPred(currModel, xVal, yVal, yScaler):\n",
    "  #Предсказываем ответ сети по проверочной выборке\n",
    "  #И возвращаем исходны масштаб данных, до нормализации\n",
    "  predVal = yScaler.inverse_transform(currModel.predict(xVal))\n",
    "  yValUnscaled = yScaler.inverse_transform(yVal)\n",
    "  \n",
    "  return (predVal, yValUnscaled)\n",
    "\n",
    "#Функция расёта коэффициента корреляции Пирсона двух одномерных векторов\n",
    "def correlate(a, b):\n",
    "  return np.corrcoef(a, b)[0, 1] \n",
    "\n",
    "#Функция визуализирует графики, что предсказала сеть и какие были правильные ответы\n",
    "#start - точка с которой начинаем отрисовку графика\n",
    "#step - длина графика, которую отрисовываем\n",
    "#channel - какой канал отрисовываем\n",
    "def showPredict(start, step, channel, predVal, yValUnscaled):\n",
    "  plt.plot(predVal[start:start+step, channel], \n",
    "           label='Прогноз')\n",
    "  plt.plot(yValUnscaled[start:start+step, channel], \n",
    "           label='Базовый ряд')\n",
    "  plt.xlabel('Время')\n",
    "  plt.ylabel('Значение Close')\n",
    "  plt.legend()\n",
    "  plt.show()"
   ]
  },
  {
   "cell_type": "code",
   "execution_count": null,
   "metadata": {
    "colab": {},
    "colab_type": "code",
    "id": "1pVj9ORzIKNt"
   },
   "outputs": [],
   "source": [
    "#Функция строит корреляцию прогнозированного сигнала с правильным\n",
    "#Смещая на различное количество шагов назад\n",
    "#Для проверки появления эффекта автокорреляции\n",
    "#channels - по каким каналам отображать корреляцию\n",
    "#corrSteps - на какое количество шагов смещать сигнал назад для рассчёта корреляции\n",
    "def showCorr(channels, corrSteps, predVal, yValUnscaled):\n",
    "  #Проходим по всем каналам\n",
    "  for ch in channels:\n",
    "    corr = [] #Создаём пустой лист, в нём будут корреляции при смещении на i рагов обратно\n",
    "    yLen = yValUnscaled.shape[0] #Запоминаем размер проверочной выборки\n",
    "\n",
    "    #Постепенно увеличиваем шаг, насколько смещаем сигнал для проверки автокорреляции\n",
    "    for i in range(corrSteps):\n",
    "      #Получаем сигнал, смещённый на i шагов назад\n",
    "      #predVal[i:, ch]\n",
    "      #Сравниваем его с верными ответами, без смещения назад\n",
    "      #yValUnscaled[:yLen-i,ch]\n",
    "      #Рассчитываем их корреляцию и добавляем в лист\n",
    "      corr.append(correlate(yValUnscaled[:yLen-i,ch], predVal[i:, ch]))\n",
    "\n",
    "    #Отображаем график корреляций для данного шага\n",
    "    plt.plot(corr, label='предсказание на ' + str(ch+1) + ' шаг')\n",
    "\n",
    "  plt.xlabel('Время')\n",
    "  plt.ylabel('Значение')\n",
    "  plt.legend()\n",
    "  plt.show()"
   ]
  },
  {
   "cell_type": "code",
   "execution_count": null,
   "metadata": {
    "colab": {
     "base_uri": "https://localhost:8080/",
     "height": 68
    },
    "colab_type": "code",
    "id": "bE_RFo-RGfra",
    "outputId": "55389453-8c45-4875-f921-541a7c7e9d98"
   },
   "outputs": [],
   "source": [
    "a = np.arange(12)\n",
    "print(a)\n",
    "print(a[:3])\n",
    "print(a[3:])"
   ]
  },
  {
   "cell_type": "markdown",
   "metadata": {
    "colab_type": "text",
    "id": "CUOYrzQ_Ekqa"
   },
   "source": [
    "#Одномерная свертка"
   ]
  },
  {
   "cell_type": "code",
   "execution_count": null,
   "metadata": {
    "colab": {
     "base_uri": "https://localhost:8080/",
     "height": 85
    },
    "colab_type": "code",
    "id": "Rezi47QPEo1x",
    "outputId": "51700869-9f3e-42e4-f4c0-11e80c4aab8d"
   },
   "outputs": [],
   "source": [
    "#Формируем параметры загрузки данных\n",
    "xLen = 300\n",
    "stepsForward = 1\n",
    "xChannels = range(data.shape[1])\n",
    "yChannels = [0]\n",
    "xNormalization = 0\n",
    "yNormalization = 0\n",
    "valLen = 30000\n",
    "returnFlatten = 0 #Возвращаем двумерные данные для свёртки\n",
    "convertToDerivative = 0\n",
    "\n",
    "#Загружаем данные\n",
    "(xTrain, yTrain), (xVal, yVal), (xScaler, yScaler) = getXTrainFromTimeSeries(data, xLen, xChannels, yChannels, stepsForward, xNormalization, yNormalization, returnFlatten, valLen, convertToDerivative)\n",
    "\n",
    "#Выводим размеры данных для проверки\n",
    "print(xTrain.shape)\n",
    "print(yTrain.shape)\n",
    "print(xVal.shape)\n",
    "print(yVal.shape)"
   ]
  },
  {
   "cell_type": "markdown",
   "metadata": {
    "colab_type": "text",
    "id": "19pnG4rcE5sL"
   },
   "source": []
  },
  {
   "cell_type": "code",
   "execution_count": null,
   "metadata": {
    "colab": {
     "base_uri": "https://localhost:8080/",
     "height": 768
    },
    "colab_type": "code",
    "id": "FpqR51emFnxU",
    "outputId": "028b94de-8c31-4e0c-815e-cb76925e64e2"
   },
   "outputs": [],
   "source": [
    "modelC = Sequential()\n",
    "\n",
    "modelC.add(Conv1D(50, 5, input_shape = (xTrain.shape[1], xTrain.shape[2]), activation=\"linear\"))\n",
    "modelC.add(Flatten())\n",
    "modelC.add(Dense(10, activation=\"linear\"))\n",
    "modelC.add(Dense(yTrain.shape[1], activation=\"linear\"))\n",
    "\n",
    "modelC.compile(loss=\"mse\", optimizer=Adam(lr=1e-4))\n",
    "\n",
    "history = modelC.fit(xTrain, \n",
    "                    yTrain, \n",
    "                    epochs=20, \n",
    "                    batch_size=20, \n",
    "                    verbose=1,\n",
    "                    validation_data=(xVal, yVal))\n",
    "\n",
    "plt.plot(history.history['loss'], \n",
    "         label='Средняя абсолютная ошибка на обучающем наборе')\n",
    "plt.plot(history.history['val_loss'], \n",
    "         label='Средняя абсолютная ошибка на проверочном наборе')\n",
    "plt.ylabel('Средняя ошибка')\n",
    "plt.legend()\n",
    "plt.show()"
   ]
  },
  {
   "cell_type": "code",
   "execution_count": null,
   "metadata": {
    "colab": {},
    "colab_type": "code",
    "id": "Pxw4ox_MHvaE"
   },
   "outputs": [],
   "source": [
    "#Прогнозируем данные текущей сетью\n",
    "currModel = modelC\n",
    "(predVal, yValUnscaled) = getPred(currModel, xVal, yVal, yScaler)"
   ]
  },
  {
   "cell_type": "code",
   "execution_count": null,
   "metadata": {
    "colab": {
     "base_uri": "https://localhost:8080/",
     "height": 265
    },
    "colab_type": "code",
    "id": "MesUX7eGXaKQ",
    "outputId": "037adf42-6483-4f8b-d21e-d402e284372f"
   },
   "outputs": [],
   "source": [
    "import matplotlib\n",
    "\n",
    "matplotlib.style.use('ggplot')\n",
    "\n",
    "#plt.figure(figsize=(12,12))\n",
    "plt.scatter(predVal, yValUnscaled)\n",
    "plt.show()"
   ]
  },
  {
   "cell_type": "code",
   "execution_count": null,
   "metadata": {
    "colab": {
     "base_uri": "https://localhost:8080/",
     "height": 283
    },
    "colab_type": "code",
    "id": "1OuQKZNwIIhQ",
    "outputId": "450424a3-208d-4a3e-8710-c28d721838f1"
   },
   "outputs": [],
   "source": [
    "#Отображаем графики\n",
    "showPredict(10000, 400, 0, predVal, yValUnscaled)"
   ]
  },
  {
   "cell_type": "code",
   "execution_count": null,
   "metadata": {
    "colab": {
     "base_uri": "https://localhost:8080/",
     "height": 279
    },
    "colab_type": "code",
    "id": "REtR1MO1ILZl",
    "outputId": "38d39335-72a7-488d-dfed-3b5e42e60ae7"
   },
   "outputs": [],
   "source": [
    "#Отображаем корреляцию\n",
    "\n",
    "showCorr([0], 10, predVal, yValUnscaled)"
   ]
  },
  {
   "cell_type": "code",
   "execution_count": null,
   "metadata": {
    "colab": {
     "base_uri": "https://localhost:8080/",
     "height": 68
    },
    "colab_type": "code",
    "id": "UXoqMIDQ2vDC",
    "outputId": "d4b42d74-5346-45f2-db96-79fb3e945128"
   },
   "outputs": [],
   "source": [
    "a = np.arange(10)\n",
    "b = np.arrange(10)\n",
    "print(a)\n",
    "print(a[2:])\n",
    "print(a[:len(a) - 2])"
   ]
  },
  {
   "cell_type": "code",
   "execution_count": null,
   "metadata": {
    "colab": {},
    "colab_type": "code",
    "id": "VuG4i04MpgZG"
   },
   "outputs": [],
   "source": [
    "def showCorr1(channels, max_shift, pred, orig):\n",
    "  for ch in channels:\n",
    "    corr = [] #Создаём пустой лист, в нём будут корреляции при смещении на i рагов обратно\n",
    "    yLen = yValUnscaled.shape[0] #Запоминаем размер проверочной выборки\n",
    "\n",
    "    for shift in range(max_shift):\n",
    "      a = orig[shft:, ch] #Обрезаем сначала вектора на step, чтобы сделать смещение на step и сравнять длины\n",
    "      b = pred[:shft, ch] #Обрезаем с конца вектора на step, чтобы сравнять длины. \n",
    "      corr.append(correlate(yValUnscaled[:yLen-i,ch], predVal[i:, ch]))\n",
    "\n",
    "    #Отображаем график корреляций для данного шага\n",
    "    plt.plot(corr, label='предсказание на ' + str(ch+1) + ' шаг')\n",
    "\n",
    "  plt.xlabel('Время')\n",
    "  plt.ylabel('Значение')\n",
    "  plt.legend()\n",
    "  plt.show()     \n",
    "\n",
    "showCorr1(a, )\n",
    "\n",
    "\n",
    "\n",
    "\n",
    "\n"
   ]
  }
 ],
 "metadata": {
  "accelerator": "GPU",
  "colab": {
   "collapsed_sections": [],
   "machine_shape": "hm",
   "name": "Fedorov_A Сентябрьский курс. Шаблон для домашнего задания 7. Временные ряды. Прогнозирование акций Лукойла",
   "provenance": []
  },
  "kernelspec": {
   "display_name": "Python 3",
   "language": "python",
   "name": "python3"
  },
  "language_info": {
   "codemirror_mode": {
    "name": "ipython",
    "version": 3
   },
   "file_extension": ".py",
   "mimetype": "text/x-python",
   "name": "python",
   "nbconvert_exporter": "python",
   "pygments_lexer": "ipython3",
   "version": "3.7.7"
  }
 },
 "nbformat": 4,
 "nbformat_minor": 1
}