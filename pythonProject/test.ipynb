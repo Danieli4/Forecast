{
 "cells": [
  {
   "cell_type": "code",
   "execution_count": 3,
   "metadata": {
    "pycharm": {
     "name": "#%%\n"
    }
   },
   "outputs": [],
   "source": [
    "# multivariate output 1d cnn example\n",
    "import tf as tf\n",
    "from numpy import array\n",
    "import tensorflow as tf\n",
    "import numpy as np\n",
    "import pandas as pd\n",
    "from numpy import hstack\n",
    "from keras.models import Sequential\n",
    "from keras.layers import Dense, BatchNormalization, LSTM, LeakyReLU\n",
    "from keras.layers import Flatten\n",
    "from keras.layers.convolutional import Conv1D, Conv2D\n",
    "from keras.layers.convolutional import MaxPooling1D\n",
    "from keras.preprocessing.sequence import TimeseriesGenerator\n",
    "\n",
    "import matplotlib.pyplot as plt\n",
    "# split a multivariate sequence into samples"
   ]
  },
  {
   "cell_type": "code",
   "execution_count": 4,
   "metadata": {
    "pycharm": {
     "name": "#%%\n"
    }
   },
   "outputs": [
    {
     "data": {
      "text/plain": "      number1  2-number  3-number  4-number  5-number  6-number\n0        15.0      17.0      22.0      23.0      25.0      33.0\n1        23.0      29.0      44.0      19.0      24.0      45.0\n2        38.0       7.0       3.0      45.0      26.0       4.0\n3        31.0      26.0      44.0      37.0      40.0      27.0\n4        16.0      17.0      12.0      21.0      23.0      35.0\n...       ...       ...       ...       ...       ...       ...\n5424     18.0       7.0      16.0      23.0      37.0      43.0\n5425     15.0      13.0      35.0      33.0      34.0      28.0\n5426     27.0      44.0      40.0      29.0      41.0      25.0\n5427      1.0      10.0      33.0      37.0      40.0      44.0\n5428     24.0      33.0      45.0      37.0      38.0       5.0\n\n[5429 rows x 6 columns]",
      "text/html": "<div>\n<style scoped>\n    .dataframe tbody tr th:only-of-type {\n        vertical-align: middle;\n    }\n\n    .dataframe tbody tr th {\n        vertical-align: top;\n    }\n\n    .dataframe thead th {\n        text-align: right;\n    }\n</style>\n<table border=\"1\" class=\"dataframe\">\n  <thead>\n    <tr style=\"text-align: right;\">\n      <th></th>\n      <th>number1</th>\n      <th>2-number</th>\n      <th>3-number</th>\n      <th>4-number</th>\n      <th>5-number</th>\n      <th>6-number</th>\n    </tr>\n  </thead>\n  <tbody>\n    <tr>\n      <th>0</th>\n      <td>15.0</td>\n      <td>17.0</td>\n      <td>22.0</td>\n      <td>23.0</td>\n      <td>25.0</td>\n      <td>33.0</td>\n    </tr>\n    <tr>\n      <th>1</th>\n      <td>23.0</td>\n      <td>29.0</td>\n      <td>44.0</td>\n      <td>19.0</td>\n      <td>24.0</td>\n      <td>45.0</td>\n    </tr>\n    <tr>\n      <th>2</th>\n      <td>38.0</td>\n      <td>7.0</td>\n      <td>3.0</td>\n      <td>45.0</td>\n      <td>26.0</td>\n      <td>4.0</td>\n    </tr>\n    <tr>\n      <th>3</th>\n      <td>31.0</td>\n      <td>26.0</td>\n      <td>44.0</td>\n      <td>37.0</td>\n      <td>40.0</td>\n      <td>27.0</td>\n    </tr>\n    <tr>\n      <th>4</th>\n      <td>16.0</td>\n      <td>17.0</td>\n      <td>12.0</td>\n      <td>21.0</td>\n      <td>23.0</td>\n      <td>35.0</td>\n    </tr>\n    <tr>\n      <th>...</th>\n      <td>...</td>\n      <td>...</td>\n      <td>...</td>\n      <td>...</td>\n      <td>...</td>\n      <td>...</td>\n    </tr>\n    <tr>\n      <th>5424</th>\n      <td>18.0</td>\n      <td>7.0</td>\n      <td>16.0</td>\n      <td>23.0</td>\n      <td>37.0</td>\n      <td>43.0</td>\n    </tr>\n    <tr>\n      <th>5425</th>\n      <td>15.0</td>\n      <td>13.0</td>\n      <td>35.0</td>\n      <td>33.0</td>\n      <td>34.0</td>\n      <td>28.0</td>\n    </tr>\n    <tr>\n      <th>5426</th>\n      <td>27.0</td>\n      <td>44.0</td>\n      <td>40.0</td>\n      <td>29.0</td>\n      <td>41.0</td>\n      <td>25.0</td>\n    </tr>\n    <tr>\n      <th>5427</th>\n      <td>1.0</td>\n      <td>10.0</td>\n      <td>33.0</td>\n      <td>37.0</td>\n      <td>40.0</td>\n      <td>44.0</td>\n    </tr>\n    <tr>\n      <th>5428</th>\n      <td>24.0</td>\n      <td>33.0</td>\n      <td>45.0</td>\n      <td>37.0</td>\n      <td>38.0</td>\n      <td>5.0</td>\n    </tr>\n  </tbody>\n</table>\n<p>5429 rows × 6 columns</p>\n</div>"
     },
     "execution_count": 4,
     "metadata": {},
     "output_type": "execute_result"
    }
   ],
   "source": [
    "# Загружаем датафрейм\n",
    "frame = pd.read_csv('Gosloto_6x45.csv', header=0, sep=';')\n",
    "frame\n",
    "\n",
    "# удвляем дату и тираж\n",
    "frame = frame.drop(columns=['datetime', 'tiraz'], axis=1).astype(float)\n",
    "frame"
   ]
  },
  {
   "cell_type": "code",
   "execution_count": 5,
   "metadata": {
    "pycharm": {
     "name": "#%%\n"
    }
   },
   "outputs": [],
   "source": [
    "in_seq1 = frame[\"number1\"].to_numpy()\n",
    "in_seq2 = frame[\"2-number\"].to_numpy()\n",
    "in_seq3 = frame[\"3-number\"].to_numpy()\n",
    "in_seq4 = frame[\"4-number\"].to_numpy()\n",
    "in_seq5 = frame[\"5-number\"].to_numpy()\n",
    "in_seq6 = frame[\"6-number\"].to_numpy()\n",
    "\n",
    "in_seq1 = in_seq1.reshape((len(in_seq1), 1))\n",
    "in_seq2 = in_seq2.reshape((len(in_seq2), 1))\n",
    "in_seq3 = in_seq3.reshape((len(in_seq3), 1))\n",
    "in_seq4 = in_seq4.reshape((len(in_seq4), 1))\n",
    "in_seq5 = in_seq5.reshape((len(in_seq5), 1))\n",
    "in_seq6 = in_seq6.reshape((len(in_seq6), 1))\n",
    "# horizontally stack columns\n",
    "dataset_new = hstack((in_seq1, in_seq2, in_seq3, in_seq4, in_seq5, in_seq6))\n",
    "#dataset= np.array(range(0,54,1)).reshape(9,6)"
   ]
  },
  {
   "cell_type": "code",
   "execution_count": 6,
   "metadata": {
    "pycharm": {
     "name": "#%%\n"
    }
   },
   "outputs": [],
   "source": [
    "validat_x = dataset_new[-401:-1]\n",
    "validat_y = dataset_new[-1:]"
   ]
  },
  {
   "cell_type": "code",
   "execution_count": 7,
   "metadata": {
    "pycharm": {
     "name": "#%%\n"
    }
   },
   "outputs": [],
   "source": [
    "# нужно вычесть 5429+validat_x[!это!:]\n",
    "dataset = dataset_new[:5028]\n"
   ]
  },
  {
   "cell_type": "code",
   "execution_count": 8,
   "metadata": {
    "pycharm": {
     "name": "#%%\n"
    }
   },
   "outputs": [],
   "source": [
    "n_input = 400\n",
    "generator = TimeseriesGenerator(dataset, dataset, length=n_input, batch_size=80)\n",
    "\n",
    "#np.delete(validat)\n",
    "\n",
    "# for i in range(len(generator)):\n",
    "# \tx_g, y_g = generator[i]\n",
    "# \tprint('%s => %s' % (x_g, y_g))\n",
    "# generator.length"
   ]
  },
  {
   "cell_type": "code",
   "execution_count": 129,
   "metadata": {
    "pycharm": {
     "name": "#%%\n"
    }
   },
   "outputs": [
    {
     "name": "stdout",
     "output_type": "stream",
     "text": [
      "5028\n",
      "!\n"
     ]
    }
   ],
   "source": [
    "def split_sequences(sequences, n_steps):\n",
    "\tX, y = list(), list()\n",
    "\tprint(len(sequences))\n",
    "\tfor i in range(len(sequences)):\n",
    "\t\t# find the end of this pattern\n",
    "\t\tend_ix = i + n_steps\n",
    "\t\t# check if we are beyond the dataset\n",
    "\t\tif end_ix > len(sequences)-1:\n",
    "\t\t\tprint('!')\n",
    "\t\t\tbreak\n",
    "\t\t# gather input and output parts of the pattern\n",
    "\t\tseq_x, seq_y = sequences[i:end_ix, :], sequences[end_ix, :]\n",
    "\t\tX.append(seq_x)\n",
    "\t\ty.append(seq_y)\n",
    "\treturn array(X), array(y)\n",
    "# choose a number of time steps\n",
    "n_steps = 6\n",
    "# convert into input/output\n",
    "X, y = split_sequences(dataset, n_steps)"
   ]
  },
  {
   "cell_type": "code",
   "execution_count": 9,
   "metadata": {
    "pycharm": {
     "name": "#%%\n"
    }
   },
   "outputs": [
    {
     "name": "stdout",
     "output_type": "stream",
     "text": [
      "[[[ 8. 33. 32. 30. 31. 44.]\n",
      "  [25. 19. 29. 31. 33. 26.]\n",
      "  [40. 16. 26. 23. 27. 30.]\n",
      "  ...\n",
      "  [15. 13. 35. 33. 34. 28.]\n",
      "  [27. 44. 40. 29. 41. 25.]\n",
      "  [ 1. 10. 33. 37. 40. 44.]]]\n",
      "[[24. 33. 45. 37. 38.  5.]]\n",
      "[[[36 37 38 39 40 41]\n",
      "  [42 43 44 45 46 47]\n",
      "  [48 49 50 51 52 53]]]\n",
      "[[54 55 56 57 58 59]]\n"
     ]
    }
   ],
   "source": [
    "x_val1 = array([[[36 ,37, 38, 39, 40, 41], [42, 43, 44, 45, 46, 47], [48, 49, 50, 51, 52, 53]]])\n",
    "y_val1 = array( [[54, 55, 56, 57, 58, 59]])\n",
    "\n",
    "x_val = array([validat_x])\n",
    "y_val = array( validat_y)\n",
    "print (x_val)\n",
    "print (y_val)\n",
    "print (x_val1)\n",
    "print (y_val1)"
   ]
  },
  {
   "cell_type": "code",
   "execution_count": 21,
   "metadata": {
    "pycharm": {
     "name": "#%%\n"
    }
   },
   "outputs": [
    {
     "name": "stdout",
     "output_type": "stream",
     "text": [
      "Epoch 1/150\n",
      "58/58 - 98s - loss: 1286860.7500 - val_loss: 172.7437\n",
      "Epoch 2/150\n",
      "58/58 - 104s - loss: 173.2757 - val_loss: 174.8228\n",
      "Epoch 3/150\n",
      "58/58 - 105s - loss: 172.7532 - val_loss: 170.8277\n",
      "Epoch 4/150\n",
      "58/58 - 106s - loss: 172.5882 - val_loss: 169.3786\n",
      "Epoch 5/150\n",
      "58/58 - 110s - loss: 174.3152 - val_loss: 172.0888\n",
      "Epoch 6/150\n",
      "58/58 - 104s - loss: 173.2493 - val_loss: 171.0731\n",
      "Epoch 7/150\n",
      "58/58 - 104s - loss: 171.1056 - val_loss: 175.7711\n",
      "Epoch 8/150\n",
      "58/58 - 100s - loss: 178.4313 - val_loss: 173.9443\n",
      "Epoch 9/150\n",
      "58/58 - 104s - loss: 170.0593 - val_loss: 165.3134\n",
      "Epoch 10/150\n",
      "58/58 - 100s - loss: 170.7309 - val_loss: 165.3538\n",
      "Epoch 11/150\n",
      "58/58 - 100s - loss: 172.1399 - val_loss: 167.7204\n",
      "Epoch 12/150\n",
      "58/58 - 101s - loss: 171.5206 - val_loss: 164.5005\n",
      "Epoch 13/150\n",
      "58/58 - 104s - loss: 170.2172 - val_loss: 178.3883\n",
      "Epoch 14/150\n",
      "58/58 - 115s - loss: 169.3319 - val_loss: 163.6149\n",
      "Epoch 15/150\n",
      "58/58 - 107s - loss: 165.1428 - val_loss: 162.2894\n",
      "Epoch 16/150\n",
      "58/58 - 114s - loss: 165.7325 - val_loss: 162.0208\n",
      "Epoch 17/150\n",
      "58/58 - 119s - loss: 164.1634 - val_loss: 159.7526\n",
      "Epoch 18/150\n",
      "58/58 - 115s - loss: 166.7325 - val_loss: 164.7833\n",
      "Epoch 19/150\n",
      "58/58 - 112s - loss: 167.5362 - val_loss: 162.9816\n",
      "Epoch 20/150\n",
      "58/58 - 113s - loss: 168.1652 - val_loss: 157.8978\n",
      "Epoch 21/150\n",
      "58/58 - 111s - loss: 164.3772 - val_loss: 157.3675\n",
      "Epoch 22/150\n",
      "58/58 - 111s - loss: 164.6777 - val_loss: 162.8693\n",
      "Epoch 23/150\n",
      "58/58 - 111s - loss: 162.9796 - val_loss: 158.7706\n",
      "Epoch 24/150\n",
      "58/58 - 111s - loss: 163.4261 - val_loss: 160.7217\n",
      "Epoch 25/150\n",
      "58/58 - 112s - loss: 167.3143 - val_loss: 160.7377\n",
      "Epoch 26/150\n",
      "58/58 - 112s - loss: 168.5130 - val_loss: 160.7584\n",
      "Epoch 27/150\n",
      "58/58 - 113s - loss: 177.2649 - val_loss: 172.4689\n",
      "Epoch 28/150\n",
      "58/58 - 111s - loss: 163.2677 - val_loss: 167.8812\n",
      "Epoch 29/150\n",
      "58/58 - 112s - loss: 162.1944 - val_loss: 156.4673\n",
      "Epoch 30/150\n",
      "58/58 - 110s - loss: 162.0053 - val_loss: 173.0054\n",
      "Epoch 31/150\n",
      "58/58 - 108s - loss: 161.5373 - val_loss: 156.0283\n",
      "Epoch 32/150\n",
      "58/58 - 110s - loss: 169.3641 - val_loss: 172.7756\n",
      "Epoch 33/150\n",
      "58/58 - 109s - loss: 159.6970 - val_loss: 158.4162\n",
      "Epoch 34/150\n",
      "58/58 - 108s - loss: 162.1150 - val_loss: 163.1326\n",
      "Epoch 35/150\n",
      "58/58 - 108s - loss: 166.8345 - val_loss: 167.3595\n",
      "Epoch 36/150\n",
      "58/58 - 111s - loss: 162.2861 - val_loss: 161.4079\n",
      "Epoch 37/150\n",
      "58/58 - 108s - loss: 160.6983 - val_loss: 179.0265\n",
      "Epoch 38/150\n",
      "58/58 - 107s - loss: 168.3045 - val_loss: 161.5456\n",
      "Epoch 39/150\n",
      "58/58 - 107s - loss: 165.8994 - val_loss: 155.8975\n",
      "Epoch 40/150\n",
      "58/58 - 106s - loss: 161.5627 - val_loss: 156.4033\n",
      "Epoch 41/150\n",
      "58/58 - 107s - loss: 160.0058 - val_loss: 165.5676\n",
      "Epoch 42/150\n",
      "58/58 - 107s - loss: 160.6916 - val_loss: 154.1717\n",
      "Epoch 43/150\n",
      "58/58 - 107s - loss: 164.2264 - val_loss: 173.9088\n",
      "Epoch 44/150\n",
      "58/58 - 107s - loss: 163.1077 - val_loss: 170.0882\n",
      "Epoch 45/150\n",
      "58/58 - 106s - loss: 164.5545 - val_loss: 154.5078\n",
      "Epoch 46/150\n",
      "58/58 - 107s - loss: 159.6069 - val_loss: 176.4313\n",
      "Epoch 47/150\n",
      "58/58 - 107s - loss: 160.0499 - val_loss: 157.1967\n",
      "Epoch 48/150\n",
      "58/58 - 107s - loss: 163.5904 - val_loss: 157.8674\n",
      "Epoch 49/150\n",
      "58/58 - 107s - loss: 162.9033 - val_loss: 155.8773\n",
      "Epoch 50/150\n",
      "58/58 - 107s - loss: 160.3699 - val_loss: 158.6520\n",
      "Epoch 51/150\n",
      "58/58 - 107s - loss: 167.7986 - val_loss: 159.4322\n",
      "Epoch 52/150\n",
      "58/58 - 108s - loss: 160.1751 - val_loss: 188.3983\n",
      "Epoch 53/150\n",
      "58/58 - 107s - loss: 173.0703 - val_loss: 182.9188\n",
      "Epoch 54/150\n",
      "58/58 - 106s - loss: 179.6577 - val_loss: 188.7670\n",
      "Epoch 55/150\n",
      "58/58 - 106s - loss: 159.0312 - val_loss: 152.9138\n",
      "Epoch 56/150\n",
      "58/58 - 106s - loss: 160.0624 - val_loss: 155.8268\n",
      "Epoch 57/150\n",
      "58/58 - 106s - loss: 160.3868 - val_loss: 163.4934\n",
      "Epoch 58/150\n",
      "58/58 - 107s - loss: 161.8280 - val_loss: 163.6499\n",
      "Epoch 59/150\n",
      "58/58 - 106s - loss: 160.6293 - val_loss: 159.9634\n",
      "Epoch 60/150\n",
      "58/58 - 106s - loss: 161.1576 - val_loss: 154.9330\n",
      "Epoch 61/150\n",
      "58/58 - 107s - loss: 158.9155 - val_loss: 157.1934\n",
      "Epoch 62/150\n",
      "58/58 - 106s - loss: 167.5798 - val_loss: 160.9097\n",
      "Epoch 63/150\n",
      "58/58 - 106s - loss: 169.6893 - val_loss: 155.0891\n",
      "Epoch 64/150\n",
      "58/58 - 107s - loss: 158.5952 - val_loss: 151.4592\n",
      "Epoch 65/150\n",
      "58/58 - 106s - loss: 160.0440 - val_loss: 157.3972\n",
      "Epoch 66/150\n",
      "58/58 - 107s - loss: 160.3514 - val_loss: 157.1796\n",
      "Epoch 67/150\n",
      "58/58 - 107s - loss: 158.5646 - val_loss: 153.9448\n",
      "Epoch 68/150\n",
      "58/58 - 106s - loss: 161.3388 - val_loss: 157.2464\n",
      "Epoch 69/150\n",
      "58/58 - 111s - loss: 159.1145 - val_loss: 157.4950\n",
      "Epoch 70/150\n",
      "58/58 - 106s - loss: 161.7296 - val_loss: 154.3140\n",
      "Epoch 71/150\n",
      "58/58 - 106s - loss: 158.6607 - val_loss: 156.1033\n",
      "Epoch 72/150\n",
      "58/58 - 106s - loss: 156.3422 - val_loss: 154.8188\n",
      "Epoch 73/150\n",
      "58/58 - 106s - loss: 158.4186 - val_loss: 170.9822\n",
      "Epoch 74/150\n",
      "58/58 - 106s - loss: 159.9031 - val_loss: 168.3921\n",
      "Epoch 75/150\n",
      "58/58 - 106s - loss: 157.8528 - val_loss: 162.9093\n",
      "Epoch 76/150\n",
      "58/58 - 106s - loss: 162.7407 - val_loss: 178.3643\n",
      "Epoch 77/150\n",
      "58/58 - 107s - loss: 158.1131 - val_loss: 154.0947\n",
      "Epoch 78/150\n",
      "58/58 - 107s - loss: 160.5367 - val_loss: 155.1536\n",
      "Epoch 79/150\n",
      "58/58 - 107s - loss: 158.3156 - val_loss: 151.0231\n",
      "Epoch 80/150\n",
      "58/58 - 107s - loss: 160.8374 - val_loss: 159.4773\n",
      "Epoch 81/150\n",
      "58/58 - 106s - loss: 158.6923 - val_loss: 150.3494\n",
      "Epoch 82/150\n",
      "58/58 - 106s - loss: 162.9960 - val_loss: 156.2008\n",
      "Epoch 83/150\n",
      "58/58 - 107s - loss: 160.2357 - val_loss: 156.7271\n",
      "Epoch 84/150\n",
      "58/58 - 107s - loss: 159.1302 - val_loss: 151.2504\n",
      "Epoch 85/150\n",
      "58/58 - 106s - loss: 157.5422 - val_loss: 150.4153\n",
      "Epoch 86/150\n",
      "58/58 - 106s - loss: 158.3500 - val_loss: 163.9186\n",
      "Epoch 87/150\n",
      "58/58 - 106s - loss: 163.6798 - val_loss: 152.4149\n",
      "Epoch 88/150\n",
      "58/58 - 106s - loss: 160.7995 - val_loss: 150.4786\n",
      "Epoch 89/150\n",
      "58/58 - 106s - loss: 160.1997 - val_loss: 166.6811\n",
      "Epoch 90/150\n",
      "58/58 - 105s - loss: 158.2569 - val_loss: 151.4583\n",
      "Epoch 91/150\n",
      "58/58 - 107s - loss: 168.5678 - val_loss: 152.9971\n",
      "Epoch 92/150\n",
      "58/58 - 106s - loss: 163.5659 - val_loss: 151.5412\n",
      "Epoch 93/150\n",
      "58/58 - 107s - loss: 161.0665 - val_loss: 151.4733\n",
      "Epoch 94/150\n",
      "58/58 - 109s - loss: 157.9560 - val_loss: 164.6853\n",
      "Epoch 95/150\n",
      "58/58 - 108s - loss: 164.9007 - val_loss: 178.9481\n",
      "Epoch 96/150\n",
      "58/58 - 109s - loss: 160.0373 - val_loss: 162.2428\n",
      "Epoch 97/150\n",
      "58/58 - 106s - loss: 157.5824 - val_loss: 151.1401\n",
      "Epoch 98/150\n",
      "58/58 - 107s - loss: 159.1671 - val_loss: 152.2465\n",
      "Epoch 99/150\n",
      "58/58 - 107s - loss: 160.2481 - val_loss: 157.8704\n",
      "Epoch 100/150\n",
      "58/58 - 103s - loss: 158.2973 - val_loss: 159.6837\n",
      "Epoch 101/150\n",
      "58/58 - 101s - loss: 156.9808 - val_loss: 150.0170\n",
      "Epoch 102/150\n",
      "58/58 - 101s - loss: 157.5522 - val_loss: 168.7859\n",
      "Epoch 103/150\n",
      "58/58 - 100s - loss: 166.7348 - val_loss: 150.7633\n",
      "Epoch 104/150\n",
      "58/58 - 98s - loss: 161.3383 - val_loss: 160.6317\n",
      "Epoch 105/150\n",
      "58/58 - 98s - loss: 167.9937 - val_loss: 164.5026\n",
      "Epoch 106/150\n",
      "58/58 - 100s - loss: 166.0193 - val_loss: 164.5842\n",
      "Epoch 107/150\n",
      "58/58 - 102s - loss: 160.0830 - val_loss: 189.1245\n",
      "Epoch 108/150\n",
      "58/58 - 98s - loss: 164.3786 - val_loss: 150.0928\n",
      "Epoch 109/150\n",
      "58/58 - 98s - loss: 157.3440 - val_loss: 165.0000\n",
      "Epoch 110/150\n",
      "58/58 - 98s - loss: 168.5172 - val_loss: 154.4729\n",
      "Epoch 111/150\n",
      "58/58 - 98s - loss: 163.7161 - val_loss: 157.1641\n",
      "Epoch 112/150\n",
      "58/58 - 99s - loss: 158.6863 - val_loss: 149.7894\n",
      "Epoch 113/150\n",
      "58/58 - 98s - loss: 156.5752 - val_loss: 161.7697\n",
      "Epoch 114/150\n",
      "58/58 - 99s - loss: 161.4471 - val_loss: 155.5237\n",
      "Epoch 115/150\n",
      "58/58 - 98s - loss: 161.6886 - val_loss: 153.3152\n",
      "Epoch 116/150\n",
      "58/58 - 98s - loss: 159.3512 - val_loss: 152.8723\n",
      "Epoch 117/150\n",
      "58/58 - 98s - loss: 158.2714 - val_loss: 153.6218\n",
      "Epoch 118/150\n",
      "58/58 - 99s - loss: 162.8650 - val_loss: 156.0426\n",
      "Epoch 119/150\n",
      "58/58 - 99s - loss: 160.8193 - val_loss: 158.8902\n",
      "Epoch 120/150\n",
      "58/58 - 98s - loss: 162.3402 - val_loss: 152.5777\n",
      "Epoch 121/150\n",
      "58/58 - 98s - loss: 161.1088 - val_loss: 154.3274\n",
      "Epoch 122/150\n",
      "58/58 - 97s - loss: 158.3057 - val_loss: 159.1215\n",
      "Epoch 123/150\n",
      "58/58 - 98s - loss: 159.4302 - val_loss: 155.5418\n",
      "Epoch 124/150\n",
      "58/58 - 97s - loss: 161.5646 - val_loss: 179.6760\n",
      "Epoch 125/150\n",
      "58/58 - 99s - loss: 161.4688 - val_loss: 158.9681\n",
      "Epoch 126/150\n",
      "58/58 - 99s - loss: 166.9013 - val_loss: 158.7155\n",
      "Epoch 127/150\n",
      "58/58 - 97s - loss: 157.5820 - val_loss: 178.9320\n",
      "Epoch 128/150\n",
      "58/58 - 97s - loss: 164.0118 - val_loss: 172.9013\n",
      "Epoch 129/150\n",
      "58/58 - 97s - loss: 159.2090 - val_loss: 151.1321\n",
      "Epoch 130/150\n",
      "58/58 - 99s - loss: 162.1857 - val_loss: 151.2651\n",
      "Epoch 131/150\n",
      "58/58 - 98s - loss: 156.7724 - val_loss: 151.0906\n",
      "Epoch 132/150\n",
      "58/58 - 98s - loss: 158.2909 - val_loss: 153.3650\n",
      "Epoch 133/150\n",
      "58/58 - 98s - loss: 161.2811 - val_loss: 176.0426\n",
      "Epoch 134/150\n",
      "58/58 - 98s - loss: 162.0434 - val_loss: 164.4446\n",
      "Epoch 135/150\n",
      "58/58 - 98s - loss: 160.4742 - val_loss: 154.2916\n",
      "Epoch 136/150\n",
      "58/58 - 97s - loss: 158.5684 - val_loss: 149.8418\n",
      "Epoch 137/150\n",
      "58/58 - 98s - loss: 160.2071 - val_loss: 154.0328\n",
      "Epoch 138/150\n",
      "58/58 - 98s - loss: 164.9237 - val_loss: 166.0494\n",
      "Epoch 139/150\n",
      "58/58 - 101s - loss: 161.4018 - val_loss: 174.1666\n",
      "Epoch 140/150\n",
      "58/58 - 98s - loss: 156.9966 - val_loss: 152.2688\n",
      "Epoch 141/150\n",
      "58/58 - 97s - loss: 162.2723 - val_loss: 183.6866\n",
      "Epoch 142/150\n",
      "58/58 - 98s - loss: 158.9839 - val_loss: 152.8528\n",
      "Epoch 143/150\n",
      "58/58 - 98s - loss: 158.1355 - val_loss: 151.1236\n",
      "Epoch 144/150\n",
      "58/58 - 97s - loss: 156.5382 - val_loss: 151.4532\n",
      "Epoch 145/150\n",
      "58/58 - 98s - loss: 159.4730 - val_loss: 152.5902\n",
      "Epoch 146/150\n",
      "58/58 - 97s - loss: 155.1089 - val_loss: 150.0274\n",
      "Epoch 147/150\n",
      "58/58 - 97s - loss: 156.7931 - val_loss: 153.0086\n",
      "Epoch 148/150\n",
      "58/58 - 98s - loss: 161.3360 - val_loss: 164.8310\n",
      "Epoch 149/150\n",
      "58/58 - 98s - loss: 159.5041 - val_loss: 153.4084\n",
      "Epoch 150/150\n",
      "58/58 - 99s - loss: 157.5964 - val_loss: 153.4110\n",
      "Ok!\n"
     ]
    }
   ],
   "source": [
    "# the dataset knows the number of features, e.g. 2\n",
    "#n_features = X.shape[2]\n",
    "n_features = 6\n",
    "# define model\n",
    "model = Sequential()\n",
    "model.add(Conv1D(filters=1045, kernel_size=60, activation='relu', input_shape=(400, n_features)))\n",
    "#model.add(BatchNormalization())\n",
    "#model.add(Conv1D(filters=64, kernel_size=45, activation='relu', input_shape=(395, 64)))\n",
    "#model.add(MaxPooling1D(pool_size=4))\n",
    "#model.add(LSTM(25))\n",
    "model.add(LeakyReLU())\n",
    "model.add(Flatten())\n",
    "model.add(Dense(200, activation='linear'))\n",
    "model.add(Dense(n_features))\n",
    "model.compile(optimizer='adam', loss='mse')\n",
    "# fit model\n",
    "#model.fit(X, y, epochs=3, verbose=1)\n",
    "callbacks = [\n",
    "  # Остановить обучение если `val_loss` перестанет улучшаться в течение 2 эпох\n",
    "  tf.keras.callbacks.EarlyStopping(patience=5, monitor='val_loss'),\n",
    "  # Записать логи TensorBoard в каталог `./logs` directory\n",
    "  tf.keras.callbacks.TensorBoard(log_dir='./logs')\n",
    "]\n",
    "history = model.fit_generator(generator, epochs=150, verbose=2, validation_data=(generator))#, callbacks=callbacks)\n",
    "print(\"Ok!\")\n",
    "# demonstrate prediction"
   ]
  },
  {
   "cell_type": "code",
   "execution_count": 22,
   "metadata": {
    "pycharm": {
     "name": "#%%\n"
    }
   },
   "outputs": [
    {
     "data": {
      "text/plain": "<Figure size 432x288 with 1 Axes>",
      "image/png": "[encoded data removed]"
     },
     "metadata": {
      "needs_background": "light"
     },
     "output_type": "display_data"
    }
   ],
   "source": [
    "plt.plot(history.history['loss'],\n",
    "         label='Средняя абсолютная ошибка на обучающем наборе')\n",
    "plt.plot(history.history['val_loss'],\n",
    "         label='Средняя абсолют  ная ошибка на проверочном наборе')\n",
    "plt.ylabel('Средняя ошибка')\n",
    "plt.legend()\n",
    "plt.show()"
   ]
  },
  {
   "cell_type": "code",
   "execution_count": 23,
   "metadata": {
    "pycharm": {
     "name": "#%%\n"
    }
   },
   "outputs": [
    {
     "name": "stdout",
     "output_type": "stream",
     "text": [
      "[[27.77262  21.799314 17.548515 18.962217 30.750412 20.74894 ]]\n",
      "[[24. 33. 45. 37. 38.  5.]]\n",
      "[[[ 8. 33. 32. 30. 31. 44.]\n",
      "  [25. 19. 29. 31. 33. 26.]\n",
      "  [40. 16. 26. 23. 27. 30.]\n",
      "  ...\n",
      "  [15. 13. 35. 33. 34. 28.]\n",
      "  [27. 44. 40. 29. 41. 25.]\n",
      "  [ 1. 10. 33. 37. 40. 44.]]]\n",
      "[ 8. 33. 32. 30. 31. 44.]\n",
      "[24. 33. 45. 37. 38.  5.]\n",
      "[[ -3.77261925  11.2006855   27.45148468  18.03778267   7.24958801\n",
      "  -15.74893951]]\n"
     ]
    }
   ],
   "source": [
    "# x_input = array([[70,71,72,73,74,75], [76,77,78,79,80,81], [82,83,84,85,86,87]])\n",
    "# x_input = x_input.reshape((1, 3, n_features))\n",
    "x_input = array([dataset_new[-401:-1]])\n",
    "yhat = model.predict(x_input, verbose=0)\n",
    "print(yhat)\n",
    "print(y_val)\n",
    "print(x_input)\n",
    "print (dataset_new[-401])\n",
    "print (dataset_new[-1])\n",
    "print(y_val-yhat)\n"
   ]
  },
  {
   "cell_type": "code",
   "execution_count": null,
   "metadata": {
    "pycharm": {
     "name": "#%%"
    }
   },
   "outputs": [],
   "source": []
  }
 ],
 "metadata": {
  "accelerator": "GPU",
  "colab": {
   "collapsed_sections": [],
   "machine_shape": "hm",
   "name": "Fedorov_A Сентябрьский курс. Шаблон для домашнего задания 7. Временные ряды. Прогнозирование акций Лукойла",
   "provenance": []
  },
  "kernelspec": {
   "display_name": "Python 3",
   "language": "python",
   "name": "python3"
  },
  "language_info": {
   "codemirror_mode": {
    "name": "ipython",
    "version": 3
   },
   "file_extension": ".py",
   "mimetype": "text/x-python",
   "name": "python",
   "nbconvert_exporter": "python",
   "pygments_lexer": "ipython3",
   "version": "3.7.7"
  }
 },
 "nbformat": 4,
 "nbformat_minor": 1
}