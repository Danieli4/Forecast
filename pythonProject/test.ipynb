{
 "cells": [
  {
   "cell_type": "code",
   "source": [
    "# multivariate output 1d cnn example\n",
    "from numpy import array\n",
    "import numpy as np\n",
    "import pandas as pd\n",
    "from numpy import hstack\n",
    "from keras.models import Sequential\n",
    "from keras.layers import Dense\n",
    "from keras.layers import Flatten\n",
    "from keras.layers.convolutional import Conv1D, Conv2D\n",
    "from keras.layers.convolutional import MaxPooling1D\n",
    "from keras.preprocessing.sequence import TimeseriesGenerator\n",
    "import matplotlib.pyplot as plt\n",
    "# split a multivariate sequence into samples"
   ],
   "metadata": {
    "collapsed": false,
    "pycharm": {
     "name": "#%%\n"
    }
   },
   "execution_count": 38,
   "outputs": []
  },
  {
   "cell_type": "code",
   "execution_count": 2,
   "outputs": [
    {
     "data": {
      "text/plain": "      1-number  2-number  3-number  4-number  5-number  6-number\n0         15.0      17.0      22.0      23.0      25.0      33.0\n1         23.0      29.0      44.0      19.0      24.0      45.0\n2         38.0       7.0       3.0      45.0      26.0       4.0\n3         31.0      26.0      44.0      37.0      40.0      27.0\n4         16.0      17.0      12.0      21.0      23.0      35.0\n...        ...       ...       ...       ...       ...       ...\n5424      18.0       7.0      16.0      23.0      37.0      43.0\n5425      15.0      13.0      35.0      33.0      34.0      28.0\n5426      27.0      44.0      40.0      29.0      41.0      25.0\n5427       1.0      10.0      33.0      37.0      40.0      44.0\n5428      24.0      33.0      45.0      37.0      38.0       5.0\n\n[5429 rows x 6 columns]",
      "text/html": "<div>\n<style scoped>\n    .dataframe tbody tr th:only-of-type {\n        vertical-align: middle;\n    }\n\n    .dataframe tbody tr th {\n        vertical-align: top;\n    }\n\n    .dataframe thead th {\n        text-align: right;\n    }\n</style>\n<table border=\"1\" class=\"dataframe\">\n  <thead>\n    <tr style=\"text-align: right;\">\n      <th></th>\n      <th>1-number</th>\n      <th>2-number</th>\n      <th>3-number</th>\n      <th>4-number</th>\n      <th>5-number</th>\n      <th>6-number</th>\n    </tr>\n  </thead>\n  <tbody>\n    <tr>\n      <th>0</th>\n      <td>15.0</td>\n      <td>17.0</td>\n      <td>22.0</td>\n      <td>23.0</td>\n      <td>25.0</td>\n      <td>33.0</td>\n    </tr>\n    <tr>\n      <th>1</th>\n      <td>23.0</td>\n      <td>29.0</td>\n      <td>44.0</td>\n      <td>19.0</td>\n      <td>24.0</td>\n      <td>45.0</td>\n    </tr>\n    <tr>\n      <th>2</th>\n      <td>38.0</td>\n      <td>7.0</td>\n      <td>3.0</td>\n      <td>45.0</td>\n      <td>26.0</td>\n      <td>4.0</td>\n    </tr>\n    <tr>\n      <th>3</th>\n      <td>31.0</td>\n      <td>26.0</td>\n      <td>44.0</td>\n      <td>37.0</td>\n      <td>40.0</td>\n      <td>27.0</td>\n    </tr>\n    <tr>\n      <th>4</th>\n      <td>16.0</td>\n      <td>17.0</td>\n      <td>12.0</td>\n      <td>21.0</td>\n      <td>23.0</td>\n      <td>35.0</td>\n    </tr>\n    <tr>\n      <th>...</th>\n      <td>...</td>\n      <td>...</td>\n      <td>...</td>\n      <td>...</td>\n      <td>...</td>\n      <td>...</td>\n    </tr>\n    <tr>\n      <th>5424</th>\n      <td>18.0</td>\n      <td>7.0</td>\n      <td>16.0</td>\n      <td>23.0</td>\n      <td>37.0</td>\n      <td>43.0</td>\n    </tr>\n    <tr>\n      <th>5425</th>\n      <td>15.0</td>\n      <td>13.0</td>\n      <td>35.0</td>\n      <td>33.0</td>\n      <td>34.0</td>\n      <td>28.0</td>\n    </tr>\n    <tr>\n      <th>5426</th>\n      <td>27.0</td>\n      <td>44.0</td>\n      <td>40.0</td>\n      <td>29.0</td>\n      <td>41.0</td>\n      <td>25.0</td>\n    </tr>\n    <tr>\n      <th>5427</th>\n      <td>1.0</td>\n      <td>10.0</td>\n      <td>33.0</td>\n      <td>37.0</td>\n      <td>40.0</td>\n      <td>44.0</td>\n    </tr>\n    <tr>\n      <th>5428</th>\n      <td>24.0</td>\n      <td>33.0</td>\n      <td>45.0</td>\n      <td>37.0</td>\n      <td>38.0</td>\n      <td>5.0</td>\n    </tr>\n  </tbody>\n</table>\n<p>5429 rows × 6 columns</p>\n</div>"
     },
     "execution_count": 2,
     "metadata": {},
     "output_type": "execute_result"
    }
   ],
   "source": [
    "# Загружаем датафрейм\n",
    "frame = pd.read_csv('Gosloto_6x45.csv', header=0, sep=';')\n",
    "frame\n",
    "\n",
    "\n",
    "\n",
    "# удвляем дату и тираж\n",
    "frame = frame.drop(columns=['datetime', 'tiraz'], axis=1).astype(float)\n",
    "frame"
   ],
   "metadata": {
    "collapsed": false,
    "pycharm": {
     "name": "#%%\n"
    }
   }
  },
  {
   "cell_type": "code",
   "execution_count": 3,
   "outputs": [
    {
     "name": "stdout",
     "output_type": "stream",
     "text": [
      "[[[ 0  1  2  3  4  5]\n",
      "  [ 6  7  8  9 10 11]\n",
      "  [12 13 14 15 16 17]]] => [[18 19 20 21 22 23]]\n",
      "[[[ 6  7  8  9 10 11]\n",
      "  [12 13 14 15 16 17]\n",
      "  [18 19 20 21 22 23]]] => [[24 25 26 27 28 29]]\n",
      "[[[12 13 14 15 16 17]\n",
      "  [18 19 20 21 22 23]\n",
      "  [24 25 26 27 28 29]]] => [[30 31 32 33 34 35]]\n",
      "[[[18 19 20 21 22 23]\n",
      "  [24 25 26 27 28 29]\n",
      "  [30 31 32 33 34 35]]] => [[36 37 38 39 40 41]]\n",
      "[[[24 25 26 27 28 29]\n",
      "  [30 31 32 33 34 35]\n",
      "  [36 37 38 39 40 41]]] => [[42 43 44 45 46 47]]\n",
      "[[[30 31 32 33 34 35]\n",
      "  [36 37 38 39 40 41]\n",
      "  [42 43 44 45 46 47]]] => [[48 49 50 51 52 53]]\n",
      "[[[36 37 38 39 40 41]\n",
      "  [42 43 44 45 46 47]\n",
      "  [48 49 50 51 52 53]]] => [[54 55 56 57 58 59]]\n"
     ]
    },
    {
     "data": {
      "text/plain": "3"
     },
     "execution_count": 3,
     "metadata": {},
     "output_type": "execute_result"
    }
   ],
   "source": [
    "in_seq1 = frame[\"1-number\"].to_numpy()\n",
    "in_seq2 = frame[\"2-number\"].to_numpy()\n",
    "in_seq3 = frame[\"3-number\"].to_numpy()\n",
    "in_seq4 = frame[\"4-number\"].to_numpy()\n",
    "in_seq5 = frame[\"5-number\"].to_numpy()\n",
    "in_seq6 = frame[\"6-number\"].to_numpy()\n",
    "\n",
    "in_seq1 = in_seq1.reshape((len(in_seq1), 1))\n",
    "in_seq2 = in_seq2.reshape((len(in_seq2), 1))\n",
    "in_seq3 = in_seq3.reshape((len(in_seq3), 1))\n",
    "in_seq4 = in_seq4.reshape((len(in_seq4), 1))\n",
    "in_seq5 = in_seq5.reshape((len(in_seq5), 1))\n",
    "in_seq6 = in_seq6.reshape((len(in_seq6), 1))\n",
    "# horizontally stack columns\n",
    "dataset = hstack((in_seq1, in_seq2, in_seq3, in_seq4, in_seq5, in_seq6))\n",
    "dataset= np.array(range(0,60,1)).reshape(10,6)\n",
    "\n",
    "n_input = 3\n",
    "generator = TimeseriesGenerator(dataset, dataset, length=n_input, batch_size=1)\n",
    "\n",
    "\n",
    "for i in range(len(generator)):\n",
    "\tx_g, y_g = generator[i]\n",
    "\tprint('%s => %s' % (x_g, y_g))\n",
    "generator.length"
   ],
   "metadata": {
    "collapsed": false,
    "pycharm": {
     "name": "#%%\n"
    }
   }
  },
  {
   "cell_type": "code",
   "execution_count": 22,
   "outputs": [
    {
     "name": "stdout",
     "output_type": "stream",
     "text": [
      "10\n",
      "!\n"
     ]
    }
   ],
   "source": [
    "def split_sequences(sequences, n_steps):\n",
    "\tX, y = list(), list()\n",
    "\tprint(len(sequences))\n",
    "\tfor i in range(len(sequences)):\n",
    "\t\t# find the end of this pattern\n",
    "\t\tend_ix = i + n_steps\n",
    "\t\t# check if we are beyond the dataset\n",
    "\t\tif end_ix > len(sequences)-1:\n",
    "\t\t\tprint('!')\n",
    "\t\t\tbreak\n",
    "\t\t# gather input and output parts of the pattern\n",
    "\t\tseq_x, seq_y = sequences[i:end_ix, :], sequences[end_ix, :]\n",
    "\t\tX.append(seq_x)\n",
    "\t\ty.append(seq_y)\n",
    "\treturn array(X), array(y)\n",
    "# choose a number of time steps\n",
    "n_steps = 6\n",
    "# convert into input/output\n",
    "X, y = split_sequences(dataset, n_steps)"
   ],
   "metadata": {
    "collapsed": false,
    "pycharm": {
     "name": "#%%\n"
    }
   }
  },
  {
   "cell_type": "code",
   "execution_count": 42,
   "outputs": [],
   "source": [
    "# the dataset knows the number of features, e.g. 2\n",
    "#n_features = X.shape[2]\n",
    "n_features = 6\n",
    "# define model\n",
    "model = Sequential()\n",
    "model.add(Conv1D(filters=32, kernel_size=2, activation='linear', input_shape=(3, n_features)))\n",
    "model.add(MaxPooling1D(pool_size=2))\n",
    "model.add(Flatten())\n",
    "model.add(Dense(50, activation='linear'))\n",
    "model.add(Dense(n_features))\n",
    "model.compile(optimizer='adam', loss='mse')\n",
    "# fit model\n",
    "#model.fit(X, y, epochs=3, verbose=1)\n",
    "history = model.fit_generator(generator, epochs=200, verbose=0,validation_data=(generator))\n",
    "# demonstrate prediction"
   ],
   "metadata": {
    "collapsed": false,
    "pycharm": {
     "name": "#%%\n"
    }
   }
  },
  {
   "cell_type": "code",
   "execution_count": 43,
   "outputs": [
    {
     "data": {
      "text/plain": "<Figure size 432x288 with 1 Axes>",
      "image/png": "[encoded data removed]"
     },
     "metadata": {
      "needs_background": "light"
     },
     "output_type": "display_data"
    }
   ],
   "source": [
    "plt.plot(history.history['loss'],\n",
    "         label='Средняя абсолютная ошибка на обучающем наборе')\n",
    "plt.plot(history.history['val_loss'],\n",
    "         label='Средняя абсолютная ошибка на проверочном наборе')\n",
    "plt.ylabel('Средняя ошибка')\n",
    "plt.legend()\n",
    "plt.show()"
   ],
   "metadata": {
    "collapsed": false,
    "pycharm": {
     "name": "#%%\n"
    }
   }
  },
  {
   "cell_type": "code",
   "execution_count": 37,
   "outputs": [
    {
     "name": "stdout",
     "output_type": "stream",
     "text": [
      "WARNING:tensorflow:6 out of the last 10 calls to <function Model.make_predict_function.<locals>.predict_function at 0x000002C1AE9770D8> triggered tf.function retracing. Tracing is expensive and the excessive number of tracings could be due to (1) creating @tf.function repeatedly in a loop, (2) passing tensors with different shapes, (3) passing Python objects instead of tensors. For (1), please define your @tf.function outside of the loop. For (2), @tf.function has experimental_relax_shapes=True option that relaxes argument shapes that can avoid unnecessary retracing. For (3), please refer to https://www.tensorflow.org/tutorials/customization/performance#python_or_tensor_args and https://www.tensorflow.org/api_docs/python/tf/function for  more details.\n",
      "[[88.00199  89.002655 90.00736  91.00498  92.00779  93.00352 ]]\n"
     ]
    }
   ],
   "source": [
    "x_input = array([[70,71,72,73,74,75], [76,77,78,79,80,81], [82,83,84,85,86,87]])\n",
    "x_input = x_input.reshape((1, 3, n_features))\n",
    "yhat = model.predict(x_input, verbose=0)\n",
    "print(yhat)"
   ],
   "metadata": {
    "collapsed": false,
    "pycharm": {
     "name": "#%%\n"
    }
   }
  },
  {
   "cell_type": "code",
   "execution_count": null,
   "outputs": [],
   "source": [],
   "metadata": {
    "collapsed": false,
    "pycharm": {
     "name": "#%%"
    }
   }
  }
 ],
 "metadata": {
  "accelerator": "GPU",
  "colab": {
   "collapsed_sections": [],
   "machine_shape": "hm",
   "name": "Fedorov_A Сентябрьский курс. Шаблон для домашнего задания 7. Временные ряды. Прогнозирование акций Лукойла",
   "provenance": []
  },
  "kernelspec": {
   "display_name": "Python 3",
   "language": "python",
   "name": "python3"
  },
  "language_info": {
   "codemirror_mode": {
    "name": "ipython",
    "version": 3
   },
   "file_extension": ".py",
   "mimetype": "text/x-python",
   "name": "python",
   "nbconvert_exporter": "python",
   "pygments_lexer": "ipython3",
   "version": "3.7.7"
  }
 },
 "nbformat": 4,
 "nbformat_minor": 1
}