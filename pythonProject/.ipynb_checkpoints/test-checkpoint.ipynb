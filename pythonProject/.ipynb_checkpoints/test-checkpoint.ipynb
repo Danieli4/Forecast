{
 "cells": [
  {
   "cell_type": "code",
   "execution_count": 123,
   "metadata": {
    "pycharm": {
     "name": "#%%\n"
    }
   },
   "outputs": [],
   "source": [
    "# multivariate output 1d cnn example\n",
    "import tf as tf\n",
    "from numpy import array\n",
    "import tensorflow as tf\n",
    "import numpy as np\n",
    "import pandas as pd\n",
    "from numpy import hstack\n",
    "from keras.models import Sequential\n",
    "from keras.layers import Dense, BatchNormalization, LSTM\n",
    "from keras.layers import Flatten\n",
    "from keras.layers.convolutional import Conv1D, Conv2D\n",
    "from keras.layers.convolutional import MaxPooling1D\n",
    "from keras.preprocessing.sequence import TimeseriesGenerator\n",
    "\n",
    "import matplotlib.pyplot as plt\n",
    "# split a multivariate sequence into samples"
   ]
  },
  {
   "cell_type": "code",
   "execution_count": 124,
   "metadata": {
    "pycharm": {
     "name": "#%%\n"
    }
   },
   "outputs": [
    {
     "data": {
      "text/html": [
       "<div>\n",
       "<style scoped>\n",
       "    .dataframe tbody tr th:only-of-type {\n",
       "        vertical-align: middle;\n",
       "    }\n",
       "\n",
       "    .dataframe tbody tr th {\n",
       "        vertical-align: top;\n",
       "    }\n",
       "\n",
       "    .dataframe thead th {\n",
       "        text-align: right;\n",
       "    }\n",
       "</style>\n",
       "<table border=\"1\" class=\"dataframe\">\n",
       "  <thead>\n",
       "    <tr style=\"text-align: right;\">\n",
       "      <th></th>\n",
       "      <th>1-number</th>\n",
       "      <th>2-number</th>\n",
       "      <th>3-number</th>\n",
       "      <th>4-number</th>\n",
       "      <th>5-number</th>\n",
       "      <th>6-number</th>\n",
       "    </tr>\n",
       "  </thead>\n",
       "  <tbody>\n",
       "    <tr>\n",
       "      <th>0</th>\n",
       "      <td>15.0</td>\n",
       "      <td>17.0</td>\n",
       "      <td>22.0</td>\n",
       "      <td>23.0</td>\n",
       "      <td>25.0</td>\n",
       "      <td>33.0</td>\n",
       "    </tr>\n",
       "    <tr>\n",
       "      <th>1</th>\n",
       "      <td>23.0</td>\n",
       "      <td>29.0</td>\n",
       "      <td>44.0</td>\n",
       "      <td>19.0</td>\n",
       "      <td>24.0</td>\n",
       "      <td>45.0</td>\n",
       "    </tr>\n",
       "    <tr>\n",
       "      <th>2</th>\n",
       "      <td>38.0</td>\n",
       "      <td>7.0</td>\n",
       "      <td>3.0</td>\n",
       "      <td>45.0</td>\n",
       "      <td>26.0</td>\n",
       "      <td>4.0</td>\n",
       "    </tr>\n",
       "    <tr>\n",
       "      <th>3</th>\n",
       "      <td>31.0</td>\n",
       "      <td>26.0</td>\n",
       "      <td>44.0</td>\n",
       "      <td>37.0</td>\n",
       "      <td>40.0</td>\n",
       "      <td>27.0</td>\n",
       "    </tr>\n",
       "    <tr>\n",
       "      <th>4</th>\n",
       "      <td>16.0</td>\n",
       "      <td>17.0</td>\n",
       "      <td>12.0</td>\n",
       "      <td>21.0</td>\n",
       "      <td>23.0</td>\n",
       "      <td>35.0</td>\n",
       "    </tr>\n",
       "    <tr>\n",
       "      <th>...</th>\n",
       "      <td>...</td>\n",
       "      <td>...</td>\n",
       "      <td>...</td>\n",
       "      <td>...</td>\n",
       "      <td>...</td>\n",
       "      <td>...</td>\n",
       "    </tr>\n",
       "    <tr>\n",
       "      <th>5424</th>\n",
       "      <td>18.0</td>\n",
       "      <td>7.0</td>\n",
       "      <td>16.0</td>\n",
       "      <td>23.0</td>\n",
       "      <td>37.0</td>\n",
       "      <td>43.0</td>\n",
       "    </tr>\n",
       "    <tr>\n",
       "      <th>5425</th>\n",
       "      <td>15.0</td>\n",
       "      <td>13.0</td>\n",
       "      <td>35.0</td>\n",
       "      <td>33.0</td>\n",
       "      <td>34.0</td>\n",
       "      <td>28.0</td>\n",
       "    </tr>\n",
       "    <tr>\n",
       "      <th>5426</th>\n",
       "      <td>27.0</td>\n",
       "      <td>44.0</td>\n",
       "      <td>40.0</td>\n",
       "      <td>29.0</td>\n",
       "      <td>41.0</td>\n",
       "      <td>25.0</td>\n",
       "    </tr>\n",
       "    <tr>\n",
       "      <th>5427</th>\n",
       "      <td>1.0</td>\n",
       "      <td>10.0</td>\n",
       "      <td>33.0</td>\n",
       "      <td>37.0</td>\n",
       "      <td>40.0</td>\n",
       "      <td>44.0</td>\n",
       "    </tr>\n",
       "    <tr>\n",
       "      <th>5428</th>\n",
       "      <td>24.0</td>\n",
       "      <td>33.0</td>\n",
       "      <td>45.0</td>\n",
       "      <td>37.0</td>\n",
       "      <td>38.0</td>\n",
       "      <td>5.0</td>\n",
       "    </tr>\n",
       "  </tbody>\n",
       "</table>\n",
       "<p>5429 rows × 6 columns</p>\n",
       "</div>"
      ],
      "text/plain": [
       "      1-number  2-number  3-number  4-number  5-number  6-number\n",
       "0         15.0      17.0      22.0      23.0      25.0      33.0\n",
       "1         23.0      29.0      44.0      19.0      24.0      45.0\n",
       "2         38.0       7.0       3.0      45.0      26.0       4.0\n",
       "3         31.0      26.0      44.0      37.0      40.0      27.0\n",
       "4         16.0      17.0      12.0      21.0      23.0      35.0\n",
       "...        ...       ...       ...       ...       ...       ...\n",
       "5424      18.0       7.0      16.0      23.0      37.0      43.0\n",
       "5425      15.0      13.0      35.0      33.0      34.0      28.0\n",
       "5426      27.0      44.0      40.0      29.0      41.0      25.0\n",
       "5427       1.0      10.0      33.0      37.0      40.0      44.0\n",
       "5428      24.0      33.0      45.0      37.0      38.0       5.0\n",
       "\n",
       "[5429 rows x 6 columns]"
      ]
     },
     "execution_count": 124,
     "metadata": {},
     "output_type": "execute_result"
    }
   ],
   "source": [
    "# Загружаем датафрейм\n",
    "frame = pd.read_csv('Gosloto_6x45.csv', header=0, sep=';')\n",
    "frame\n",
    "\n",
    "# удвляем дату и тираж\n",
    "frame = frame.drop(columns=['datetime', 'tiraz'], axis=1).astype(float)\n",
    "frame"
   ]
  },
  {
   "cell_type": "code",
   "execution_count": 125,
   "metadata": {
    "pycharm": {
     "name": "#%%\n"
    }
   },
   "outputs": [],
   "source": [
    "in_seq1 = frame[\"1-number\"].to_numpy()\n",
    "in_seq2 = frame[\"2-number\"].to_numpy()\n",
    "in_seq3 = frame[\"3-number\"].to_numpy()\n",
    "in_seq4 = frame[\"4-number\"].to_numpy()\n",
    "in_seq5 = frame[\"5-number\"].to_numpy()\n",
    "in_seq6 = frame[\"6-number\"].to_numpy()\n",
    "\n",
    "in_seq1 = in_seq1.reshape((len(in_seq1), 1))\n",
    "in_seq2 = in_seq2.reshape((len(in_seq2), 1))\n",
    "in_seq3 = in_seq3.reshape((len(in_seq3), 1))\n",
    "in_seq4 = in_seq4.reshape((len(in_seq4), 1))\n",
    "in_seq5 = in_seq5.reshape((len(in_seq5), 1))\n",
    "in_seq6 = in_seq6.reshape((len(in_seq6), 1))\n",
    "# horizontally stack columns\n",
    "dataset_new = hstack((in_seq1, in_seq2, in_seq3, in_seq4, in_seq5, in_seq6))\n",
    "#dataset= np.array(range(0,54,1)).reshape(9,6)"
   ]
  },
  {
   "cell_type": "code",
   "execution_count": 126,
   "metadata": {
    "pycharm": {
     "name": "#%%\n"
    }
   },
   "outputs": [],
   "source": [
    "validat_x = dataset_new[-401:-1]\n",
    "validat_y = dataset_new[-1:]"
   ]
  },
  {
   "cell_type": "code",
   "execution_count": 127,
   "metadata": {
    "pycharm": {
     "name": "#%%\n"
    }
   },
   "outputs": [],
   "source": [
    "# нужно вычесть 5429+validat_x[!это!:]\n",
    "dataset = dataset_new[:5028]\n"
   ]
  },
  {
   "cell_type": "code",
   "execution_count": 128,
   "metadata": {
    "pycharm": {
     "name": "#%%\n"
    }
   },
   "outputs": [],
   "source": [
    "n_input = 400\n",
    "generator = TimeseriesGenerator(dataset, dataset, length=n_input, batch_size=80)\n",
    "\n",
    "#np.delete(validat)\n",
    "\n",
    "# for i in range(len(generator)):\n",
    "# \tx_g, y_g = generator[i]\n",
    "# \tprint('%s => %s' % (x_g, y_g))\n",
    "# generator.length"
   ]
  },
  {
   "cell_type": "code",
   "execution_count": 129,
   "metadata": {
    "pycharm": {
     "name": "#%%\n"
    }
   },
   "outputs": [
    {
     "name": "stdout",
     "output_type": "stream",
     "text": [
      "5028\n",
      "!\n"
     ]
    }
   ],
   "source": [
    "def split_sequences(sequences, n_steps):\n",
    "\tX, y = list(), list()\n",
    "\tprint(len(sequences))\n",
    "\tfor i in range(len(sequences)):\n",
    "\t\t# find the end of this pattern\n",
    "\t\tend_ix = i + n_steps\n",
    "\t\t# check if we are beyond the dataset\n",
    "\t\tif end_ix > len(sequences)-1:\n",
    "\t\t\tprint('!')\n",
    "\t\t\tbreak\n",
    "\t\t# gather input and output parts of the pattern\n",
    "\t\tseq_x, seq_y = sequences[i:end_ix, :], sequences[end_ix, :]\n",
    "\t\tX.append(seq_x)\n",
    "\t\ty.append(seq_y)\n",
    "\treturn array(X), array(y)\n",
    "# choose a number of time steps\n",
    "n_steps = 6\n",
    "# convert into input/output\n",
    "X, y = split_sequences(dataset, n_steps)"
   ]
  },
  {
   "cell_type": "code",
   "execution_count": 130,
   "metadata": {
    "pycharm": {
     "name": "#%%\n"
    }
   },
   "outputs": [
    {
     "name": "stdout",
     "output_type": "stream",
     "text": [
      "[[[ 8. 33. 32. 30. 31. 44.]\n",
      "  [25. 19. 29. 31. 33. 26.]\n",
      "  [40. 16. 26. 23. 27. 30.]\n",
      "  ...\n",
      "  [15. 13. 35. 33. 34. 28.]\n",
      "  [27. 44. 40. 29. 41. 25.]\n",
      "  [ 1. 10. 33. 37. 40. 44.]]]\n",
      "[[24. 33. 45. 37. 38.  5.]]\n",
      "[[[36 37 38 39 40 41]\n",
      "  [42 43 44 45 46 47]\n",
      "  [48 49 50 51 52 53]]]\n",
      "[[54 55 56 57 58 59]]\n"
     ]
    }
   ],
   "source": [
    "x_val1 = array([[[36 ,37, 38, 39, 40, 41], [42, 43, 44, 45, 46, 47], [48, 49, 50, 51, 52, 53]]])\n",
    "y_val1 = array( [[54, 55, 56, 57, 58, 59]])\n",
    "\n",
    "x_val = array([validat_x])\n",
    "y_val = array( validat_y)\n",
    "print (x_val)\n",
    "print (y_val)\n",
    "print (x_val1)\n",
    "print (y_val1)"
   ]
  },
  {
   "cell_type": "code",
   "execution_count": null,
   "metadata": {
    "pycharm": {
     "is_executing": true,
     "name": "#%%\n"
    }
   },
   "outputs": [
    {
     "name": "stdout",
     "output_type": "stream",
     "text": [
      "Epoch 1/80\n",
      "58/58 - 2s - loss: 702.5621 - val_loss: 695.2578\n",
      "Epoch 2/80\n",
      "58/58 - 2s - loss: 693.9584 - val_loss: 692.6172\n",
      "Epoch 3/80\n",
      "58/58 - 2s - loss: 691.3207 - val_loss: 689.9802\n",
      "Epoch 4/80\n",
      "58/58 - 2s - loss: 688.6922 - val_loss: 687.3564\n",
      "Epoch 5/80\n",
      "58/58 - 2s - loss: 686.0735 - val_loss: 684.7386\n",
      "Epoch 6/80\n",
      "58/58 - 2s - loss: 683.4581 - val_loss: 682.1339\n",
      "Epoch 7/80\n",
      "58/58 - 2s - loss: 680.8570 - val_loss: 679.5352\n",
      "Epoch 8/80\n",
      "58/58 - 2s - loss: 678.2643 - val_loss: 676.9465\n",
      "Epoch 9/80\n",
      "58/58 - 2s - loss: 675.6811 - val_loss: 674.3666\n",
      "Epoch 10/80\n",
      "58/58 - 2s - loss: 673.1044 - val_loss: 671.7973\n",
      "Epoch 11/80\n",
      "58/58 - 2s - loss: 670.5360 - val_loss: 669.2366\n",
      "Epoch 12/80\n",
      "58/58 - 2s - loss: 667.9811 - val_loss: 666.6873\n",
      "Epoch 13/80\n",
      "58/58 - 2s - loss: 665.4337 - val_loss: 664.1370\n",
      "Epoch 14/80\n",
      "58/58 - 2s - loss: 662.8943 - val_loss: 661.6056\n",
      "Epoch 15/80\n",
      "58/58 - 2s - loss: 660.3660 - val_loss: 659.0806\n",
      "Epoch 16/80\n",
      "58/58 - 2s - loss: 657.8456 - val_loss: 656.5641\n",
      "Epoch 17/80\n",
      "58/58 - 2s - loss: 655.3304 - val_loss: 654.0583\n",
      "Epoch 18/80\n",
      "58/58 - 2s - loss: 652.8259 - val_loss: 651.5592\n",
      "Epoch 19/80\n",
      "58/58 - 2s - loss: 650.3305 - val_loss: 649.0673\n",
      "Epoch 20/80\n",
      "58/58 - 2s - loss: 647.8470 - val_loss: 646.5839\n",
      "Epoch 21/80\n",
      "58/58 - 2s - loss: 645.3715 - val_loss: 644.1124\n",
      "Epoch 22/80\n",
      "58/58 - 2s - loss: 642.9022 - val_loss: 641.6454\n"
     ]
    }
   ],
   "source": [
    "# the dataset knows the number of features, e.g. 2\n",
    "#n_features = X.shape[2]\n",
    "n_features = 6\n",
    "# define model\n",
    "model = Sequential()\n",
    "model.add(Conv1D(filters=45, kernel_size=6, activation='relu', input_shape=(400, n_features)))\n",
    "#model.add(BatchNormalization())\n",
    "#model.add(Conv1D(filters=64, kernel_size=45, activation='relu', input_shape=(395, 64)))\n",
    "model.add(MaxPooling1D(pool_size=1))\n",
    "#model.add(LSTM(25))\n",
    "model.add(Flatten())\n",
    "model.add(Dense(5, activation='relu'))\n",
    "model.add(Dense(n_features))\n",
    "model.compile(optimizer='adam', loss='mse')\n",
    "# fit model\n",
    "#model.fit(X, y, epochs=3, verbose=1)\n",
    "callbacks = [\n",
    "  # Остановить обучение если `val_loss` перестанет улучшаться в течение 2 эпох\n",
    "  tf.keras.callbacks.EarlyStopping(patience=5, monitor='val_loss'),\n",
    "  # Записать логи TensorBoard в каталог `./logs` directory\n",
    "  tf.keras.callbacks.TensorBoard(log_dir='./logs')\n",
    "]\n",
    "history = model.fit_generator(generator, epochs=80, verbose=2, validation_data=(generator))#, callbacks=callbacks)\n",
    "print(\"Ok!\")\n",
    "# demonstrate prediction"
   ]
  },
  {
   "cell_type": "code",
   "execution_count": 121,
   "metadata": {
    "pycharm": {
     "name": "#%%\n"
    }
   },
   "outputs": [
    {
     "data": {
      "image/png": "[encoded data removed]",
      "text/plain": [
       "<Figure size 432x288 with 1 Axes>"
      ]
     },
     "metadata": {
      "needs_background": "light"
     },
     "output_type": "display_data"
    }
   ],
   "source": [
    "plt.plot(history.history['loss'],\n",
    "         label='Средняя абсолютная ошибка на обучающем наборе')\n",
    "plt.plot(history.history['val_loss'],\n",
    "         label='Средняя абсолютная ошибка на проверочном наборе')\n",
    "plt.ylabel('Средняя ошибка')\n",
    "plt.legend()\n",
    "plt.show()"
   ]
  },
  {
   "cell_type": "code",
   "execution_count": 122,
   "metadata": {
    "pycharm": {
     "name": "#%%\n"
    }
   },
   "outputs": [
    {
     "name": "stdout",
     "output_type": "stream",
     "text": [
      "WARNING:tensorflow:8 out of the last 12 calls to <function Model.make_predict_function.<locals>.predict_function at 0x0000017885B03288> triggered tf.function retracing. Tracing is expensive and the excessive number of tracings could be due to (1) creating @tf.function repeatedly in a loop, (2) passing tensors with different shapes, (3) passing Python objects instead of tensors. For (1), please define your @tf.function outside of the loop. For (2), @tf.function has experimental_relax_shapes=True option that relaxes argument shapes that can avoid unnecessary retracing. For (3), please refer to https://www.tensorflow.org/tutorials/customization/performance#python_or_tensor_args and https://www.tensorflow.org/api_docs/python/tf/function for  more details.\n",
      "[[23.06423  22.860233 22.985363 22.764545 23.324478 22.969452]]\n",
      "[[24. 33. 45. 37. 38.  5.]]\n",
      "[[[ 8. 33. 32. 30. 31. 44.]\n",
      "  [25. 19. 29. 31. 33. 26.]\n",
      "  [40. 16. 26. 23. 27. 30.]\n",
      "  ...\n",
      "  [15. 13. 35. 33. 34. 28.]\n",
      "  [27. 44. 40. 29. 41. 25.]\n",
      "  [ 1. 10. 33. 37. 40. 44.]]]\n",
      "[ 8. 33. 32. 30. 31. 44.]\n",
      "[24. 33. 45. 37. 38.  5.]\n"
     ]
    }
   ],
   "source": [
    "# x_input = array([[70,71,72,73,74,75], [76,77,78,79,80,81], [82,83,84,85,86,87]])\n",
    "# x_input = x_input.reshape((1, 3, n_features))\n",
    "x_input = array([dataset_new[-401:-1]])\n",
    "yhat = model.predict(x_input, verbose=0)\n",
    "print(yhat)\n",
    "print(y_val)\n",
    "print(x_input)\n",
    "print (dataset_new[-401])\n",
    "print (dataset_new[-1])"
   ]
  },
  {
   "cell_type": "code",
   "execution_count": null,
   "metadata": {
    "pycharm": {
     "name": "#%%"
    }
   },
   "outputs": [],
   "source": []
  }
 ],
 "metadata": {
  "accelerator": "GPU",
  "colab": {
   "collapsed_sections": [],
   "machine_shape": "hm",
   "name": "Fedorov_A Сентябрьский курс. Шаблон для домашнего задания 7. Временные ряды. Прогнозирование акций Лукойла",
   "provenance": []
  },
  "kernelspec": {
   "display_name": "Python 3",
   "language": "python",
   "name": "python3"
  },
  "language_info": {
   "codemirror_mode": {
    "name": "ipython",
    "version": 3
   },
   "file_extension": ".py",
   "mimetype": "text/x-python",
   "name": "python",
   "nbconvert_exporter": "python",
   "pygments_lexer": "ipython3",
   "version": "3.7.7"
  }
 },
 "nbformat": 4,
 "nbformat_minor": 1
}
